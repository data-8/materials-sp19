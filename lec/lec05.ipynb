{
 "cells": [
  {
   "cell_type": "code",
   "execution_count": 1,
   "metadata": {
    "collapsed": true
   },
   "outputs": [],
   "source": [
    "from datascience import *\n",
    "import numpy as np\n",
    "\n",
    "%matplotlib inline\n",
    "import matplotlib.pyplot as plots\n",
    "plots.style.use('fivethirtyeight')"
   ]
  },
  {
   "cell_type": "markdown",
   "metadata": {},
   "source": [
    "## Ranges ##"
   ]
  },
  {
   "cell_type": "code",
   "execution_count": 2,
   "metadata": {},
   "outputs": [
    {
     "data": {
      "text/plain": [
       "array([1, 2, 3, 4])"
      ]
     },
     "execution_count": 2,
     "metadata": {},
     "output_type": "execute_result"
    }
   ],
   "source": [
    "np.array([1, 2, 3, 4])"
   ]
  },
  {
   "cell_type": "code",
   "execution_count": 3,
   "metadata": {},
   "outputs": [
    {
     "data": {
      "text/plain": [
       "array([1, 2, 3, 4])"
      ]
     },
     "execution_count": 3,
     "metadata": {},
     "output_type": "execute_result"
    }
   ],
   "source": [
    "make_array(1, 2, 3, 4)"
   ]
  },
  {
   "cell_type": "code",
   "execution_count": 4,
   "metadata": {},
   "outputs": [
    {
     "data": {
      "text/plain": [
       "array([0, 1, 2, 3])"
      ]
     },
     "execution_count": 4,
     "metadata": {},
     "output_type": "execute_result"
    }
   ],
   "source": [
    "np.arange(4)"
   ]
  },
  {
   "cell_type": "code",
   "execution_count": 5,
   "metadata": {},
   "outputs": [
    {
     "data": {
      "text/plain": [
       "array([5, 6, 7, 8, 9])"
      ]
     },
     "execution_count": 5,
     "metadata": {},
     "output_type": "execute_result"
    }
   ],
   "source": [
    "np.arange(5, 10)"
   ]
  },
  {
   "cell_type": "code",
   "execution_count": 7,
   "metadata": {},
   "outputs": [
    {
     "data": {
      "text/plain": [
       "array([ 5, 10, 15, 20])"
      ]
     },
     "execution_count": 7,
     "metadata": {},
     "output_type": "execute_result"
    }
   ],
   "source": [
    "np.arange(5,25,5)"
   ]
  },
  {
   "cell_type": "code",
   "execution_count": 8,
   "metadata": {},
   "outputs": [
    {
     "data": {
      "text/plain": [
       "array([ 5, 10, 15, 20, 25])"
      ]
     },
     "execution_count": 8,
     "metadata": {},
     "output_type": "execute_result"
    }
   ],
   "source": [
    "np.arange(5,26,5)"
   ]
  },
  {
   "cell_type": "code",
   "execution_count": 10,
   "metadata": {},
   "outputs": [
    {
     "data": {
      "text/plain": [
       "array([  5.,  10.,  15.,  20.])"
      ]
     },
     "execution_count": 10,
     "metadata": {},
     "output_type": "execute_result"
    }
   ],
   "source": [
    "np.arange(5,25,5.0)"
   ]
  },
  {
   "cell_type": "code",
   "execution_count": 11,
   "metadata": {
    "collapsed": true
   },
   "outputs": [],
   "source": [
    "a = np.arange(5,10)"
   ]
  },
  {
   "cell_type": "code",
   "execution_count": 12,
   "metadata": {},
   "outputs": [
    {
     "data": {
      "text/plain": [
       "array([5, 6, 7, 8, 9])"
      ]
     },
     "execution_count": 12,
     "metadata": {},
     "output_type": "execute_result"
    }
   ],
   "source": [
    "a"
   ]
  },
  {
   "cell_type": "code",
   "execution_count": 16,
   "metadata": {},
   "outputs": [
    {
     "ename": "IndexError",
     "evalue": "index 5 is out of bounds for axis 0 with size 5",
     "output_type": "error",
     "traceback": [
      "\u001b[0;31m---------------------------------------------------------------------------\u001b[0m",
      "\u001b[0;31mIndexError\u001b[0m                                Traceback (most recent call last)",
      "\u001b[0;32m<ipython-input-16-725cea910cb7>\u001b[0m in \u001b[0;36m<module>\u001b[0;34m()\u001b[0m\n\u001b[0;32m----> 1\u001b[0;31m \u001b[0ma\u001b[0m\u001b[0;34m.\u001b[0m\u001b[0mitem\u001b[0m\u001b[0;34m(\u001b[0m\u001b[0;36m5\u001b[0m\u001b[0;34m)\u001b[0m\u001b[0;34m\u001b[0m\u001b[0m\n\u001b[0m",
      "\u001b[0;31mIndexError\u001b[0m: index 5 is out of bounds for axis 0 with size 5"
     ]
    }
   ],
   "source": [
    "a.item(5)"
   ]
  },
  {
   "cell_type": "code",
   "execution_count": null,
   "metadata": {
    "collapsed": true
   },
   "outputs": [],
   "source": []
  },
  {
   "cell_type": "code",
   "execution_count": null,
   "metadata": {
    "collapsed": true
   },
   "outputs": [],
   "source": []
  },
  {
   "cell_type": "code",
   "execution_count": null,
   "metadata": {
    "collapsed": true
   },
   "outputs": [],
   "source": []
  },
  {
   "cell_type": "markdown",
   "metadata": {},
   "source": [
    "## Creating a Table from Scratch ##"
   ]
  },
  {
   "cell_type": "code",
   "execution_count": 17,
   "metadata": {
    "collapsed": true
   },
   "outputs": [],
   "source": [
    "streets = make_array('Bancroft', 'Durant', 'Channing', 'Haste')"
   ]
  },
  {
   "cell_type": "code",
   "execution_count": 18,
   "metadata": {},
   "outputs": [
    {
     "data": {
      "text/plain": [
       "array(['Bancroft', 'Durant', 'Channing', 'Haste'],\n",
       "      dtype='<U8')"
      ]
     },
     "execution_count": 18,
     "metadata": {},
     "output_type": "execute_result"
    }
   ],
   "source": [
    "streets"
   ]
  },
  {
   "cell_type": "code",
   "execution_count": 19,
   "metadata": {},
   "outputs": [
    {
     "data": {
      "text/html": [
       "<table border=\"1\" class=\"dataframe\">\n",
       "    <thead>\n",
       "        <tr>\n",
       "            \n",
       "        </tr>\n",
       "    </thead>\n",
       "    <tbody>\n",
       "    </tbody>\n",
       "</table>"
      ],
      "text/plain": []
     },
     "execution_count": 19,
     "metadata": {},
     "output_type": "execute_result"
    }
   ],
   "source": [
    "Table()"
   ]
  },
  {
   "cell_type": "code",
   "execution_count": 22,
   "metadata": {},
   "outputs": [
    {
     "data": {
      "text/html": [
       "<table border=\"1\" class=\"dataframe\">\n",
       "    <thead>\n",
       "        <tr>\n",
       "            <th>Street name</th>\n",
       "        </tr>\n",
       "    </thead>\n",
       "    <tbody>\n",
       "        <tr>\n",
       "            <td>Bancroft   </td>\n",
       "        </tr>\n",
       "        <tr>\n",
       "            <td>Durant     </td>\n",
       "        </tr>\n",
       "        <tr>\n",
       "            <td>Channing   </td>\n",
       "        </tr>\n",
       "        <tr>\n",
       "            <td>Haste      </td>\n",
       "        </tr>\n",
       "    </tbody>\n",
       "</table>"
      ],
      "text/plain": [
       "Street name\n",
       "Bancroft\n",
       "Durant\n",
       "Channing\n",
       "Haste"
      ]
     },
     "execution_count": 22,
     "metadata": {},
     "output_type": "execute_result"
    }
   ],
   "source": [
    "southside = Table().with_column('Street name', streets)\n",
    "southside"
   ]
  },
  {
   "cell_type": "code",
   "execution_count": 28,
   "metadata": {},
   "outputs": [
    {
     "data": {
      "text/html": [
       "<table border=\"1\" class=\"dataframe\">\n",
       "    <thead>\n",
       "        <tr>\n",
       "            <th>Street name</th> <th>Blocks away from campus</th>\n",
       "        </tr>\n",
       "    </thead>\n",
       "    <tbody>\n",
       "        <tr>\n",
       "            <td>Bancroft   </td> <td>0                      </td>\n",
       "        </tr>\n",
       "        <tr>\n",
       "            <td>Durant     </td> <td>1                      </td>\n",
       "        </tr>\n",
       "        <tr>\n",
       "            <td>Channing   </td> <td>2                      </td>\n",
       "        </tr>\n",
       "        <tr>\n",
       "            <td>Haste      </td> <td>3                      </td>\n",
       "        </tr>\n",
       "    </tbody>\n",
       "</table>"
      ],
      "text/plain": [
       "Street name | Blocks away from campus\n",
       "Bancroft    | 0\n",
       "Durant      | 1\n",
       "Channing    | 2\n",
       "Haste       | 3"
      ]
     },
     "execution_count": 28,
     "metadata": {},
     "output_type": "execute_result"
    }
   ],
   "source": [
    "southside = southside.with_column('Blocks away from campus', np.arange(4))\n",
    "southside"
   ]
  },
  {
   "cell_type": "code",
   "execution_count": 29,
   "metadata": {},
   "outputs": [
    {
     "data": {
      "text/html": [
       "<table border=\"1\" class=\"dataframe\">\n",
       "    <thead>\n",
       "        <tr>\n",
       "            <th>Street name</th> <th>Blocks away from campus</th>\n",
       "        </tr>\n",
       "    </thead>\n",
       "    <tbody>\n",
       "        <tr>\n",
       "            <td>Bancroft   </td> <td>0                      </td>\n",
       "        </tr>\n",
       "        <tr>\n",
       "            <td>Channing   </td> <td>2                      </td>\n",
       "        </tr>\n",
       "        <tr>\n",
       "            <td>Durant     </td> <td>1                      </td>\n",
       "        </tr>\n",
       "        <tr>\n",
       "            <td>Haste      </td> <td>3                      </td>\n",
       "        </tr>\n",
       "    </tbody>\n",
       "</table>"
      ],
      "text/plain": [
       "Street name | Blocks away from campus\n",
       "Bancroft    | 0\n",
       "Channing    | 2\n",
       "Durant      | 1\n",
       "Haste       | 3"
      ]
     },
     "execution_count": 29,
     "metadata": {},
     "output_type": "execute_result"
    }
   ],
   "source": [
    "southside.sort('Street name')"
   ]
  },
  {
   "cell_type": "code",
   "execution_count": 30,
   "metadata": {},
   "outputs": [
    {
     "data": {
      "text/html": [
       "<table border=\"1\" class=\"dataframe\">\n",
       "    <thead>\n",
       "        <tr>\n",
       "            <th>Street name</th> <th>Blocks away from campus</th>\n",
       "        </tr>\n",
       "    </thead>\n",
       "    <tbody>\n",
       "        <tr>\n",
       "            <td>Bancroft   </td> <td>0                      </td>\n",
       "        </tr>\n",
       "        <tr>\n",
       "            <td>Durant     </td> <td>1                      </td>\n",
       "        </tr>\n",
       "        <tr>\n",
       "            <td>Channing   </td> <td>2                      </td>\n",
       "        </tr>\n",
       "        <tr>\n",
       "            <td>Haste      </td> <td>3                      </td>\n",
       "        </tr>\n",
       "    </tbody>\n",
       "</table>"
      ],
      "text/plain": [
       "Street name | Blocks away from campus\n",
       "Bancroft    | 0\n",
       "Durant      | 1\n",
       "Channing    | 2\n",
       "Haste       | 3"
      ]
     },
     "execution_count": 30,
     "metadata": {},
     "output_type": "execute_result"
    }
   ],
   "source": [
    "southside"
   ]
  },
  {
   "cell_type": "code",
   "execution_count": 31,
   "metadata": {},
   "outputs": [
    {
     "data": {
      "text/html": [
       "<table border=\"1\" class=\"dataframe\">\n",
       "    <thead>\n",
       "        <tr>\n",
       "            <th>Blocks away from campus</th> <th>Street name</th>\n",
       "        </tr>\n",
       "    </thead>\n",
       "    <tbody>\n",
       "        <tr>\n",
       "            <td>0                      </td> <td>Bancroft   </td>\n",
       "        </tr>\n",
       "        <tr>\n",
       "            <td>1                      </td> <td>Durant     </td>\n",
       "        </tr>\n",
       "        <tr>\n",
       "            <td>2                      </td> <td>Channing   </td>\n",
       "        </tr>\n",
       "        <tr>\n",
       "            <td>3                      </td> <td>Haste      </td>\n",
       "        </tr>\n",
       "    </tbody>\n",
       "</table>"
      ],
      "text/plain": [
       "Blocks away from campus | Street name\n",
       "0                       | Bancroft\n",
       "1                       | Durant\n",
       "2                       | Channing\n",
       "3                       | Haste"
      ]
     },
     "execution_count": 31,
     "metadata": {},
     "output_type": "execute_result"
    }
   ],
   "source": [
    "southside.move_to_start('Blocks away from campus')"
   ]
  },
  {
   "cell_type": "code",
   "execution_count": 32,
   "metadata": {},
   "outputs": [
    {
     "data": {
      "text/html": [
       "<table border=\"1\" class=\"dataframe\">\n",
       "    <thead>\n",
       "        <tr>\n",
       "            <th>Blocks away from campus</th> <th>Street name</th>\n",
       "        </tr>\n",
       "    </thead>\n",
       "    <tbody>\n",
       "        <tr>\n",
       "            <td>0                      </td> <td>Bancroft   </td>\n",
       "        </tr>\n",
       "        <tr>\n",
       "            <td>1                      </td> <td>Durant     </td>\n",
       "        </tr>\n",
       "        <tr>\n",
       "            <td>2                      </td> <td>Channing   </td>\n",
       "        </tr>\n",
       "        <tr>\n",
       "            <td>3                      </td> <td>Haste      </td>\n",
       "        </tr>\n",
       "    </tbody>\n",
       "</table>"
      ],
      "text/plain": [
       "Blocks away from campus | Street name\n",
       "0                       | Bancroft\n",
       "1                       | Durant\n",
       "2                       | Channing\n",
       "3                       | Haste"
      ]
     },
     "execution_count": 32,
     "metadata": {},
     "output_type": "execute_result"
    }
   ],
   "source": [
    "southside"
   ]
  },
  {
   "cell_type": "code",
   "execution_count": 33,
   "metadata": {},
   "outputs": [
    {
     "data": {
      "text/plain": [
       "('Blocks away from campus', 'Street name')"
      ]
     },
     "execution_count": 33,
     "metadata": {},
     "output_type": "execute_result"
    }
   ],
   "source": [
    "southside.labels"
   ]
  },
  {
   "cell_type": "code",
   "execution_count": 34,
   "metadata": {},
   "outputs": [
    {
     "data": {
      "text/plain": [
       "2"
      ]
     },
     "execution_count": 34,
     "metadata": {},
     "output_type": "execute_result"
    }
   ],
   "source": [
    "southside.num_columns"
   ]
  },
  {
   "cell_type": "code",
   "execution_count": 35,
   "metadata": {},
   "outputs": [
    {
     "data": {
      "text/plain": [
       "4"
      ]
     },
     "execution_count": 35,
     "metadata": {},
     "output_type": "execute_result"
    }
   ],
   "source": [
    "southside.num_rows"
   ]
  },
  {
   "cell_type": "code",
   "execution_count": 36,
   "metadata": {},
   "outputs": [
    {
     "data": {
      "text/html": [
       "<table border=\"1\" class=\"dataframe\">\n",
       "    <thead>\n",
       "        <tr>\n",
       "            <th>Street names</th> <th>Blocks</th>\n",
       "        </tr>\n",
       "    </thead>\n",
       "    <tbody>\n",
       "        <tr>\n",
       "            <td>Bancroft    </td> <td>0     </td>\n",
       "        </tr>\n",
       "        <tr>\n",
       "            <td>Durant      </td> <td>1     </td>\n",
       "        </tr>\n",
       "        <tr>\n",
       "            <td>Channing    </td> <td>2     </td>\n",
       "        </tr>\n",
       "        <tr>\n",
       "            <td>Haste       </td> <td>3     </td>\n",
       "        </tr>\n",
       "    </tbody>\n",
       "</table>"
      ],
      "text/plain": [
       "Street names | Blocks\n",
       "Bancroft     | 0\n",
       "Durant       | 1\n",
       "Channing     | 2\n",
       "Haste        | 3"
      ]
     },
     "execution_count": 36,
     "metadata": {},
     "output_type": "execute_result"
    }
   ],
   "source": [
    "Table().with_columns(\n",
    "    'Street names', streets,\n",
    "    'Blocks', np.arange(4)\n",
    ")"
   ]
  },
  {
   "cell_type": "code",
   "execution_count": null,
   "metadata": {
    "collapsed": true
   },
   "outputs": [],
   "source": []
  },
  {
   "cell_type": "code",
   "execution_count": null,
   "metadata": {
    "collapsed": true
   },
   "outputs": [],
   "source": []
  },
  {
   "cell_type": "code",
   "execution_count": null,
   "metadata": {
    "collapsed": true
   },
   "outputs": [],
   "source": []
  },
  {
   "cell_type": "code",
   "execution_count": null,
   "metadata": {
    "collapsed": true
   },
   "outputs": [],
   "source": []
  },
  {
   "cell_type": "code",
   "execution_count": null,
   "metadata": {
    "collapsed": true
   },
   "outputs": [],
   "source": []
  },
  {
   "cell_type": "code",
   "execution_count": null,
   "metadata": {
    "collapsed": true
   },
   "outputs": [],
   "source": []
  },
  {
   "cell_type": "markdown",
   "metadata": {},
   "source": [
    "## Reading a Table from a File  ##"
   ]
  },
  {
   "cell_type": "code",
   "execution_count": 38,
   "metadata": {},
   "outputs": [
    {
     "data": {
      "text/html": [
       "<table border=\"1\" class=\"dataframe\">\n",
       "    <thead>\n",
       "        <tr>\n",
       "            <th>Longitude</th> <th>Latitude</th> <th>City</th> <th>Direction</th> <th>Survivors</th>\n",
       "        </tr>\n",
       "    </thead>\n",
       "    <tbody>\n",
       "        <tr>\n",
       "            <td>24       </td> <td>54.9    </td> <td>Kaunas     </td> <td>Advance  </td> <td>340000   </td>\n",
       "        </tr>\n",
       "        <tr>\n",
       "            <td>30.2     </td> <td>55.2    </td> <td>Vitebsk    </td> <td>Advance  </td> <td>175000   </td>\n",
       "        </tr>\n",
       "        <tr>\n",
       "            <td>32       </td> <td>54.8    </td> <td>Smolensk   </td> <td>Advance  </td> <td>145000   </td>\n",
       "        </tr>\n",
       "        <tr>\n",
       "            <td>37.6     </td> <td>55.8    </td> <td>Moscow     </td> <td>Advance  </td> <td>100000   </td>\n",
       "        </tr>\n",
       "        <tr>\n",
       "            <td>34.3     </td> <td>55.2    </td> <td>Vyazma     </td> <td>Retreat  </td> <td>55000    </td>\n",
       "        </tr>\n",
       "        <tr>\n",
       "            <td>32       </td> <td>54.6    </td> <td>Smolensk   </td> <td>Retreat  </td> <td>24000    </td>\n",
       "        </tr>\n",
       "        <tr>\n",
       "            <td>30.4     </td> <td>54.4    </td> <td>Orsha      </td> <td>Retreat  </td> <td>20000    </td>\n",
       "        </tr>\n",
       "        <tr>\n",
       "            <td>26.8     </td> <td>54.3    </td> <td>Maladyechna</td> <td>Retreat  </td> <td>12000    </td>\n",
       "        </tr>\n",
       "        <tr>\n",
       "            <td>24.1     </td> <td>54.4    </td> <td>Kaunas     </td> <td>Retreat  </td> <td>4000     </td>\n",
       "        </tr>\n",
       "    </tbody>\n",
       "</table>"
      ],
      "text/plain": [
       "Longitude | Latitude | City        | Direction | Survivors\n",
       "24        | 54.9     | Kaunas      | Advance   | 340000\n",
       "30.2      | 55.2     | Vitebsk     | Advance   | 175000\n",
       "32        | 54.8     | Smolensk    | Advance   | 145000\n",
       "37.6      | 55.8     | Moscow      | Advance   | 100000\n",
       "34.3      | 55.2     | Vyazma      | Retreat   | 55000\n",
       "32        | 54.6     | Smolensk    | Retreat   | 24000\n",
       "30.4      | 54.4     | Orsha       | Retreat   | 20000\n",
       "26.8      | 54.3     | Maladyechna | Retreat   | 12000\n",
       "24.1      | 54.4     | Kaunas      | Retreat   | 4000"
      ]
     },
     "execution_count": 38,
     "metadata": {},
     "output_type": "execute_result"
    }
   ],
   "source": [
    "minard = Table.read_table('minard.csv')\n",
    "minard"
   ]
  },
  {
   "cell_type": "code",
   "execution_count": 39,
   "metadata": {},
   "outputs": [
    {
     "data": {
      "text/html": [
       "<table border=\"1\" class=\"dataframe\">\n",
       "    <thead>\n",
       "        <tr>\n",
       "            <th>Survivors</th>\n",
       "        </tr>\n",
       "    </thead>\n",
       "    <tbody>\n",
       "        <tr>\n",
       "            <td>340000   </td>\n",
       "        </tr>\n",
       "        <tr>\n",
       "            <td>175000   </td>\n",
       "        </tr>\n",
       "        <tr>\n",
       "            <td>145000   </td>\n",
       "        </tr>\n",
       "        <tr>\n",
       "            <td>100000   </td>\n",
       "        </tr>\n",
       "        <tr>\n",
       "            <td>55000    </td>\n",
       "        </tr>\n",
       "        <tr>\n",
       "            <td>24000    </td>\n",
       "        </tr>\n",
       "        <tr>\n",
       "            <td>20000    </td>\n",
       "        </tr>\n",
       "        <tr>\n",
       "            <td>12000    </td>\n",
       "        </tr>\n",
       "        <tr>\n",
       "            <td>4000     </td>\n",
       "        </tr>\n",
       "    </tbody>\n",
       "</table>"
      ],
      "text/plain": [
       "Survivors\n",
       "340000\n",
       "175000\n",
       "145000\n",
       "100000\n",
       "55000\n",
       "24000\n",
       "20000\n",
       "12000\n",
       "4000"
      ]
     },
     "execution_count": 39,
     "metadata": {},
     "output_type": "execute_result"
    }
   ],
   "source": [
    "minard.select('Survivors')"
   ]
  },
  {
   "cell_type": "code",
   "execution_count": 41,
   "metadata": {
    "collapsed": true
   },
   "outputs": [],
   "source": [
    "survivors = minard.column('Survivors')"
   ]
  },
  {
   "cell_type": "code",
   "execution_count": 43,
   "metadata": {},
   "outputs": [
    {
     "data": {
      "text/plain": [
       "340000"
      ]
     },
     "execution_count": 43,
     "metadata": {},
     "output_type": "execute_result"
    }
   ],
   "source": [
    "initial_count = survivors.item(0)\n",
    "initial_count"
   ]
  },
  {
   "cell_type": "code",
   "execution_count": 44,
   "metadata": {},
   "outputs": [
    {
     "data": {
      "text/plain": [
       "array([ 1.        ,  0.51470588,  0.42647059,  0.29411765,  0.16176471,\n",
       "        0.07058824,  0.05882353,  0.03529412,  0.01176471])"
      ]
     },
     "execution_count": 44,
     "metadata": {},
     "output_type": "execute_result"
    }
   ],
   "source": [
    "survivors / initial_count"
   ]
  },
  {
   "cell_type": "code",
   "execution_count": 45,
   "metadata": {
    "collapsed": true
   },
   "outputs": [],
   "source": [
    "minard = minard.with_column('Percent surviving', survivors / initial_count)"
   ]
  },
  {
   "cell_type": "code",
   "execution_count": 46,
   "metadata": {},
   "outputs": [
    {
     "data": {
      "text/html": [
       "<table border=\"1\" class=\"dataframe\">\n",
       "    <thead>\n",
       "        <tr>\n",
       "            <th>Longitude</th> <th>Latitude</th> <th>City</th> <th>Direction</th> <th>Survivors</th> <th>Percent surviving</th>\n",
       "        </tr>\n",
       "    </thead>\n",
       "    <tbody>\n",
       "        <tr>\n",
       "            <td>24       </td> <td>54.9    </td> <td>Kaunas     </td> <td>Advance  </td> <td>340000   </td> <td>1                </td>\n",
       "        </tr>\n",
       "        <tr>\n",
       "            <td>30.2     </td> <td>55.2    </td> <td>Vitebsk    </td> <td>Advance  </td> <td>175000   </td> <td>0.514706         </td>\n",
       "        </tr>\n",
       "        <tr>\n",
       "            <td>32       </td> <td>54.8    </td> <td>Smolensk   </td> <td>Advance  </td> <td>145000   </td> <td>0.426471         </td>\n",
       "        </tr>\n",
       "        <tr>\n",
       "            <td>37.6     </td> <td>55.8    </td> <td>Moscow     </td> <td>Advance  </td> <td>100000   </td> <td>0.294118         </td>\n",
       "        </tr>\n",
       "        <tr>\n",
       "            <td>34.3     </td> <td>55.2    </td> <td>Vyazma     </td> <td>Retreat  </td> <td>55000    </td> <td>0.161765         </td>\n",
       "        </tr>\n",
       "        <tr>\n",
       "            <td>32       </td> <td>54.6    </td> <td>Smolensk   </td> <td>Retreat  </td> <td>24000    </td> <td>0.0705882        </td>\n",
       "        </tr>\n",
       "        <tr>\n",
       "            <td>30.4     </td> <td>54.4    </td> <td>Orsha      </td> <td>Retreat  </td> <td>20000    </td> <td>0.0588235        </td>\n",
       "        </tr>\n",
       "        <tr>\n",
       "            <td>26.8     </td> <td>54.3    </td> <td>Maladyechna</td> <td>Retreat  </td> <td>12000    </td> <td>0.0352941        </td>\n",
       "        </tr>\n",
       "        <tr>\n",
       "            <td>24.1     </td> <td>54.4    </td> <td>Kaunas     </td> <td>Retreat  </td> <td>4000     </td> <td>0.0117647        </td>\n",
       "        </tr>\n",
       "    </tbody>\n",
       "</table>"
      ],
      "text/plain": [
       "Longitude | Latitude | City        | Direction | Survivors | Percent surviving\n",
       "24        | 54.9     | Kaunas      | Advance   | 340000    | 1\n",
       "30.2      | 55.2     | Vitebsk     | Advance   | 175000    | 0.514706\n",
       "32        | 54.8     | Smolensk    | Advance   | 145000    | 0.426471\n",
       "37.6      | 55.8     | Moscow      | Advance   | 100000    | 0.294118\n",
       "34.3      | 55.2     | Vyazma      | Retreat   | 55000     | 0.161765\n",
       "32        | 54.6     | Smolensk    | Retreat   | 24000     | 0.0705882\n",
       "30.4      | 54.4     | Orsha       | Retreat   | 20000     | 0.0588235\n",
       "26.8      | 54.3     | Maladyechna | Retreat   | 12000     | 0.0352941\n",
       "24.1      | 54.4     | Kaunas      | Retreat   | 4000      | 0.0117647"
      ]
     },
     "execution_count": 46,
     "metadata": {},
     "output_type": "execute_result"
    }
   ],
   "source": [
    "minard"
   ]
  },
  {
   "cell_type": "code",
   "execution_count": 47,
   "metadata": {},
   "outputs": [
    {
     "data": {
      "text/html": [
       "<table border=\"1\" class=\"dataframe\">\n",
       "    <thead>\n",
       "        <tr>\n",
       "            <th>Longitude</th> <th>Latitude</th> <th>City</th> <th>Direction</th> <th>Survivors</th> <th>Percent surviving</th>\n",
       "        </tr>\n",
       "    </thead>\n",
       "    <tbody>\n",
       "        <tr>\n",
       "            <td>24       </td> <td>54.9    </td> <td>Kaunas     </td> <td>Advance  </td> <td>340000   </td> <td>100.00%          </td>\n",
       "        </tr>\n",
       "        <tr>\n",
       "            <td>30.2     </td> <td>55.2    </td> <td>Vitebsk    </td> <td>Advance  </td> <td>175000   </td> <td>51.47%           </td>\n",
       "        </tr>\n",
       "        <tr>\n",
       "            <td>32       </td> <td>54.8    </td> <td>Smolensk   </td> <td>Advance  </td> <td>145000   </td> <td>42.65%           </td>\n",
       "        </tr>\n",
       "        <tr>\n",
       "            <td>37.6     </td> <td>55.8    </td> <td>Moscow     </td> <td>Advance  </td> <td>100000   </td> <td>29.41%           </td>\n",
       "        </tr>\n",
       "        <tr>\n",
       "            <td>34.3     </td> <td>55.2    </td> <td>Vyazma     </td> <td>Retreat  </td> <td>55000    </td> <td>16.18%           </td>\n",
       "        </tr>\n",
       "        <tr>\n",
       "            <td>32       </td> <td>54.6    </td> <td>Smolensk   </td> <td>Retreat  </td> <td>24000    </td> <td>7.06%            </td>\n",
       "        </tr>\n",
       "        <tr>\n",
       "            <td>30.4     </td> <td>54.4    </td> <td>Orsha      </td> <td>Retreat  </td> <td>20000    </td> <td>5.88%            </td>\n",
       "        </tr>\n",
       "        <tr>\n",
       "            <td>26.8     </td> <td>54.3    </td> <td>Maladyechna</td> <td>Retreat  </td> <td>12000    </td> <td>3.53%            </td>\n",
       "        </tr>\n",
       "        <tr>\n",
       "            <td>24.1     </td> <td>54.4    </td> <td>Kaunas     </td> <td>Retreat  </td> <td>4000     </td> <td>1.18%            </td>\n",
       "        </tr>\n",
       "    </tbody>\n",
       "</table>"
      ],
      "text/plain": [
       "Longitude | Latitude | City        | Direction | Survivors | Percent surviving\n",
       "24        | 54.9     | Kaunas      | Advance   | 340000    | 100.00%\n",
       "30.2      | 55.2     | Vitebsk     | Advance   | 175000    | 51.47%\n",
       "32        | 54.8     | Smolensk    | Advance   | 145000    | 42.65%\n",
       "37.6      | 55.8     | Moscow      | Advance   | 100000    | 29.41%\n",
       "34.3      | 55.2     | Vyazma      | Retreat   | 55000     | 16.18%\n",
       "32        | 54.6     | Smolensk    | Retreat   | 24000     | 7.06%\n",
       "30.4      | 54.4     | Orsha       | Retreat   | 20000     | 5.88%\n",
       "26.8      | 54.3     | Maladyechna | Retreat   | 12000     | 3.53%\n",
       "24.1      | 54.4     | Kaunas      | Retreat   | 4000      | 1.18%"
      ]
     },
     "execution_count": 47,
     "metadata": {},
     "output_type": "execute_result"
    }
   ],
   "source": [
    "minard.set_format('Percent surviving', PercentFormatter)"
   ]
  },
  {
   "cell_type": "code",
   "execution_count": 48,
   "metadata": {},
   "outputs": [
    {
     "data": {
      "text/html": [
       "<table border=\"1\" class=\"dataframe\">\n",
       "    <thead>\n",
       "        <tr>\n",
       "            <th>Longitude</th> <th>Latitude</th> <th>City</th> <th>Direction</th> <th>Survivors</th> <th>Percent surviving</th>\n",
       "        </tr>\n",
       "    </thead>\n",
       "    <tbody>\n",
       "        <tr>\n",
       "            <td>24       </td> <td>54.9    </td> <td>Kaunas     </td> <td>Advance  </td> <td>340000   </td> <td>100.00%          </td>\n",
       "        </tr>\n",
       "        <tr>\n",
       "            <td>30.2     </td> <td>55.2    </td> <td>Vitebsk    </td> <td>Advance  </td> <td>175000   </td> <td>51.47%           </td>\n",
       "        </tr>\n",
       "        <tr>\n",
       "            <td>32       </td> <td>54.8    </td> <td>Smolensk   </td> <td>Advance  </td> <td>145000   </td> <td>42.65%           </td>\n",
       "        </tr>\n",
       "        <tr>\n",
       "            <td>37.6     </td> <td>55.8    </td> <td>Moscow     </td> <td>Advance  </td> <td>100000   </td> <td>29.41%           </td>\n",
       "        </tr>\n",
       "        <tr>\n",
       "            <td>34.3     </td> <td>55.2    </td> <td>Vyazma     </td> <td>Retreat  </td> <td>55000    </td> <td>16.18%           </td>\n",
       "        </tr>\n",
       "        <tr>\n",
       "            <td>32       </td> <td>54.6    </td> <td>Smolensk   </td> <td>Retreat  </td> <td>24000    </td> <td>7.06%            </td>\n",
       "        </tr>\n",
       "        <tr>\n",
       "            <td>30.4     </td> <td>54.4    </td> <td>Orsha      </td> <td>Retreat  </td> <td>20000    </td> <td>5.88%            </td>\n",
       "        </tr>\n",
       "        <tr>\n",
       "            <td>26.8     </td> <td>54.3    </td> <td>Maladyechna</td> <td>Retreat  </td> <td>12000    </td> <td>3.53%            </td>\n",
       "        </tr>\n",
       "        <tr>\n",
       "            <td>24.1     </td> <td>54.4    </td> <td>Kaunas     </td> <td>Retreat  </td> <td>4000     </td> <td>1.18%            </td>\n",
       "        </tr>\n",
       "    </tbody>\n",
       "</table>"
      ],
      "text/plain": [
       "Longitude | Latitude | City        | Direction | Survivors | Percent surviving\n",
       "24        | 54.9     | Kaunas      | Advance   | 340000    | 100.00%\n",
       "30.2      | 55.2     | Vitebsk     | Advance   | 175000    | 51.47%\n",
       "32        | 54.8     | Smolensk    | Advance   | 145000    | 42.65%\n",
       "37.6      | 55.8     | Moscow      | Advance   | 100000    | 29.41%\n",
       "34.3      | 55.2     | Vyazma      | Retreat   | 55000     | 16.18%\n",
       "32        | 54.6     | Smolensk    | Retreat   | 24000     | 7.06%\n",
       "30.4      | 54.4     | Orsha       | Retreat   | 20000     | 5.88%\n",
       "26.8      | 54.3     | Maladyechna | Retreat   | 12000     | 3.53%\n",
       "24.1      | 54.4     | Kaunas      | Retreat   | 4000      | 1.18%"
      ]
     },
     "execution_count": 48,
     "metadata": {},
     "output_type": "execute_result"
    }
   ],
   "source": [
    "minard"
   ]
  },
  {
   "cell_type": "code",
   "execution_count": 49,
   "metadata": {},
   "outputs": [
    {
     "data": {
      "text/plain": [
       "array([ 1.        ,  0.51470588,  0.42647059,  0.29411765,  0.16176471,\n",
       "        0.07058824,  0.05882353,  0.03529412,  0.01176471])"
      ]
     },
     "execution_count": 49,
     "metadata": {},
     "output_type": "execute_result"
    }
   ],
   "source": [
    "minard.column('Percent surviving')"
   ]
  },
  {
   "cell_type": "code",
   "execution_count": null,
   "metadata": {
    "collapsed": true
   },
   "outputs": [],
   "source": []
  },
  {
   "cell_type": "code",
   "execution_count": null,
   "metadata": {
    "collapsed": true
   },
   "outputs": [],
   "source": []
  },
  {
   "cell_type": "code",
   "execution_count": null,
   "metadata": {
    "collapsed": true
   },
   "outputs": [],
   "source": []
  },
  {
   "cell_type": "code",
   "execution_count": null,
   "metadata": {
    "collapsed": true
   },
   "outputs": [],
   "source": []
  },
  {
   "cell_type": "code",
   "execution_count": null,
   "metadata": {
    "collapsed": true
   },
   "outputs": [],
   "source": []
  },
  {
   "cell_type": "markdown",
   "metadata": {},
   "source": [
    "## Selecting data in a column ##"
   ]
  },
  {
   "cell_type": "code",
   "execution_count": 50,
   "metadata": {
    "collapsed": true
   },
   "outputs": [],
   "source": [
    "movies = Table.read_table('movies_by_year_with_ticket_price.csv')"
   ]
  },
  {
   "cell_type": "code",
   "execution_count": 52,
   "metadata": {},
   "outputs": [
    {
     "data": {
      "text/html": [
       "<table border=\"1\" class=\"dataframe\">\n",
       "    <thead>\n",
       "        <tr>\n",
       "            <th>Year</th> <th>Average Ticket Price</th> <th>Total Gross</th> <th>Number of Movies</th> <th>#1 Movie</th>\n",
       "        </tr>\n",
       "    </thead>\n",
       "    <tbody>\n",
       "        <tr>\n",
       "            <td>2015</td> <td>8.43                </td> <td>11128.5    </td> <td>702             </td> <td>Star Wars: The Force Awakens</td>\n",
       "        </tr>\n",
       "        <tr>\n",
       "            <td>2014</td> <td>8.17                </td> <td>10360.8    </td> <td>702             </td> <td>American Sniper             </td>\n",
       "        </tr>\n",
       "        <tr>\n",
       "            <td>2013</td> <td>8.13                </td> <td>10923.6    </td> <td>688             </td> <td>Catching Fire               </td>\n",
       "        </tr>\n",
       "    </tbody>\n",
       "</table>\n",
       "<p>... (33 rows omitted)</p>"
      ],
      "text/plain": [
       "<IPython.core.display.HTML object>"
      ]
     },
     "metadata": {},
     "output_type": "display_data"
    }
   ],
   "source": [
    "movies.show(3)"
   ]
  },
  {
   "cell_type": "code",
   "execution_count": 54,
   "metadata": {
    "collapsed": true
   },
   "outputs": [],
   "source": [
    "attendance = movies.column('Total Gross') * (10 ** 6) / movies.column('Average Ticket Price')"
   ]
  },
  {
   "cell_type": "code",
   "execution_count": 56,
   "metadata": {
    "collapsed": true
   },
   "outputs": [],
   "source": [
    "movies = movies.with_column('Estimated Attendance', attendance)"
   ]
  },
  {
   "cell_type": "code",
   "execution_count": 57,
   "metadata": {},
   "outputs": [
    {
     "data": {
      "text/html": [
       "<table border=\"1\" class=\"dataframe\">\n",
       "    <thead>\n",
       "        <tr>\n",
       "            <th>Year</th> <th>Average Ticket Price</th> <th>Total Gross</th> <th>Number of Movies</th> <th>#1 Movie</th> <th>Estimated Attendance</th>\n",
       "        </tr>\n",
       "    </thead>\n",
       "    <tbody>\n",
       "        <tr>\n",
       "            <td>2015</td> <td>8.43                </td> <td>11128.5    </td> <td>702             </td> <td>Star Wars: The Force Awakens</td> <td>1.32011e+09         </td>\n",
       "        </tr>\n",
       "        <tr>\n",
       "            <td>2014</td> <td>8.17                </td> <td>10360.8    </td> <td>702             </td> <td>American Sniper             </td> <td>1.26815e+09         </td>\n",
       "        </tr>\n",
       "        <tr>\n",
       "            <td>2013</td> <td>8.13                </td> <td>10923.6    </td> <td>688             </td> <td>Catching Fire               </td> <td>1.34362e+09         </td>\n",
       "        </tr>\n",
       "        <tr>\n",
       "            <td>2012</td> <td>7.96                </td> <td>10837.4    </td> <td>667             </td> <td>The Avengers                </td> <td>1.36148e+09         </td>\n",
       "        </tr>\n",
       "    </tbody>\n",
       "</table>\n",
       "<p>... (32 rows omitted)</p>"
      ],
      "text/plain": [
       "<IPython.core.display.HTML object>"
      ]
     },
     "metadata": {},
     "output_type": "display_data"
    }
   ],
   "source": [
    "movies.show(4)"
   ]
  },
  {
   "cell_type": "code",
   "execution_count": 58,
   "metadata": {},
   "outputs": [
    {
     "data": {
      "text/html": [
       "<table border=\"1\" class=\"dataframe\">\n",
       "    <thead>\n",
       "        <tr>\n",
       "            <th>Year</th> <th>Average Ticket Price</th> <th>Total Gross</th> <th>Number of Movies</th> <th>#1 Movie</th> <th>Estimated Attendance</th>\n",
       "        </tr>\n",
       "    </thead>\n",
       "    <tbody>\n",
       "        <tr>\n",
       "            <td>2015</td> <td>8.43                </td> <td>11128.5    </td> <td>702             </td> <td>Star Wars: The Force Awakens       </td> <td>1,320,106,761.57    </td>\n",
       "        </tr>\n",
       "        <tr>\n",
       "            <td>2014</td> <td>8.17                </td> <td>10360.8    </td> <td>702             </td> <td>American Sniper                    </td> <td>1,268,151,774.79    </td>\n",
       "        </tr>\n",
       "        <tr>\n",
       "            <td>2013</td> <td>8.13                </td> <td>10923.6    </td> <td>688             </td> <td>Catching Fire                      </td> <td>1,343,616,236.16    </td>\n",
       "        </tr>\n",
       "        <tr>\n",
       "            <td>2012</td> <td>7.96                </td> <td>10837.4    </td> <td>667             </td> <td>The Avengers                       </td> <td>1,361,482,412.06    </td>\n",
       "        </tr>\n",
       "        <tr>\n",
       "            <td>2011</td> <td>7.93                </td> <td>10174.3    </td> <td>602             </td> <td>Harry Potter / Deathly Hallows (P2)</td> <td>1,283,013,871.37    </td>\n",
       "        </tr>\n",
       "        <tr>\n",
       "            <td>2010</td> <td>7.89                </td> <td>10565.6    </td> <td>536             </td> <td>Toy Story 3                        </td> <td>1,339,112,801.01    </td>\n",
       "        </tr>\n",
       "        <tr>\n",
       "            <td>2009</td> <td>7.5                 </td> <td>10595.5    </td> <td>521             </td> <td>Avatar                             </td> <td>1,412,733,333.33    </td>\n",
       "        </tr>\n",
       "        <tr>\n",
       "            <td>2008</td> <td>7.18                </td> <td>9630.7     </td> <td>608             </td> <td>The Dark Knight                    </td> <td>1,341,323,119.78    </td>\n",
       "        </tr>\n",
       "        <tr>\n",
       "            <td>2007</td> <td>6.88                </td> <td>9663.8     </td> <td>631             </td> <td>Spider-Man 3                       </td> <td>1,404,622,093.02    </td>\n",
       "        </tr>\n",
       "        <tr>\n",
       "            <td>2006</td> <td>6.55                </td> <td>9209.5     </td> <td>608             </td> <td>Dead Man's Chest                   </td> <td>1,406,030,534.35    </td>\n",
       "        </tr>\n",
       "    </tbody>\n",
       "</table>\n",
       "<p>... (26 rows omitted)</p>"
      ],
      "text/plain": [
       "Year | Average Ticket Price | Total Gross | Number of Movies | #1 Movie                            | Estimated Attendance\n",
       "2015 | 8.43                 | 11128.5     | 702              | Star Wars: The Force Awakens        | 1,320,106,761.57\n",
       "2014 | 8.17                 | 10360.8     | 702              | American Sniper                     | 1,268,151,774.79\n",
       "2013 | 8.13                 | 10923.6     | 688              | Catching Fire                       | 1,343,616,236.16\n",
       "2012 | 7.96                 | 10837.4     | 667              | The Avengers                        | 1,361,482,412.06\n",
       "2011 | 7.93                 | 10174.3     | 602              | Harry Potter / Deathly Hallows (P2) | 1,283,013,871.37\n",
       "2010 | 7.89                 | 10565.6     | 536              | Toy Story 3                         | 1,339,112,801.01\n",
       "2009 | 7.5                  | 10595.5     | 521              | Avatar                              | 1,412,733,333.33\n",
       "2008 | 7.18                 | 9630.7      | 608              | The Dark Knight                     | 1,341,323,119.78\n",
       "2007 | 6.88                 | 9663.8      | 631              | Spider-Man 3                        | 1,404,622,093.02\n",
       "2006 | 6.55                 | 9209.5      | 608              | Dead Man's Chest                    | 1,406,030,534.35\n",
       "... (26 rows omitted)"
      ]
     },
     "execution_count": 58,
     "metadata": {},
     "output_type": "execute_result"
    }
   ],
   "source": [
    "movies.set_format('Estimated Attendance', NumberFormatter)"
   ]
  },
  {
   "cell_type": "code",
   "execution_count": 60,
   "metadata": {},
   "outputs": [
    {
     "data": {
      "image/png": "[encoded data removed]",
      "text/plain": [
       "<matplotlib.figure.Figure at 0x1a12aaea58>"
      ]
     },
     "metadata": {},
     "output_type": "display_data"
    }
   ],
   "source": [
    "movies.plot('Year', 'Estimated Attendance')"
   ]
  },
  {
   "cell_type": "code",
   "execution_count": 62,
   "metadata": {},
   "outputs": [
    {
     "data": {
      "text/html": [
       "<table border=\"1\" class=\"dataframe\">\n",
       "    <thead>\n",
       "        <tr>\n",
       "            <th>Year</th> <th>Average Ticket Price</th> <th>Total Gross</th> <th>Number of Movies</th> <th>#1 Movie</th> <th>Estimated Attendance</th>\n",
       "        </tr>\n",
       "    </thead>\n",
       "    <tbody>\n",
       "        <tr>\n",
       "            <td>2004</td> <td>6.21                </td> <td>9380.5     </td> <td>551             </td> <td>Shrek 2                        </td> <td>1,510,547,504.03    </td>\n",
       "        </tr>\n",
       "        <tr>\n",
       "            <td>2003</td> <td>6.03                </td> <td>9239.7     </td> <td>506             </td> <td>Return of the King             </td> <td>1,532,288,557.21    </td>\n",
       "        </tr>\n",
       "        <tr>\n",
       "            <td>2002</td> <td>5.8                 </td> <td>9155       </td> <td>479             </td> <td>Spider-Man                     </td> <td>1,578,448,275.86    </td>\n",
       "        </tr>\n",
       "        <tr>\n",
       "            <td>2001</td> <td>5.65                </td> <td>8412.5     </td> <td>482             </td> <td>Harry Potter / Sorcerer's Stone</td> <td>1,488,938,053.10    </td>\n",
       "        </tr>\n",
       "        <tr>\n",
       "            <td>2000</td> <td>5.39                </td> <td>7661       </td> <td>478             </td> <td>The Grinch                     </td> <td>1,421,335,807.05    </td>\n",
       "        </tr>\n",
       "    </tbody>\n",
       "</table>"
      ],
      "text/plain": [
       "Year | Average Ticket Price | Total Gross | Number of Movies | #1 Movie                        | Estimated Attendance\n",
       "2004 | 6.21                 | 9380.5      | 551              | Shrek 2                         | 1,510,547,504.03\n",
       "2003 | 6.03                 | 9239.7      | 506              | Return of the King              | 1,532,288,557.21\n",
       "2002 | 5.8                  | 9155        | 479              | Spider-Man                      | 1,578,448,275.86\n",
       "2001 | 5.65                 | 8412.5      | 482              | Harry Potter / Sorcerer's Stone | 1,488,938,053.10\n",
       "2000 | 5.39                 | 7661        | 478              | The Grinch                      | 1,421,335,807.05"
      ]
     },
     "execution_count": 62,
     "metadata": {},
     "output_type": "execute_result"
    }
   ],
   "source": [
    "movies.where('Year', are.between(2000, 2005))"
   ]
  },
  {
   "cell_type": "code",
   "execution_count": 63,
   "metadata": {},
   "outputs": [
    {
     "data": {
      "text/html": [
       "<table border=\"1\" class=\"dataframe\">\n",
       "    <thead>\n",
       "        <tr>\n",
       "            <th>Year</th> <th>Average Ticket Price</th> <th>Total Gross</th> <th>Number of Movies</th> <th>#1 Movie</th> <th>Estimated Attendance</th>\n",
       "        </tr>\n",
       "    </thead>\n",
       "    <tbody>\n",
       "        <tr>\n",
       "            <td>2002</td> <td>5.8                 </td> <td>9155       </td> <td>479             </td> <td>Spider-Man</td> <td>1,578,448,275.86    </td>\n",
       "        </tr>\n",
       "    </tbody>\n",
       "</table>"
      ],
      "text/plain": [
       "Year | Average Ticket Price | Total Gross | Number of Movies | #1 Movie   | Estimated Attendance\n",
       "2002 | 5.8                  | 9155        | 479              | Spider-Man | 1,578,448,275.86"
      ]
     },
     "execution_count": 63,
     "metadata": {},
     "output_type": "execute_result"
    }
   ],
   "source": [
    "movies.where('Year', are.equal_to(2002))"
   ]
  },
  {
   "cell_type": "code",
   "execution_count": 64,
   "metadata": {},
   "outputs": [
    {
     "data": {
      "text/html": [
       "<table border=\"1\" class=\"dataframe\">\n",
       "    <thead>\n",
       "        <tr>\n",
       "            <th>Year</th> <th>Average Ticket Price</th> <th>Total Gross</th> <th>Number of Movies</th> <th>#1 Movie</th> <th>Estimated Attendance</th>\n",
       "        </tr>\n",
       "    </thead>\n",
       "    <tbody>\n",
       "        <tr>\n",
       "            <td>2002</td> <td>5.8                 </td> <td>9155       </td> <td>479             </td> <td>Spider-Man</td> <td>1,578,448,275.86    </td>\n",
       "        </tr>\n",
       "    </tbody>\n",
       "</table>"
      ],
      "text/plain": [
       "Year | Average Ticket Price | Total Gross | Number of Movies | #1 Movie   | Estimated Attendance\n",
       "2002 | 5.8                  | 9155        | 479              | Spider-Man | 1,578,448,275.86"
      ]
     },
     "execution_count": 64,
     "metadata": {},
     "output_type": "execute_result"
    }
   ],
   "source": [
    "movies.where('Year', 2002)"
   ]
  },
  {
   "cell_type": "code",
   "execution_count": 71,
   "metadata": {},
   "outputs": [
    {
     "data": {
      "text/html": [
       "<table border=\"1\" class=\"dataframe\">\n",
       "    <thead>\n",
       "        <tr>\n",
       "            <th>Year</th> <th>Average Ticket Price</th> <th>Total Gross</th> <th>Number of Movies</th> <th>#1 Movie</th> <th>Attendance</th>\n",
       "        </tr>\n",
       "    </thead>\n",
       "    <tbody>\n",
       "        <tr>\n",
       "            <td>2015</td> <td>8.43                </td> <td>11128.5    </td> <td>702             </td> <td>Star Wars: The Force Awakens       </td> <td>1,320,106,761.57</td>\n",
       "        </tr>\n",
       "        <tr>\n",
       "            <td>2014</td> <td>8.17                </td> <td>10360.8    </td> <td>702             </td> <td>American Sniper                    </td> <td>1,268,151,774.79</td>\n",
       "        </tr>\n",
       "        <tr>\n",
       "            <td>2013</td> <td>8.13                </td> <td>10923.6    </td> <td>688             </td> <td>Catching Fire                      </td> <td>1,343,616,236.16</td>\n",
       "        </tr>\n",
       "        <tr>\n",
       "            <td>2012</td> <td>7.96                </td> <td>10837.4    </td> <td>667             </td> <td>The Avengers                       </td> <td>1,361,482,412.06</td>\n",
       "        </tr>\n",
       "        <tr>\n",
       "            <td>2011</td> <td>7.93                </td> <td>10174.3    </td> <td>602             </td> <td>Harry Potter / Deathly Hallows (P2)</td> <td>1,283,013,871.37</td>\n",
       "        </tr>\n",
       "        <tr>\n",
       "            <td>2010</td> <td>7.89                </td> <td>10565.6    </td> <td>536             </td> <td>Toy Story 3                        </td> <td>1,339,112,801.01</td>\n",
       "        </tr>\n",
       "        <tr>\n",
       "            <td>2009</td> <td>7.5                 </td> <td>10595.5    </td> <td>521             </td> <td>Avatar                             </td> <td>1,412,733,333.33</td>\n",
       "        </tr>\n",
       "        <tr>\n",
       "            <td>2008</td> <td>7.18                </td> <td>9630.7     </td> <td>608             </td> <td>The Dark Knight                    </td> <td>1,341,323,119.78</td>\n",
       "        </tr>\n",
       "        <tr>\n",
       "            <td>2007</td> <td>6.88                </td> <td>9663.8     </td> <td>631             </td> <td>Spider-Man 3                       </td> <td>1,404,622,093.02</td>\n",
       "        </tr>\n",
       "        <tr>\n",
       "            <td>2006</td> <td>6.55                </td> <td>9209.5     </td> <td>608             </td> <td>Dead Man's Chest                   </td> <td>1,406,030,534.35</td>\n",
       "        </tr>\n",
       "    </tbody>\n",
       "</table>\n",
       "<p>... (26 rows omitted)</p>"
      ],
      "text/plain": [
       "Year | Average Ticket Price | Total Gross | Number of Movies | #1 Movie                            | Attendance\n",
       "2015 | 8.43                 | 11128.5     | 702              | Star Wars: The Force Awakens        | 1,320,106,761.57\n",
       "2014 | 8.17                 | 10360.8     | 702              | American Sniper                     | 1,268,151,774.79\n",
       "2013 | 8.13                 | 10923.6     | 688              | Catching Fire                       | 1,343,616,236.16\n",
       "2012 | 7.96                 | 10837.4     | 667              | The Avengers                        | 1,361,482,412.06\n",
       "2011 | 7.93                 | 10174.3     | 602              | Harry Potter / Deathly Hallows (P2) | 1,283,013,871.37\n",
       "2010 | 7.89                 | 10565.6     | 536              | Toy Story 3                         | 1,339,112,801.01\n",
       "2009 | 7.5                  | 10595.5     | 521              | Avatar                              | 1,412,733,333.33\n",
       "2008 | 7.18                 | 9630.7      | 608              | The Dark Knight                     | 1,341,323,119.78\n",
       "2007 | 6.88                 | 9663.8      | 631              | Spider-Man 3                        | 1,404,622,093.02\n",
       "2006 | 6.55                 | 9209.5      | 608              | Dead Man's Chest                    | 1,406,030,534.35\n",
       "... (26 rows omitted)"
      ]
     },
     "execution_count": 71,
     "metadata": {},
     "output_type": "execute_result"
    }
   ],
   "source": [
    "movies"
   ]
  },
  {
   "cell_type": "code",
   "execution_count": 72,
   "metadata": {},
   "outputs": [
    {
     "data": {
      "text/html": [
       "<table border=\"1\" class=\"dataframe\">\n",
       "    <thead>\n",
       "        <tr>\n",
       "            <th>Year</th> <th>Average Ticket Price</th> <th>Total Gross</th> <th>Number of Movies</th> <th>#1 Movie</th> <th>Attendance</th>\n",
       "        </tr>\n",
       "    </thead>\n",
       "    <tbody>\n",
       "        <tr>\n",
       "            <td>2013</td> <td>8.13                </td> <td>10923.6    </td> <td>688             </td> <td>Catching Fire                      </td> <td>1,343,616,236.16</td>\n",
       "        </tr>\n",
       "        <tr>\n",
       "            <td>2012</td> <td>7.96                </td> <td>10837.4    </td> <td>667             </td> <td>The Avengers                       </td> <td>1,361,482,412.06</td>\n",
       "        </tr>\n",
       "        <tr>\n",
       "            <td>2011</td> <td>7.93                </td> <td>10174.3    </td> <td>602             </td> <td>Harry Potter / Deathly Hallows (P2)</td> <td>1,283,013,871.37</td>\n",
       "        </tr>\n",
       "    </tbody>\n",
       "</table>"
      ],
      "text/plain": [
       "Year | Average Ticket Price | Total Gross | Number of Movies | #1 Movie                            | Attendance\n",
       "2013 | 8.13                 | 10923.6     | 688              | Catching Fire                       | 1,343,616,236.16\n",
       "2012 | 7.96                 | 10837.4     | 667              | The Avengers                        | 1,361,482,412.06\n",
       "2011 | 7.93                 | 10174.3     | 602              | Harry Potter / Deathly Hallows (P2) | 1,283,013,871.37"
      ]
     },
     "execution_count": 72,
     "metadata": {},
     "output_type": "execute_result"
    }
   ],
   "source": [
    "movies.take(np.arange(2, 5))"
   ]
  },
  {
   "cell_type": "code",
   "execution_count": 73,
   "metadata": {},
   "outputs": [
    {
     "data": {
      "text/html": [
       "<table border=\"1\" class=\"dataframe\">\n",
       "    <thead>\n",
       "        <tr>\n",
       "            <th>Year</th> <th>Average Ticket Price</th> <th>Total Gross</th> <th>Number of Movies</th> <th>#1 Movie</th> <th>Attendance</th>\n",
       "        </tr>\n",
       "    </thead>\n",
       "    <tbody>\n",
       "        <tr>\n",
       "            <td>2011</td> <td>7.93                </td> <td>10174.3    </td> <td>602             </td> <td>Harry Potter / Deathly Hallows (P2)</td> <td>1,283,013,871.37</td>\n",
       "        </tr>\n",
       "        <tr>\n",
       "            <td>2001</td> <td>5.65                </td> <td>8412.5     </td> <td>482             </td> <td>Harry Potter / Sorcerer's Stone    </td> <td>1,488,938,053.10</td>\n",
       "        </tr>\n",
       "    </tbody>\n",
       "</table>"
      ],
      "text/plain": [
       "Year | Average Ticket Price | Total Gross | Number of Movies | #1 Movie                            | Attendance\n",
       "2011 | 7.93                 | 10174.3     | 602              | Harry Potter / Deathly Hallows (P2) | 1,283,013,871.37\n",
       "2001 | 5.65                 | 8412.5      | 482              | Harry Potter / Sorcerer's Stone     | 1,488,938,053.10"
      ]
     },
     "execution_count": 73,
     "metadata": {},
     "output_type": "execute_result"
    }
   ],
   "source": [
    "movies.where('#1 Movie', are.containing('Potter'))"
   ]
  },
  {
   "cell_type": "code",
   "execution_count": null,
   "metadata": {
    "collapsed": true
   },
   "outputs": [],
   "source": []
  },
  {
   "cell_type": "code",
   "execution_count": null,
   "metadata": {
    "collapsed": true
   },
   "outputs": [],
   "source": []
  },
  {
   "cell_type": "code",
   "execution_count": null,
   "metadata": {
    "collapsed": true
   },
   "outputs": [],
   "source": []
  }
 ],
 "metadata": {
  "kernelspec": {
   "display_name": "Python 3",
   "language": "python",
   "name": "python3"
  },
  "language_info": {
   "codemirror_mode": {
    "name": "ipython",
    "version": 3
   },
   "file_extension": ".py",
   "mimetype": "text/x-python",
   "name": "python",
   "nbconvert_exporter": "python",
   "pygments_lexer": "ipython3",
   "version": "3.6.3"
  }
 },
 "nbformat": 4,
 "nbformat_minor": 1
}
