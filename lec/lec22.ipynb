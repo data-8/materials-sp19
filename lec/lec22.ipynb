{
 "cells": [
  {
   "cell_type": "code",
   "execution_count": 1,
   "metadata": {},
   "outputs": [],
   "source": [
    "from datascience import *\n",
    "import numpy as np\n",
    "\n",
    "%matplotlib inline\n",
    "import matplotlib.pyplot as plots\n",
    "plots.style.use('fivethirtyeight')\n",
    "from scipy import stats"
   ]
  },
  {
   "cell_type": "markdown",
   "metadata": {},
   "source": [
    "# Pivot #"
   ]
  },
  {
   "cell_type": "code",
   "execution_count": 2,
   "metadata": {},
   "outputs": [],
   "source": [
    "nba = Table.read_table('nba_salaries.csv')\n",
    "nba = nba.relabeled(3, 'SALARY')"
   ]
  },
  {
   "cell_type": "code",
   "execution_count": 3,
   "metadata": {},
   "outputs": [
    {
     "data": {
      "text/html": [
       "<table border=\"1\" class=\"dataframe\">\n",
       "    <thead>\n",
       "        <tr>\n",
       "            <th>PLAYER</th> <th>POSITION</th> <th>TEAM</th> <th>SALARY</th>\n",
       "        </tr>\n",
       "    </thead>\n",
       "    <tbody>\n",
       "        <tr>\n",
       "            <td>Paul Millsap    </td> <td>PF      </td> <td>Atlanta Hawks </td> <td>18.6717 </td>\n",
       "        </tr>\n",
       "        <tr>\n",
       "            <td>Al Horford      </td> <td>C       </td> <td>Atlanta Hawks </td> <td>12      </td>\n",
       "        </tr>\n",
       "        <tr>\n",
       "            <td>Tiago Splitter  </td> <td>C       </td> <td>Atlanta Hawks </td> <td>9.75625 </td>\n",
       "        </tr>\n",
       "        <tr>\n",
       "            <td>Jeff Teague     </td> <td>PG      </td> <td>Atlanta Hawks </td> <td>8       </td>\n",
       "        </tr>\n",
       "        <tr>\n",
       "            <td>Kyle Korver     </td> <td>SG      </td> <td>Atlanta Hawks </td> <td>5.74648 </td>\n",
       "        </tr>\n",
       "        <tr>\n",
       "            <td>Thabo Sefolosha </td> <td>SF      </td> <td>Atlanta Hawks </td> <td>4       </td>\n",
       "        </tr>\n",
       "        <tr>\n",
       "            <td>Mike Scott      </td> <td>PF      </td> <td>Atlanta Hawks </td> <td>3.33333 </td>\n",
       "        </tr>\n",
       "        <tr>\n",
       "            <td>Kent Bazemore   </td> <td>SF      </td> <td>Atlanta Hawks </td> <td>2       </td>\n",
       "        </tr>\n",
       "        <tr>\n",
       "            <td>Dennis Schroder </td> <td>PG      </td> <td>Atlanta Hawks </td> <td>1.7634  </td>\n",
       "        </tr>\n",
       "        <tr>\n",
       "            <td>Tim Hardaway Jr.</td> <td>SG      </td> <td>Atlanta Hawks </td> <td>1.30452 </td>\n",
       "        </tr>\n",
       "        <tr>\n",
       "            <td>Walter Tavares  </td> <td>C       </td> <td>Atlanta Hawks </td> <td>1       </td>\n",
       "        </tr>\n",
       "        <tr>\n",
       "            <td>Jason Richardson</td> <td>SG      </td> <td>Atlanta Hawks </td> <td>0.947276</td>\n",
       "        </tr>\n",
       "        <tr>\n",
       "            <td>Lamar Patterson </td> <td>SG      </td> <td>Atlanta Hawks </td> <td>0.525093</td>\n",
       "        </tr>\n",
       "        <tr>\n",
       "            <td>Terran Petteway </td> <td>SG      </td> <td>Atlanta Hawks </td> <td>0.525093</td>\n",
       "        </tr>\n",
       "        <tr>\n",
       "            <td>Avery Bradley   </td> <td>PG      </td> <td>Boston Celtics</td> <td>7.73034 </td>\n",
       "        </tr>\n",
       "        <tr>\n",
       "            <td>Isaiah Thomas   </td> <td>PG      </td> <td>Boston Celtics</td> <td>6.91287 </td>\n",
       "        </tr>\n",
       "        <tr>\n",
       "            <td>Jae Crowder     </td> <td>SF      </td> <td>Boston Celtics</td> <td>6.79612 </td>\n",
       "        </tr>\n",
       "        <tr>\n",
       "            <td>Jonas Jerebko   </td> <td>PF      </td> <td>Boston Celtics</td> <td>5       </td>\n",
       "        </tr>\n",
       "        <tr>\n",
       "            <td>Marcus Smart    </td> <td>PG      </td> <td>Boston Celtics</td> <td>3.43104 </td>\n",
       "        </tr>\n",
       "        <tr>\n",
       "            <td>Evan Turner     </td> <td>SG      </td> <td>Boston Celtics</td> <td>3.42551 </td>\n",
       "        </tr>\n",
       "    </tbody>\n",
       "</table>\n",
       "<p>... (397 rows omitted)</p>"
      ],
      "text/plain": [
       "<IPython.core.display.HTML object>"
      ]
     },
     "metadata": {},
     "output_type": "display_data"
    }
   ],
   "source": [
    "nba.show(20)"
   ]
  },
  {
   "cell_type": "markdown",
   "metadata": {},
   "source": [
    "Each player has two categorical attributes, Position and Team (actually three, because their name is also categorical). "
   ]
  },
  {
   "cell_type": "code",
   "execution_count": 4,
   "metadata": {},
   "outputs": [
    {
     "data": {
      "text/html": [
       "<table border=\"1\" class=\"dataframe\">\n",
       "    <thead>\n",
       "        <tr>\n",
       "            <th>TEAM</th> <th>C</th> <th>PF</th> <th>PG</th> <th>SF</th> <th>SG</th>\n",
       "        </tr>\n",
       "    </thead>\n",
       "    <tbody>\n",
       "        <tr>\n",
       "            <td>Atlanta Hawks        </td> <td>3   </td> <td>2   </td> <td>2   </td> <td>2   </td> <td>5   </td>\n",
       "        </tr>\n",
       "        <tr>\n",
       "            <td>Boston Celtics       </td> <td>3   </td> <td>2   </td> <td>4   </td> <td>2   </td> <td>4   </td>\n",
       "        </tr>\n",
       "        <tr>\n",
       "            <td>Brooklyn Nets        </td> <td>1   </td> <td>3   </td> <td>2   </td> <td>2   </td> <td>5   </td>\n",
       "        </tr>\n",
       "        <tr>\n",
       "            <td>Charlotte Hornets    </td> <td>3   </td> <td>3   </td> <td>4   </td> <td>2   </td> <td>6   </td>\n",
       "        </tr>\n",
       "        <tr>\n",
       "            <td>Chicago Bulls        </td> <td>2   </td> <td>2   </td> <td>2   </td> <td>2   </td> <td>4   </td>\n",
       "        </tr>\n",
       "        <tr>\n",
       "            <td>Cleveland Cavaliers  </td> <td>4   </td> <td>1   </td> <td>3   </td> <td>1   </td> <td>1   </td>\n",
       "        </tr>\n",
       "        <tr>\n",
       "            <td>Dallas Mavericks     </td> <td>2   </td> <td>2   </td> <td>4   </td> <td>1   </td> <td>2   </td>\n",
       "        </tr>\n",
       "        <tr>\n",
       "            <td>Denver Nuggets       </td> <td>4   </td> <td>2   </td> <td>2   </td> <td>4   </td> <td>2   </td>\n",
       "        </tr>\n",
       "        <tr>\n",
       "            <td>Detroit Pistons      </td> <td>3   </td> <td>0   </td> <td>1   </td> <td>4   </td> <td>2   </td>\n",
       "        </tr>\n",
       "        <tr>\n",
       "            <td>Golden State Warriors</td> <td>3   </td> <td>3   </td> <td>2   </td> <td>4   </td> <td>2   </td>\n",
       "        </tr>\n",
       "    </tbody>\n",
       "</table>\n",
       "<p>... (20 rows omitted)</p>"
      ],
      "text/plain": [
       "TEAM                  | C    | PF   | PG   | SF   | SG\n",
       "Atlanta Hawks         | 3    | 2    | 2    | 2    | 5\n",
       "Boston Celtics        | 3    | 2    | 4    | 2    | 4\n",
       "Brooklyn Nets         | 1    | 3    | 2    | 2    | 5\n",
       "Charlotte Hornets     | 3    | 3    | 4    | 2    | 6\n",
       "Chicago Bulls         | 2    | 2    | 2    | 2    | 4\n",
       "Cleveland Cavaliers   | 4    | 1    | 3    | 1    | 1\n",
       "Dallas Mavericks      | 2    | 2    | 4    | 1    | 2\n",
       "Denver Nuggets        | 4    | 2    | 2    | 4    | 2\n",
       "Detroit Pistons       | 3    | 0    | 1    | 4    | 2\n",
       "Golden State Warriors | 3    | 3    | 2    | 4    | 2\n",
       "... (20 rows omitted)"
      ]
     },
     "execution_count": 4,
     "metadata": {},
     "output_type": "execute_result"
    }
   ],
   "source": [
    "# Count how many players are in each Position/Team pair\n",
    "# Two required arguments:\n",
    "# First is the column label of the attribute \n",
    "# whose values are the column labels of the pivot table\n",
    "# Second is the label for the rows\n",
    "\n",
    "# Each cell contains the number of players in that Position/Team category.\n",
    "# Go back to nba and check that there are 3 Centers in the Atlanta Hawks.\n",
    "\n",
    "nba.pivot('POSITION', 'TEAM')"
   ]
  },
  {
   "cell_type": "code",
   "execution_count": 5,
   "metadata": {},
   "outputs": [
    {
     "data": {
      "text/html": [
       "<table border=\"1\" class=\"dataframe\">\n",
       "    <thead>\n",
       "        <tr>\n",
       "            <th>POSITION</th> <th>Atlanta Hawks</th> <th>Boston Celtics</th> <th>Brooklyn Nets</th> <th>Charlotte Hornets</th> <th>Chicago Bulls</th> <th>Cleveland Cavaliers</th> <th>Dallas Mavericks</th> <th>Denver Nuggets</th> <th>Detroit Pistons</th> <th>Golden State Warriors</th> <th>Houston Rockets</th> <th>Indiana Pacers</th> <th>Los Angeles Clippers</th> <th>Los Angeles Lakers</th> <th>Memphis Grizzlies</th> <th>Miami Heat</th> <th>Milwaukee Bucks</th> <th>Minnesota Timberwolves</th> <th>New Orleans Pelicans</th> <th>New York Knicks</th> <th>Oklahoma City Thunder</th> <th>Orlando Magic</th> <th>Philadelphia 76ers</th> <th>Phoenix Suns</th> <th>Portland Trail Blazers</th> <th>Sacramento Kings</th> <th>San Antonio Spurs</th> <th>Toronto Raptors</th> <th>Utah Jazz</th> <th>Washington Wizards</th>\n",
       "        </tr>\n",
       "    </thead>\n",
       "    <tbody>\n",
       "        <tr>\n",
       "            <td>C       </td> <td>3            </td> <td>3             </td> <td>1            </td> <td>3                </td> <td>2            </td> <td>4                  </td> <td>2               </td> <td>4             </td> <td>3              </td> <td>3                    </td> <td>1              </td> <td>2             </td> <td>1                   </td> <td>2                 </td> <td>2                </td> <td>0         </td> <td>1              </td> <td>3                     </td> <td>3                   </td> <td>1              </td> <td>2                    </td> <td>1            </td> <td>2                 </td> <td>2           </td> <td>3                     </td> <td>3               </td> <td>3                </td> <td>3              </td> <td>3        </td> <td>3                 </td>\n",
       "        </tr>\n",
       "        <tr>\n",
       "            <td>PF      </td> <td>2            </td> <td>2             </td> <td>3            </td> <td>3                </td> <td>2            </td> <td>1                  </td> <td>2               </td> <td>2             </td> <td>0              </td> <td>3                    </td> <td>4              </td> <td>3             </td> <td>2                   </td> <td>4                 </td> <td>7                </td> <td>3         </td> <td>2              </td> <td>3                     </td> <td>3                   </td> <td>4              </td> <td>3                    </td> <td>5            </td> <td>4                 </td> <td>3           </td> <td>3                     </td> <td>0               </td> <td>2                </td> <td>4              </td> <td>3        </td> <td>3                 </td>\n",
       "        </tr>\n",
       "        <tr>\n",
       "            <td>PG      </td> <td>2            </td> <td>4             </td> <td>2            </td> <td>4                </td> <td>2            </td> <td>3                  </td> <td>4               </td> <td>2             </td> <td>1              </td> <td>2                    </td> <td>2              </td> <td>2             </td> <td>3                   </td> <td>1                 </td> <td>4                </td> <td>2         </td> <td>4              </td> <td>3                     </td> <td>4                   </td> <td>3              </td> <td>3                    </td> <td>4            </td> <td>1                 </td> <td>4           </td> <td>1                     </td> <td>2               </td> <td>3                </td> <td>5              </td> <td>5        </td> <td>3                 </td>\n",
       "        </tr>\n",
       "        <tr>\n",
       "            <td>SF      </td> <td>2            </td> <td>2             </td> <td>2            </td> <td>2                </td> <td>2            </td> <td>1                  </td> <td>1               </td> <td>4             </td> <td>4              </td> <td>4                    </td> <td>2              </td> <td>4             </td> <td>2                   </td> <td>3                 </td> <td>4                </td> <td>4         </td> <td>3              </td> <td>2                     </td> <td>3                   </td> <td>3              </td> <td>4                    </td> <td>1            </td> <td>3                 </td> <td>2           </td> <td>2                     </td> <td>3               </td> <td>3                </td> <td>3              </td> <td>3        </td> <td>4                 </td>\n",
       "        </tr>\n",
       "        <tr>\n",
       "            <td>SG      </td> <td>5            </td> <td>4             </td> <td>5            </td> <td>6                </td> <td>4            </td> <td>1                  </td> <td>2               </td> <td>2             </td> <td>2              </td> <td>2                    </td> <td>3              </td> <td>2             </td> <td>5                   </td> <td>1                 </td> <td>4                </td> <td>3         </td> <td>3              </td> <td>2                     </td> <td>3                   </td> <td>2              </td> <td>4                    </td> <td>3            </td> <td>3                 </td> <td>6           </td> <td>5                     </td> <td>3               </td> <td>2                </td> <td>2              </td> <td>3        </td> <td>4                 </td>\n",
       "        </tr>\n",
       "    </tbody>\n",
       "</table>"
      ],
      "text/plain": [
       "POSITION | Atlanta Hawks | Boston Celtics | Brooklyn Nets | Charlotte Hornets | Chicago Bulls | Cleveland Cavaliers | Dallas Mavericks | Denver Nuggets | Detroit Pistons | Golden State Warriors | Houston Rockets | Indiana Pacers | Los Angeles Clippers | Los Angeles Lakers | Memphis Grizzlies | Miami Heat | Milwaukee Bucks | Minnesota Timberwolves | New Orleans Pelicans | New York Knicks | Oklahoma City Thunder | Orlando Magic | Philadelphia 76ers | Phoenix Suns | Portland Trail Blazers | Sacramento Kings | San Antonio Spurs | Toronto Raptors | Utah Jazz | Washington Wizards\n",
       "C        | 3             | 3              | 1             | 3                 | 2             | 4                   | 2                | 4              | 3               | 3                     | 1               | 2              | 1                    | 2                  | 2                 | 0          | 1               | 3                      | 3                    | 1               | 2                     | 1             | 2                  | 2            | 3                      | 3                | 3                 | 3               | 3         | 3\n",
       "PF       | 2             | 2              | 3             | 3                 | 2             | 1                   | 2                | 2              | 0               | 3                     | 4               | 3              | 2                    | 4                  | 7                 | 3          | 2               | 3                      | 3                    | 4               | 3                     | 5             | 4                  | 3            | 3                      | 0                | 2                 | 4               | 3         | 3\n",
       "PG       | 2             | 4              | 2             | 4                 | 2             | 3                   | 4                | 2              | 1               | 2                     | 2               | 2              | 3                    | 1                  | 4                 | 2          | 4               | 3                      | 4                    | 3               | 3                     | 4             | 1                  | 4            | 1                      | 2                | 3                 | 5               | 5         | 3\n",
       "SF       | 2             | 2              | 2             | 2                 | 2             | 1                   | 1                | 4              | 4               | 4                     | 2               | 4              | 2                    | 3                  | 4                 | 4          | 3               | 2                      | 3                    | 3               | 4                     | 1             | 3                  | 2            | 2                      | 3                | 3                 | 3               | 3         | 4\n",
       "SG       | 5             | 4              | 5             | 6                 | 4             | 1                   | 2                | 2              | 2               | 2                     | 3               | 2              | 5                    | 1                  | 4                 | 3          | 3               | 2                      | 3                    | 2               | 4                     | 3             | 3                  | 6            | 5                      | 3                | 2                 | 2               | 3         | 4"
      ]
     },
     "execution_count": 5,
     "metadata": {},
     "output_type": "execute_result"
    }
   ],
   "source": [
    "nba.pivot('TEAM', 'POSITION')"
   ]
  },
  {
   "cell_type": "code",
   "execution_count": 6,
   "metadata": {},
   "outputs": [
    {
     "data": {
      "text/html": [
       "<table border=\"1\" class=\"dataframe\">\n",
       "    <thead>\n",
       "        <tr>\n",
       "            <th>TEAM</th> <th>C</th> <th>PF</th> <th>PG</th> <th>SF</th> <th>SG</th>\n",
       "        </tr>\n",
       "    </thead>\n",
       "    <tbody>\n",
       "        <tr>\n",
       "            <td>Atlanta Hawks        </td> <td>3   </td> <td>2   </td> <td>2   </td> <td>2   </td> <td>5   </td>\n",
       "        </tr>\n",
       "        <tr>\n",
       "            <td>Boston Celtics       </td> <td>3   </td> <td>2   </td> <td>4   </td> <td>2   </td> <td>4   </td>\n",
       "        </tr>\n",
       "        <tr>\n",
       "            <td>Brooklyn Nets        </td> <td>1   </td> <td>3   </td> <td>2   </td> <td>2   </td> <td>5   </td>\n",
       "        </tr>\n",
       "        <tr>\n",
       "            <td>Charlotte Hornets    </td> <td>3   </td> <td>3   </td> <td>4   </td> <td>2   </td> <td>6   </td>\n",
       "        </tr>\n",
       "        <tr>\n",
       "            <td>Chicago Bulls        </td> <td>2   </td> <td>2   </td> <td>2   </td> <td>2   </td> <td>4   </td>\n",
       "        </tr>\n",
       "        <tr>\n",
       "            <td>Cleveland Cavaliers  </td> <td>4   </td> <td>1   </td> <td>3   </td> <td>1   </td> <td>1   </td>\n",
       "        </tr>\n",
       "        <tr>\n",
       "            <td>Dallas Mavericks     </td> <td>2   </td> <td>2   </td> <td>4   </td> <td>1   </td> <td>2   </td>\n",
       "        </tr>\n",
       "        <tr>\n",
       "            <td>Denver Nuggets       </td> <td>4   </td> <td>2   </td> <td>2   </td> <td>4   </td> <td>2   </td>\n",
       "        </tr>\n",
       "        <tr>\n",
       "            <td>Detroit Pistons      </td> <td>3   </td> <td>0   </td> <td>1   </td> <td>4   </td> <td>2   </td>\n",
       "        </tr>\n",
       "        <tr>\n",
       "            <td>Golden State Warriors</td> <td>3   </td> <td>3   </td> <td>2   </td> <td>4   </td> <td>2   </td>\n",
       "        </tr>\n",
       "    </tbody>\n",
       "</table>\n",
       "<p>... (20 rows omitted)</p>"
      ],
      "text/plain": [
       "TEAM                  | C    | PF   | PG   | SF   | SG\n",
       "Atlanta Hawks         | 3    | 2    | 2    | 2    | 5\n",
       "Boston Celtics        | 3    | 2    | 4    | 2    | 4\n",
       "Brooklyn Nets         | 1    | 3    | 2    | 2    | 5\n",
       "Charlotte Hornets     | 3    | 3    | 4    | 2    | 6\n",
       "Chicago Bulls         | 2    | 2    | 2    | 2    | 4\n",
       "Cleveland Cavaliers   | 4    | 1    | 3    | 1    | 1\n",
       "Dallas Mavericks      | 2    | 2    | 4    | 1    | 2\n",
       "Denver Nuggets        | 4    | 2    | 2    | 4    | 2\n",
       "Detroit Pistons       | 3    | 0    | 1    | 4    | 2\n",
       "Golden State Warriors | 3    | 3    | 2    | 4    | 2\n",
       "... (20 rows omitted)"
      ]
     },
     "execution_count": 6,
     "metadata": {},
     "output_type": "execute_result"
    }
   ],
   "source": [
    "# This one is easier to read\n",
    "\n",
    "nba.pivot('POSITION', 'TEAM')"
   ]
  },
  {
   "cell_type": "markdown",
   "metadata": {},
   "source": [
    "Optionally, you can ask pivot to do the following: for each Position/Team combo, find all the **values** of another attribute and **collect** them in some way; display this in the cell.\n",
    "\n",
    "- The `values` argument has to be the column label of the new attribute\n",
    "- The `collect` argument has to be the name of a function"
   ]
  },
  {
   "cell_type": "code",
   "execution_count": 7,
   "metadata": {},
   "outputs": [
    {
     "data": {
      "text/html": [
       "<table border=\"1\" class=\"dataframe\">\n",
       "    <thead>\n",
       "        <tr>\n",
       "            <th>TEAM</th> <th>C</th> <th>PF</th> <th>PG</th> <th>SF</th> <th>SG</th>\n",
       "        </tr>\n",
       "    </thead>\n",
       "    <tbody>\n",
       "        <tr>\n",
       "            <td>Atlanta Hawks        </td> <td>['Al Horford', 'Tiago Splitter', 'Walter Tavares']          </td> <td>['Paul Millsap', 'Mike Scott']                           </td> <td>['Jeff Teague', 'Dennis Schroder']                          </td> <td>['Thabo Sefolosha', 'Kent Bazemore']                        </td> <td>['Kyle Korver', 'Tim Hardaway Jr.', 'Jason Richardson',  ...</td>\n",
       "        </tr>\n",
       "        <tr>\n",
       "            <td>Boston Celtics       </td> <td>['Tyler Zeller', 'Jared Sullinger', 'Kelly Olynyk']         </td> <td>['Jonas Jerebko', 'Jordan Mickey']                       </td> <td>['Avery Bradley', 'Isaiah Thomas', 'Marcus Smart', 'Terr ...</td> <td>['Jae Crowder', 'Perry Jones']                              </td> <td>['Evan Turner', 'James Young', 'Zoran Dragic', 'R.J. Hun ...</td>\n",
       "        </tr>\n",
       "        <tr>\n",
       "            <td>Brooklyn Nets        </td> <td>['Andrea Bargnani']                                         </td> <td>['Thaddeus Young', 'Chris McCullough', 'Thomas Robinson']</td> <td>['Jarrett Jack', 'Shane Larkin']                            </td> <td>['Joe Johnson', 'Earl Clark']                               </td> <td>['Bojan Bogdanovic', 'Sergey Karasev', 'Wayne Ellington' ...</td>\n",
       "        </tr>\n",
       "        <tr>\n",
       "            <td>Charlotte Hornets    </td> <td>['Al Jefferson', 'Cody Zeller', 'Frank Kaminsky III']       </td> <td>['Marvin Williams', 'Spencer Hawes', 'Tyler Hansbrough'] </td> <td>['Kemba Walker', 'Brian Roberts', 'Jeremy Lin', 'Jorge G ...</td> <td>['Michael Kidd-Gilchrist', 'P.J. Hairston']                 </td> <td>['Nicolas Batum', 'Courtney Lee', 'Jeremy Lamb', 'Damien ...</td>\n",
       "        </tr>\n",
       "        <tr>\n",
       "            <td>Chicago Bulls        </td> <td>['Joakim Noah', 'Pau Gasol']                                </td> <td>['Nikola Mirotic', 'Bobby Portis']                       </td> <td>['Derrick Rose', 'Aaron Brooks']                            </td> <td>['Doug McDermott', 'Tony Snell']                            </td> <td>['Jimmy Butler', 'Mike Dunleavy', 'Kirk Hinrich', \"E'Twa ...</td>\n",
       "        </tr>\n",
       "        <tr>\n",
       "            <td>Cleveland Cavaliers  </td> <td>['Tristan Thompson', 'Brendan Haywood', 'Timofey Mozgov' ...</td> <td>['Kevin Love']                                           </td> <td>['Kyrie Irving', 'Mo Williams', 'Matthew Dellavedova']      </td> <td>['LeBron James']                                            </td> <td>['Iman Shumpert']                                           </td>\n",
       "        </tr>\n",
       "        <tr>\n",
       "            <td>Dallas Mavericks     </td> <td>['Zaza Pachulia', 'JaVale McGee']                           </td> <td>['David Lee', 'Dirk Nowitzki']                           </td> <td>['Deron Williams', 'J.J. Barea', 'Devin Harris', 'Raymon ...</td> <td>['Chandler Parsons']                                        </td> <td>['Justin Anderson', 'John Jenkins']                         </td>\n",
       "        </tr>\n",
       "        <tr>\n",
       "            <td>Denver Nuggets       </td> <td>['JJ Hickson', 'Jusuf Nurkic', 'Joffrey Lauvergne', 'Nik ...</td> <td>['Kenneth Faried', 'Darrell Arthur']                     </td> <td>['Jameer Nelson', 'Emmanuel Mudiay']                        </td> <td>['Danilo Gallinari', 'Wilson Chandler', 'Will Barton', ' ...</td> <td>['Gary Harris', 'Sean Kilpatrick']                          </td>\n",
       "        </tr>\n",
       "        <tr>\n",
       "            <td>Detroit Pistons      </td> <td>['Aron Baynes', 'Andre Drummond', 'Joel Anthony']           </td> <td>None                                                     </td> <td>['Reggie Jackson']                                          </td> <td>['Stanley Johnson', 'Danny Granger', 'Reggie Bullock', ' ...</td> <td>['Jodie Meeks', 'Kentavious Caldwell-Pope']                 </td>\n",
       "        </tr>\n",
       "        <tr>\n",
       "            <td>Golden State Warriors</td> <td>['Andrew Bogut', 'Marreese Speights', 'Festus Ezeli']       </td> <td>['Draymond Green', 'Jason Thompson', 'Anderson Varejao'] </td> <td>['Stephen Curry', 'Shaun Livingston']                       </td> <td>['Andre Iguodala', 'Harrison Barnes', 'Brandon Rush', 'K ...</td> <td>['Klay Thompson', 'Leandro Barbosa']                        </td>\n",
       "        </tr>\n",
       "    </tbody>\n",
       "</table>\n",
       "<p>... (20 rows omitted)</p>"
      ],
      "text/plain": [
       "TEAM                  | C                                                            | PF                                                        | PG                                                           | SF                                                           | SG\n",
       "Atlanta Hawks         | ['Al Horford', 'Tiago Splitter', 'Walter Tavares']           | ['Paul Millsap', 'Mike Scott']                            | ['Jeff Teague', 'Dennis Schroder']                           | ['Thabo Sefolosha', 'Kent Bazemore']                         | ['Kyle Korver', 'Tim Hardaway Jr.', 'Jason Richardson',  ...\n",
       "Boston Celtics        | ['Tyler Zeller', 'Jared Sullinger', 'Kelly Olynyk']          | ['Jonas Jerebko', 'Jordan Mickey']                        | ['Avery Bradley', 'Isaiah Thomas', 'Marcus Smart', 'Terr ... | ['Jae Crowder', 'Perry Jones']                               | ['Evan Turner', 'James Young', 'Zoran Dragic', 'R.J. Hun ...\n",
       "Brooklyn Nets         | ['Andrea Bargnani']                                          | ['Thaddeus Young', 'Chris McCullough', 'Thomas Robinson'] | ['Jarrett Jack', 'Shane Larkin']                             | ['Joe Johnson', 'Earl Clark']                                | ['Bojan Bogdanovic', 'Sergey Karasev', 'Wayne Ellington' ...\n",
       "Charlotte Hornets     | ['Al Jefferson', 'Cody Zeller', 'Frank Kaminsky III']        | ['Marvin Williams', 'Spencer Hawes', 'Tyler Hansbrough']  | ['Kemba Walker', 'Brian Roberts', 'Jeremy Lin', 'Jorge G ... | ['Michael Kidd-Gilchrist', 'P.J. Hairston']                  | ['Nicolas Batum', 'Courtney Lee', 'Jeremy Lamb', 'Damien ...\n",
       "Chicago Bulls         | ['Joakim Noah', 'Pau Gasol']                                 | ['Nikola Mirotic', 'Bobby Portis']                        | ['Derrick Rose', 'Aaron Brooks']                             | ['Doug McDermott', 'Tony Snell']                             | ['Jimmy Butler', 'Mike Dunleavy', 'Kirk Hinrich', \"E'Twa ...\n",
       "Cleveland Cavaliers   | ['Tristan Thompson', 'Brendan Haywood', 'Timofey Mozgov' ... | ['Kevin Love']                                            | ['Kyrie Irving', 'Mo Williams', 'Matthew Dellavedova']       | ['LeBron James']                                             | ['Iman Shumpert']\n",
       "Dallas Mavericks      | ['Zaza Pachulia', 'JaVale McGee']                            | ['David Lee', 'Dirk Nowitzki']                            | ['Deron Williams', 'J.J. Barea', 'Devin Harris', 'Raymon ... | ['Chandler Parsons']                                         | ['Justin Anderson', 'John Jenkins']\n",
       "Denver Nuggets        | ['JJ Hickson', 'Jusuf Nurkic', 'Joffrey Lauvergne', 'Nik ... | ['Kenneth Faried', 'Darrell Arthur']                      | ['Jameer Nelson', 'Emmanuel Mudiay']                         | ['Danilo Gallinari', 'Wilson Chandler', 'Will Barton', ' ... | ['Gary Harris', 'Sean Kilpatrick']\n",
       "Detroit Pistons       | ['Aron Baynes', 'Andre Drummond', 'Joel Anthony']            | None                                                      | ['Reggie Jackson']                                           | ['Stanley Johnson', 'Danny Granger', 'Reggie Bullock', ' ... | ['Jodie Meeks', 'Kentavious Caldwell-Pope']\n",
       "Golden State Warriors | ['Andrew Bogut', 'Marreese Speights', 'Festus Ezeli']        | ['Draymond Green', 'Jason Thompson', 'Anderson Varejao']  | ['Stephen Curry', 'Shaun Livingston']                        | ['Andre Iguodala', 'Harrison Barnes', 'Brandon Rush', 'K ... | ['Klay Thompson', 'Leandro Barbosa']\n",
       "... (20 rows omitted)"
      ]
     },
     "execution_count": 7,
     "metadata": {},
     "output_type": "execute_result"
    }
   ],
   "source": [
    "# List the players in each Position/Team combo\n",
    "\n",
    "nba.pivot('POSITION', 'TEAM', values = 'PLAYER', collect = list)"
   ]
  },
  {
   "cell_type": "code",
   "execution_count": 8,
   "metadata": {},
   "outputs": [
    {
     "data": {
      "text/html": [
       "<table border=\"1\" class=\"dataframe\">\n",
       "    <thead>\n",
       "        <tr>\n",
       "            <th>TEAM</th> <th>C</th> <th>PF</th> <th>PG</th> <th>SF</th> <th>SG</th>\n",
       "        </tr>\n",
       "    </thead>\n",
       "    <tbody>\n",
       "        <tr>\n",
       "            <td>Atlanta Hawks        </td> <td>22.7563</td> <td>22.005 </td> <td>9.7634 </td> <td>6      </td> <td>9.04846</td>\n",
       "        </tr>\n",
       "        <tr>\n",
       "            <td>Boston Celtics       </td> <td>7.3514 </td> <td>6.17096</td> <td>19.8986</td> <td>8.83432</td> <td>8.03022</td>\n",
       "        </tr>\n",
       "        <tr>\n",
       "            <td>Brooklyn Nets        </td> <td>1.3629 </td> <td>13.3575</td> <td>7.8    </td> <td>26.0806</td> <td>8.70589</td>\n",
       "        </tr>\n",
       "        <tr>\n",
       "            <td>Charlotte Hornets    </td> <td>20.3167</td> <td>14.0573</td> <td>17.9412</td> <td>7.53284</td> <td>24.2543</td>\n",
       "        </tr>\n",
       "        <tr>\n",
       "            <td>Chicago Bulls        </td> <td>20.8488</td> <td>6.93489</td> <td>22.3431</td> <td>3.91632</td> <td>24.7779</td>\n",
       "        </tr>\n",
       "        <tr>\n",
       "            <td>Cleveland Cavaliers  </td> <td>31.0094</td> <td>19.689 </td> <td>19.6548</td> <td>22.9705</td> <td>8.98876</td>\n",
       "        </tr>\n",
       "        <tr>\n",
       "            <td>Dallas Mavericks     </td> <td>6.47096</td> <td>23.827 </td> <td>17.6727</td> <td>15.3615</td> <td>2.43035</td>\n",
       "        </tr>\n",
       "        <tr>\n",
       "            <td>Denver Nuggets       </td> <td>10.4652</td> <td>14.05  </td> <td>7.44724</td> <td>28.7831</td> <td>1.6839 </td>\n",
       "        </tr>\n",
       "        <tr>\n",
       "            <td>Detroit Pistons      </td> <td>12.2721</td> <td>0      </td> <td>13.913 </td> <td>6.86486</td> <td>9.16176</td>\n",
       "        </tr>\n",
       "        <tr>\n",
       "            <td>Golden State Warriors</td> <td>19.6237</td> <td>21.5591</td> <td>16.9145</td> <td>17.9868</td> <td>18.001 </td>\n",
       "        </tr>\n",
       "    </tbody>\n",
       "</table>\n",
       "<p>... (20 rows omitted)</p>"
      ],
      "text/plain": [
       "TEAM                  | C       | PF      | PG      | SF      | SG\n",
       "Atlanta Hawks         | 22.7563 | 22.005  | 9.7634  | 6       | 9.04846\n",
       "Boston Celtics        | 7.3514  | 6.17096 | 19.8986 | 8.83432 | 8.03022\n",
       "Brooklyn Nets         | 1.3629  | 13.3575 | 7.8     | 26.0806 | 8.70589\n",
       "Charlotte Hornets     | 20.3167 | 14.0573 | 17.9412 | 7.53284 | 24.2543\n",
       "Chicago Bulls         | 20.8488 | 6.93489 | 22.3431 | 3.91632 | 24.7779\n",
       "Cleveland Cavaliers   | 31.0094 | 19.689  | 19.6548 | 22.9705 | 8.98876\n",
       "Dallas Mavericks      | 6.47096 | 23.827  | 17.6727 | 15.3615 | 2.43035\n",
       "Denver Nuggets        | 10.4652 | 14.05   | 7.44724 | 28.7831 | 1.6839\n",
       "Detroit Pistons       | 12.2721 | 0       | 13.913  | 6.86486 | 9.16176\n",
       "Golden State Warriors | 19.6237 | 21.5591 | 16.9145 | 17.9868 | 18.001\n",
       "... (20 rows omitted)"
      ]
     },
     "execution_count": 8,
     "metadata": {},
     "output_type": "execute_result"
    }
   ],
   "source": [
    "# total salary in each Position/Team combo\n",
    "\n",
    "nba.pivot('POSITION', 'TEAM', values ='SALARY', collect = sum)"
   ]
  },
  {
   "cell_type": "code",
   "execution_count": 10,
   "metadata": {},
   "outputs": [
    {
     "data": {
      "text/html": [
       "<table border=\"1\" class=\"dataframe\">\n",
       "    <thead>\n",
       "        <tr>\n",
       "            <th>TEAM</th> <th>C</th> <th>PF</th> <th>PG</th> <th>SF</th> <th>SG</th>\n",
       "        </tr>\n",
       "    </thead>\n",
       "    <tbody>\n",
       "        <tr>\n",
       "            <td>Atlanta Hawks        </td> <td>22.7563</td> <td>22.005 </td> <td>9.7634 </td> <td>6      </td> <td>9.04846</td>\n",
       "        </tr>\n",
       "        <tr>\n",
       "            <td>Boston Celtics       </td> <td>7.3514 </td> <td>6.17096</td> <td>19.8986</td> <td>8.83432</td> <td>8.03022</td>\n",
       "        </tr>\n",
       "        <tr>\n",
       "            <td>Brooklyn Nets        </td> <td>1.3629 </td> <td>13.3575</td> <td>7.8    </td> <td>26.0806</td> <td>8.70589</td>\n",
       "        </tr>\n",
       "        <tr>\n",
       "            <td>Charlotte Hornets    </td> <td>20.3167</td> <td>14.0573</td> <td>17.9412</td> <td>7.53284</td> <td>24.2543</td>\n",
       "        </tr>\n",
       "        <tr>\n",
       "            <td>Chicago Bulls        </td> <td>20.8488</td> <td>6.93489</td> <td>22.3431</td> <td>3.91632</td> <td>24.7779</td>\n",
       "        </tr>\n",
       "        <tr>\n",
       "            <td>Cleveland Cavaliers  </td> <td>31.0094</td> <td>19.689 </td> <td>19.6548</td> <td>22.9705</td> <td>8.98876</td>\n",
       "        </tr>\n",
       "        <tr>\n",
       "            <td>Dallas Mavericks     </td> <td>6.47096</td> <td>23.827 </td> <td>17.6727</td> <td>15.3615</td> <td>2.43035</td>\n",
       "        </tr>\n",
       "        <tr>\n",
       "            <td>Denver Nuggets       </td> <td>10.4652</td> <td>14.05  </td> <td>7.44724</td> <td>28.7831</td> <td>1.6839 </td>\n",
       "        </tr>\n",
       "        <tr>\n",
       "            <td>Detroit Pistons      </td> <td>12.2721</td> <td>0      </td> <td>13.913 </td> <td>6.86486</td> <td>9.16176</td>\n",
       "        </tr>\n",
       "        <tr>\n",
       "            <td>Golden State Warriors</td> <td>19.6237</td> <td>21.5591</td> <td>16.9145</td> <td>17.9868</td> <td>18.001 </td>\n",
       "        </tr>\n",
       "    </tbody>\n",
       "</table>\n",
       "<p>... (20 rows omitted)</p>"
      ],
      "text/plain": [
       "TEAM                  | C       | PF      | PG      | SF      | SG\n",
       "Atlanta Hawks         | 22.7563 | 22.005  | 9.7634  | 6       | 9.04846\n",
       "Boston Celtics        | 7.3514  | 6.17096 | 19.8986 | 8.83432 | 8.03022\n",
       "Brooklyn Nets         | 1.3629  | 13.3575 | 7.8     | 26.0806 | 8.70589\n",
       "Charlotte Hornets     | 20.3167 | 14.0573 | 17.9412 | 7.53284 | 24.2543\n",
       "Chicago Bulls         | 20.8488 | 6.93489 | 22.3431 | 3.91632 | 24.7779\n",
       "Cleveland Cavaliers   | 31.0094 | 19.689  | 19.6548 | 22.9705 | 8.98876\n",
       "Dallas Mavericks      | 6.47096 | 23.827  | 17.6727 | 15.3615 | 2.43035\n",
       "Denver Nuggets        | 10.4652 | 14.05   | 7.44724 | 28.7831 | 1.6839\n",
       "Detroit Pistons       | 12.2721 | 0       | 13.913  | 6.86486 | 9.16176\n",
       "Golden State Warriors | 19.6237 | 21.5591 | 16.9145 | 17.9868 | 18.001\n",
       "... (20 rows omitted)"
      ]
     },
     "execution_count": 10,
     "metadata": {},
     "output_type": "execute_result"
    }
   ],
   "source": [
    "# You don't have to type \"values = ...\" and \"collect = \"\n",
    "# But you MUST put the arguments in the correct order\n",
    "\n",
    "nba.pivot('POSITION', 'TEAM', 'SALARY', sum)"
   ]
  },
  {
   "cell_type": "code",
   "execution_count": 11,
   "metadata": {},
   "outputs": [
    {
     "data": {
      "text/html": [
       "<table border=\"1\" class=\"dataframe\">\n",
       "    <thead>\n",
       "        <tr>\n",
       "            <th>TEAM</th> <th>C</th> <th>PF</th> <th>PG</th> <th>SF</th> <th>SG</th>\n",
       "        </tr>\n",
       "    </thead>\n",
       "    <tbody>\n",
       "        <tr>\n",
       "            <td>Atlanta Hawks        </td> <td>9.75625</td> <td>11.0025</td> <td>4.8817 </td> <td>3      </td> <td>0.947276</td>\n",
       "        </tr>\n",
       "        <tr>\n",
       "            <td>Boston Celtics       </td> <td>2.56926</td> <td>3.08548</td> <td>5.17195</td> <td>4.41716</td> <td>1.72803 </td>\n",
       "        </tr>\n",
       "        <tr>\n",
       "            <td>Brooklyn Nets        </td> <td>1.3629 </td> <td>1.14024</td> <td>3.9    </td> <td>13.0403</td> <td>1.5     </td>\n",
       "        </tr>\n",
       "        <tr>\n",
       "            <td>Charlotte Hornets    </td> <td>4.2042 </td> <td>6.11003</td> <td>2.49697</td> <td>3.76642</td> <td>1.99082 </td>\n",
       "        </tr>\n",
       "        <tr>\n",
       "            <td>Chicago Bulls        </td> <td>10.4244</td> <td>3.46744</td> <td>11.1715</td> <td>1.95816</td> <td>3.67747 </td>\n",
       "        </tr>\n",
       "        <tr>\n",
       "            <td>Cleveland Cavaliers  </td> <td>7.73625</td> <td>19.689 </td> <td>2.1    </td> <td>22.9705</td> <td>8.98876 </td>\n",
       "        </tr>\n",
       "        <tr>\n",
       "            <td>Dallas Mavericks     </td> <td>3.23548</td> <td>11.9135</td> <td>4.17172</td> <td>15.3615</td> <td>1.21517 </td>\n",
       "        </tr>\n",
       "        <tr>\n",
       "            <td>Denver Nuggets       </td> <td>1.77586</td> <td>7.02498</td> <td>3.72362</td> <td>6.99139</td> <td>0.841949</td>\n",
       "        </tr>\n",
       "        <tr>\n",
       "            <td>Detroit Pistons      </td> <td>3.27209</td> <td>0      </td> <td>13.913 </td> <td>1.71145</td> <td>4.58088 </td>\n",
       "        </tr>\n",
       "        <tr>\n",
       "            <td>Golden State Warriors</td> <td>3.815  </td> <td>7.00847</td> <td>8.45726</td> <td>2.57218</td> <td>9.0005  </td>\n",
       "        </tr>\n",
       "    </tbody>\n",
       "</table>\n",
       "<p>... (20 rows omitted)</p>"
      ],
      "text/plain": [
       "TEAM                  | C       | PF      | PG      | SF      | SG\n",
       "Atlanta Hawks         | 9.75625 | 11.0025 | 4.8817  | 3       | 0.947276\n",
       "Boston Celtics        | 2.56926 | 3.08548 | 5.17195 | 4.41716 | 1.72803\n",
       "Brooklyn Nets         | 1.3629  | 1.14024 | 3.9     | 13.0403 | 1.5\n",
       "Charlotte Hornets     | 4.2042  | 6.11003 | 2.49697 | 3.76642 | 1.99082\n",
       "Chicago Bulls         | 10.4244 | 3.46744 | 11.1715 | 1.95816 | 3.67747\n",
       "Cleveland Cavaliers   | 7.73625 | 19.689  | 2.1     | 22.9705 | 8.98876\n",
       "Dallas Mavericks      | 3.23548 | 11.9135 | 4.17172 | 15.3615 | 1.21517\n",
       "Denver Nuggets        | 1.77586 | 7.02498 | 3.72362 | 6.99139 | 0.841949\n",
       "Detroit Pistons       | 3.27209 | 0       | 13.913  | 1.71145 | 4.58088\n",
       "Golden State Warriors | 3.815   | 7.00847 | 8.45726 | 2.57218 | 9.0005\n",
       "... (20 rows omitted)"
      ]
     },
     "execution_count": 11,
     "metadata": {},
     "output_type": "execute_result"
    }
   ],
   "source": [
    "# Median salary in each Position/Team combo\n",
    "\n",
    "nba.pivot('POSITION', 'TEAM', 'SALARY', np.median)"
   ]
  },
  {
   "cell_type": "code",
   "execution_count": 12,
   "metadata": {},
   "outputs": [],
   "source": [
    "# This function returns the distance between the max and the min of a list/array\n",
    "\n",
    "def data_range(x):\n",
    "    return max(x) - min(x)"
   ]
  },
  {
   "cell_type": "code",
   "execution_count": 13,
   "metadata": {},
   "outputs": [
    {
     "data": {
      "text/html": [
       "<table border=\"1\" class=\"dataframe\">\n",
       "    <thead>\n",
       "        <tr>\n",
       "            <th>TEAM</th> <th>C</th> <th>PF</th> <th>PG</th> <th>SF</th> <th>SG</th>\n",
       "        </tr>\n",
       "    </thead>\n",
       "    <tbody>\n",
       "        <tr>\n",
       "            <td>Atlanta Hawks        </td> <td>11      </td> <td>15.3383</td> <td>6.2366 </td> <td>2      </td> <td>5.22139 </td>\n",
       "        </tr>\n",
       "        <tr>\n",
       "            <td>Boston Celtics       </td> <td>0.451815</td> <td>3.82904</td> <td>5.90598</td> <td>4.75791</td> <td>2.27687 </td>\n",
       "        </tr>\n",
       "        <tr>\n",
       "            <td>Brooklyn Nets        </td> <td>0       </td> <td>10.2546</td> <td>4.8    </td> <td>23.7091</td> <td>2.58045 </td>\n",
       "        </tr>\n",
       "        <tr>\n",
       "            <td>Charlotte Hornets    </td> <td>10.8875 </td> <td>6.05272</td> <td>11.0527</td> <td>5.12996</td> <td>12.6002 </td>\n",
       "        </tr>\n",
       "        <tr>\n",
       "            <td>Chicago Bulls        </td> <td>5.95124 </td> <td>4.15257</td> <td>17.8431</td> <td>0.84456</td> <td>15.3921 </td>\n",
       "        </tr>\n",
       "        <tr>\n",
       "            <td>Cleveland Cavaliers  </td> <td>12.9849 </td> <td>0      </td> <td>15.2602</td> <td>0      </td> <td>0       </td>\n",
       "        </tr>\n",
       "        <tr>\n",
       "            <td>Dallas Mavericks     </td> <td>3.92904 </td> <td>7.16035</td> <td>1.42866</td> <td>0      </td> <td>0.467652</td>\n",
       "        </tr>\n",
       "        <tr>\n",
       "            <td>Denver Nuggets       </td> <td>4.3135  </td> <td>8.42196</td> <td>1.24276</td> <td>13.1997</td> <td>1.48506 </td>\n",
       "        </tr>\n",
       "        <tr>\n",
       "            <td>Detroit Pistons      </td> <td>4       </td> <td>0      </td> <td>0      </td> <td>2.24196</td> <td>3.37824 </td>\n",
       "        </tr>\n",
       "        <tr>\n",
       "            <td>Golden State Warriors</td> <td>11.7913 </td> <td>13.9711</td> <td>5.82706</td> <td>10.5785</td> <td>13.001  </td>\n",
       "        </tr>\n",
       "    </tbody>\n",
       "</table>\n",
       "<p>... (20 rows omitted)</p>"
      ],
      "text/plain": [
       "TEAM                  | C        | PF      | PG      | SF      | SG\n",
       "Atlanta Hawks         | 11       | 15.3383 | 6.2366  | 2       | 5.22139\n",
       "Boston Celtics        | 0.451815 | 3.82904 | 5.90598 | 4.75791 | 2.27687\n",
       "Brooklyn Nets         | 0        | 10.2546 | 4.8     | 23.7091 | 2.58045\n",
       "Charlotte Hornets     | 10.8875  | 6.05272 | 11.0527 | 5.12996 | 12.6002\n",
       "Chicago Bulls         | 5.95124  | 4.15257 | 17.8431 | 0.84456 | 15.3921\n",
       "Cleveland Cavaliers   | 12.9849  | 0       | 15.2602 | 0       | 0\n",
       "Dallas Mavericks      | 3.92904  | 7.16035 | 1.42866 | 0       | 0.467652\n",
       "Denver Nuggets        | 4.3135   | 8.42196 | 1.24276 | 13.1997 | 1.48506\n",
       "Detroit Pistons       | 4        | 0       | 0       | 2.24196 | 3.37824\n",
       "Golden State Warriors | 11.7913  | 13.9711 | 5.82706 | 10.5785 | 13.001\n",
       "... (20 rows omitted)"
      ]
     },
     "execution_count": 13,
     "metadata": {},
     "output_type": "execute_result"
    }
   ],
   "source": [
    "# You can use your own function as the collect\n",
    "# Distance between the max salary and min salary in each Position/Team combo\n",
    "\n",
    "nba.pivot('POSITION', 'TEAM', 'SALARY', data_range)"
   ]
  },
  {
   "cell_type": "markdown",
   "metadata": {},
   "source": [
    "# Hypothesis Testing #"
   ]
  },
  {
   "cell_type": "markdown",
   "metadata": {},
   "source": [
    "## Sample in Two Categories ##"
   ]
  },
  {
   "cell_type": "markdown",
   "metadata": {},
   "source": [
    "## Example 1 ##\n",
    "Jo: Every single day this bus has chance 70% of being late, regardless of other days.\n",
    "\n",
    "Mo: Are you kidding? It's late more often than that!\n",
    "\n",
    "Data: Watch bus for 200 days, note whether late or not\n",
    "\n",
    "Null: Every single day this bus has chance 70% of being late, regardless of other days.\n",
    "\n",
    "Alternative: Chance of \"late\" is more than 70%\n",
    "\n",
    "Test statistic: All of the following are fine:\n",
    "percent late - 70; number of days late - 140; number of days late; percent of days late; proportion of days late\n",
    "\n",
    "(For the P-value) Direction that supports alternative: For each of these statistics, positive values or large values support the alternative. So look right."
   ]
  },
  {
   "cell_type": "markdown",
   "metadata": {},
   "source": [
    "## Example 2 ##\n",
    "Jo: Every single day this bus has chance 70% of being late, regardless of other days.\n",
    "\n",
    "Po: Jo, stop whining. It's not late that often.\n",
    "\n",
    "Data: Watch bus for 200 days, note whether late or not\n",
    "\n",
    "Null: Every single day this bus has chance 70% of being late, regardless of other days.\n",
    "\n",
    "Alternative: Chance of late < 70%\n",
    "\n",
    "Test statistic: Same as in Example 1:\n",
    "percent late - 70; number of days late - 140; number of days late; percent of days late; proportion of days late\n",
    "\n",
    "(For the P-value) Direction that supports alternative: For each of these statistics, negative values or small values support the alternative. So look left"
   ]
  },
  {
   "cell_type": "markdown",
   "metadata": {},
   "source": [
    "## Example 2 ##\n",
    "Jo: Every single day this bus has chance 70% of being late, regardless of other days.\n",
    "\n",
    "Bo: Jo, that's just not true.\n",
    "\n",
    "Data: Watch bus for 200 days, note whether late or not\n",
    "\n",
    "Null: Every single day this bus has chance 70% of being late, regardless of other days.\n",
    "\n",
    "Alternative: Chance of late is not 70%\n",
    "\n",
    "Test statistic: |number of days late - 140|; |percent days late - 70|; |proportion of days late - 0.7|; also TVD, but see below.\n",
    "\n",
    "(For the P-value) Direction that supports alternative: Big distances support the alternative. So look right"
   ]
  },
  {
   "cell_type": "code",
   "execution_count": 14,
   "metadata": {},
   "outputs": [],
   "source": [
    "# The simulation will be under the null hypothesis.\n",
    "\n",
    "null_proportions = make_array(0.7, 0.3)"
   ]
  },
  {
   "cell_type": "code",
   "execution_count": 3,
   "metadata": {},
   "outputs": [],
   "source": [
    "# Suppose we choose |proportion late - .7| as the test statistic.\n",
    "# Define a function that simulates ONE value of this statistic under the null\n",
    "\n",
    "# This code depends on the null hypothesis and the choice of statistic.\n",
    "\n",
    "def distance_under_null():\n",
    "    proportion_late = sample_proportions(200, null_proportions).item(0)\n",
    "    return abs(proportion_late - 0.7)\n",
    "\n",
    "# Note: If you want to use counts instead of proportions, multiply by sample size\n",
    "# If you want to use percents instead of proportions, multiply by 100"
   ]
  },
  {
   "cell_type": "code",
   "execution_count": 4,
   "metadata": {},
   "outputs": [],
   "source": [
    "# Simulate 10,000 values of the test statistic\n",
    "# and collect them in an array.\n",
    "# This code always looks the same.\n",
    "\n",
    "distances = make_array()\n",
    "for i in np.arange(10000):\n",
    "    distances = np.append(distances, distance_under_null())"
   ]
  },
  {
   "cell_type": "code",
   "execution_count": 5,
   "metadata": {},
   "outputs": [
    {
     "data": {
      "image/png": "[encoded data removed]",
      "text/plain": [
       "<matplotlib.figure.Figure at 0x1a13a49438>"
      ]
     },
     "metadata": {},
     "output_type": "display_data"
    }
   ],
   "source": [
    "# If the null is true, this is how the statistic should behave\n",
    "\n",
    "distance_tbl = Table().with_column('Distance', distances)\n",
    "distance_tbl.hist(bins=np.arange(0, 0.14, 0.01))"
   ]
  },
  {
   "cell_type": "code",
   "execution_count": 6,
   "metadata": {},
   "outputs": [
    {
     "data": {
      "text/plain": [
       "0.050000000000000044"
      ]
     },
     "execution_count": 6,
     "metadata": {},
     "output_type": "execute_result"
    }
   ],
   "source": [
    "# Until now, we haven't needed to use what was actually observed.\n",
    "# But at this point we have to compare the null prediction with the observed statistic.\n",
    "\n",
    "# Suppose the data are 150 times late out of 200 times\n",
    "\n",
    "observed_statistic = abs(150/200 - .7)\n",
    "observed_statistic"
   ]
  },
  {
   "cell_type": "code",
   "execution_count": 7,
   "metadata": {},
   "outputs": [
    {
     "data": {
      "text/plain": [
       "0.1244"
      ]
     },
     "execution_count": 7,
     "metadata": {},
     "output_type": "execute_result"
    }
   ],
   "source": [
    "empirical_p = np.count_nonzero(distances >= observed_statistic) / 10000\n",
    "empirical_p"
   ]
  },
  {
   "cell_type": "markdown",
   "metadata": {},
   "source": [
    "Interpreting the P-value:\n",
    "It is the chance, assuming that the bus is late 70% of the time, that we get a statistic that is 0.05 or greater.\n",
    "\n",
    "That chance is 12.4%, which is substantial. So if the null is true there is a decent chance of getting the statistic that was actually observed or one that looks even more like the alternative. So the data are consistent with the null."
   ]
  },
  {
   "cell_type": "code",
   "execution_count": 8,
   "metadata": {},
   "outputs": [
    {
     "data": {
      "text/plain": [
       "0.05000000000000002"
      ]
     },
     "execution_count": 8,
     "metadata": {},
     "output_type": "execute_result"
    }
   ],
   "source": [
    "# Want to use the TVD as the statistic?\n",
    "# Go ahead:\n",
    "\n",
    "(abs(0.75 - .7) + abs(.25 - .3)) / 2"
   ]
  },
  {
   "cell_type": "markdown",
   "metadata": {},
   "source": [
    "When there are just two categories of data, the TVD is equal to the distance between one of the proportions and the corresponding proportion in the null. In other words, the simple distance we calculated as our statistic is actually the TVD. "
   ]
  },
  {
   "cell_type": "markdown",
   "metadata": {},
   "source": [
    "## Sample in Multiple Categories ##"
   ]
  },
  {
   "cell_type": "markdown",
   "metadata": {},
   "source": [
    "Jo: Every single day this bus has a 50% chance of being a bit late, a 20% chance of being very late, and a 30% chance of being on time, regardless of other days.\n",
    "\n",
    "Po: No it doesn't.\n",
    "\n",
    "Data: Watch bus for 200 days, note arrivals in the three categories\n",
    "\n",
    "Null: Every single day this bus has a 50% chance of being a bit late, a 20% chance of being very late, and a 30% chance of being on time, regardless of other days.\n",
    "\n",
    "Alternative: The null model is wrong.\n",
    "\n",
    "Test statistic: TVD. It has to be a distance (because \"wrong\"), and it has to measure the distance between two categorical distributions, not two numbers.\n",
    "\n",
    "(For the P-value) Direction that supports alternative: Big distances support the alternative. Look right."
   ]
  },
  {
   "cell_type": "code",
   "execution_count": 15,
   "metadata": {},
   "outputs": [],
   "source": [
    "null_proportions = make_array(0.5, 0.2, 0.3)\n",
    "\n",
    "def tvd_under_null():\n",
    "    in_sample = sample_proportions(200, null_proportions)\n",
    "    return sum(abs(in_sample - null_proportions))/2"
   ]
  },
  {
   "cell_type": "code",
   "execution_count": 16,
   "metadata": {},
   "outputs": [],
   "source": [
    "tvds = make_array()\n",
    "for i in np.arange(10000):\n",
    "    tvds = np.append(tvds, tvd_under_null())"
   ]
  },
  {
   "cell_type": "code",
   "execution_count": 17,
   "metadata": {},
   "outputs": [
    {
     "data": {
      "image/png": "[encoded data removed]",
      "text/plain": [
       "<matplotlib.figure.Figure at 0x10c1dd400>"
      ]
     },
     "metadata": {},
     "output_type": "display_data"
    }
   ],
   "source": [
    "tvd_tbl = Table().with_column('TVD', tvds)\n",
    "tvd_tbl.hist(bins=np.arange(0, .12, 0.01))"
   ]
  },
  {
   "cell_type": "code",
   "execution_count": 18,
   "metadata": {},
   "outputs": [
    {
     "data": {
      "text/plain": [
       "0.09999999999999998"
      ]
     },
     "execution_count": 18,
     "metadata": {},
     "output_type": "execute_result"
    }
   ],
   "source": [
    "# This above is the prediction made by the null hypothesis.\n",
    "# Compare with the data:\n",
    "# Suppose the data are 90 times a bit late, 60 times very late, 50 times on time\n",
    "\n",
    "observed_proportions = make_array(90, 60, 50)/200\n",
    "observed_tvd = sum(abs(observed_proportions - null_proportions))/2\n",
    "observed_tvd"
   ]
  },
  {
   "cell_type": "code",
   "execution_count": 19,
   "metadata": {},
   "outputs": [
    {
     "data": {
      "text/plain": [
       "0.0074"
      ]
     },
     "execution_count": 19,
     "metadata": {},
     "output_type": "execute_result"
    }
   ],
   "source": [
    "empirical_p = np.count_nonzero(tvds >= observed_tvd)/10000\n",
    "empirical_p"
   ]
  },
  {
   "cell_type": "markdown",
   "metadata": {},
   "source": [
    "Conclusion of test: The data support the hypothesis that the null model is wrong.\n",
    "\n",
    "Notice that when we had a more crude model (\"late 70% of the time\") compared to this one (\"a bit late 50% of the time, very late 20% of the time, on time 30%), the percent late was 70% in both cases. The observed data were also consistent with each other: 150 late out of 200, compared to 90 \"a bit late\", 60 \"very late\", and 50 \"on time\". The latter is still 150 late.\n",
    "\n",
    "The tests said the data are consistent with 70% late, but not with 50% a bit late, 20% very late, and 30% on time. That's not surprising. Often, the more detailed specifications you have in your model, the less likely you are to see all of that in the data even if the model is good."
   ]
  },
  {
   "cell_type": "markdown",
   "metadata": {},
   "source": [
    "## A/B Testing: Example ##"
   ]
  },
  {
   "cell_type": "code",
   "execution_count": 20,
   "metadata": {},
   "outputs": [],
   "source": [
    "births = Table.read_table('baby.csv')"
   ]
  },
  {
   "cell_type": "code",
   "execution_count": 21,
   "metadata": {},
   "outputs": [
    {
     "data": {
      "image/png": "[encoded data removed]",
      "text/plain": [
       "<matplotlib.figure.Figure at 0x10c128588>"
      ]
     },
     "metadata": {},
     "output_type": "display_data"
    }
   ],
   "source": [
    "births.hist('Maternal Age', group='Maternal Smoker')"
   ]
  },
  {
   "cell_type": "markdown",
   "metadata": {},
   "source": [
    "Null: The age distribution in the smokers' population is the same as the age distribution in the non-smoker's population.\n",
    "\n",
    "(Note: In the case of an RCT, this would be: The distribution of all potential treatment scores is the same as the distribution of all potential control scores. Or simply, the treatment does nothing.)\n",
    "\n",
    "Alternative: Depends on the question, but suppose the question asks whether the smokers are younger. Then the alternative is that the smokers are younger, on average, than the nonsmokers.\n",
    "\n",
    "Test statistic: smokers' average - nonsmokers' average; nonsmokers' average - smokers' average\n",
    "\n",
    "(For the P-value) Direction that supports the alternative: If you use the first statistic, negative values support the alternative, so look left. If you use the second statistic, positive values support the alternative, so look right."
   ]
  },
  {
   "cell_type": "markdown",
   "metadata": {},
   "source": [
    "## Calculating the Observed Statistic ##\n",
    "This can be left till the end, but doing it now will help us understand how to code the simulation under the null."
   ]
  },
  {
   "cell_type": "code",
   "execution_count": 23,
   "metadata": {},
   "outputs": [],
   "source": [
    "# This just selects only the two relevant columns; you don't have to do this.\n",
    "\n",
    "ages = births.select('Maternal Age', 'Maternal Smoker')\n",
    "ages = ages.relabeled(0, 'Age').relabeled(1, 'Smoker')"
   ]
  },
  {
   "cell_type": "code",
   "execution_count": 24,
   "metadata": {},
   "outputs": [
    {
     "data": {
      "text/html": [
       "<table border=\"1\" class=\"dataframe\">\n",
       "    <thead>\n",
       "        <tr>\n",
       "            <th>Age</th> <th>Smoker</th>\n",
       "        </tr>\n",
       "    </thead>\n",
       "    <tbody>\n",
       "        <tr>\n",
       "            <td>27  </td> <td>False </td>\n",
       "        </tr>\n",
       "        <tr>\n",
       "            <td>33  </td> <td>False </td>\n",
       "        </tr>\n",
       "        <tr>\n",
       "            <td>28  </td> <td>True  </td>\n",
       "        </tr>\n",
       "        <tr>\n",
       "            <td>23  </td> <td>True  </td>\n",
       "        </tr>\n",
       "        <tr>\n",
       "            <td>25  </td> <td>False </td>\n",
       "        </tr>\n",
       "        <tr>\n",
       "            <td>33  </td> <td>False </td>\n",
       "        </tr>\n",
       "        <tr>\n",
       "            <td>23  </td> <td>False </td>\n",
       "        </tr>\n",
       "        <tr>\n",
       "            <td>25  </td> <td>False </td>\n",
       "        </tr>\n",
       "        <tr>\n",
       "            <td>30  </td> <td>True  </td>\n",
       "        </tr>\n",
       "        <tr>\n",
       "            <td>27  </td> <td>False </td>\n",
       "        </tr>\n",
       "    </tbody>\n",
       "</table>\n",
       "<p>... (1164 rows omitted)</p>"
      ],
      "text/plain": [
       "Age  | Smoker\n",
       "27   | False\n",
       "33   | False\n",
       "28   | True\n",
       "23   | True\n",
       "25   | False\n",
       "33   | False\n",
       "23   | False\n",
       "25   | False\n",
       "30   | True\n",
       "27   | False\n",
       "... (1164 rows omitted)"
      ]
     },
     "execution_count": 24,
     "metadata": {},
     "output_type": "execute_result"
    }
   ],
   "source": [
    "ages"
   ]
  },
  {
   "cell_type": "code",
   "execution_count": 25,
   "metadata": {},
   "outputs": [
    {
     "data": {
      "text/html": [
       "<table border=\"1\" class=\"dataframe\">\n",
       "    <thead>\n",
       "        <tr>\n",
       "            <th>Smoker</th> <th>Age average</th>\n",
       "        </tr>\n",
       "    </thead>\n",
       "    <tbody>\n",
       "        <tr>\n",
       "            <td>False </td> <td>27.5441    </td>\n",
       "        </tr>\n",
       "        <tr>\n",
       "            <td>True  </td> <td>26.7364    </td>\n",
       "        </tr>\n",
       "    </tbody>\n",
       "</table>"
      ],
      "text/plain": [
       "Smoker | Age average\n",
       "False  | 27.5441\n",
       "True   | 26.7364"
      ]
     },
     "execution_count": 25,
     "metadata": {},
     "output_type": "execute_result"
    }
   ],
   "source": [
    "# The group means in a table\n",
    "\n",
    "means_table = ages.group('Smoker', np.average)\n",
    "means_table"
   ]
  },
  {
   "cell_type": "code",
   "execution_count": 26,
   "metadata": {},
   "outputs": [
    {
     "data": {
      "text/plain": [
       "-0.8076725017901509"
      ]
     },
     "execution_count": 26,
     "metadata": {},
     "output_type": "execute_result"
    }
   ],
   "source": [
    "# Extract the difference between the two means\n",
    "# Note that we have calculated smokers' mean - nonsmokers' mean\n",
    "# So we will be looking left for the P-value\n",
    "\n",
    "means = means_table.column(1)\n",
    "observed_difference = means.item(1) - means.item(0)\n",
    "observed_difference"
   ]
  },
  {
   "cell_type": "markdown",
   "metadata": {},
   "source": [
    "## Simulating Under the Null ##"
   ]
  },
  {
   "cell_type": "code",
   "execution_count": 27,
   "metadata": {},
   "outputs": [
    {
     "data": {
      "text/html": [
       "<table border=\"1\" class=\"dataframe\">\n",
       "    <thead>\n",
       "        <tr>\n",
       "            <th>Age</th> <th>Smoker</th>\n",
       "        </tr>\n",
       "    </thead>\n",
       "    <tbody>\n",
       "        <tr>\n",
       "            <td>27  </td> <td>False </td>\n",
       "        </tr>\n",
       "        <tr>\n",
       "            <td>33  </td> <td>False </td>\n",
       "        </tr>\n",
       "        <tr>\n",
       "            <td>28  </td> <td>True  </td>\n",
       "        </tr>\n",
       "        <tr>\n",
       "            <td>23  </td> <td>True  </td>\n",
       "        </tr>\n",
       "        <tr>\n",
       "            <td>25  </td> <td>False </td>\n",
       "        </tr>\n",
       "        <tr>\n",
       "            <td>33  </td> <td>False </td>\n",
       "        </tr>\n",
       "        <tr>\n",
       "            <td>23  </td> <td>False </td>\n",
       "        </tr>\n",
       "        <tr>\n",
       "            <td>25  </td> <td>False </td>\n",
       "        </tr>\n",
       "        <tr>\n",
       "            <td>30  </td> <td>True  </td>\n",
       "        </tr>\n",
       "        <tr>\n",
       "            <td>27  </td> <td>False </td>\n",
       "        </tr>\n",
       "    </tbody>\n",
       "</table>\n",
       "<p>... (1164 rows omitted)</p>"
      ],
      "text/plain": [
       "Age  | Smoker\n",
       "27   | False\n",
       "33   | False\n",
       "28   | True\n",
       "23   | True\n",
       "25   | False\n",
       "33   | False\n",
       "23   | False\n",
       "25   | False\n",
       "30   | True\n",
       "27   | False\n",
       "... (1164 rows omitted)"
      ]
     },
     "execution_count": 27,
     "metadata": {},
     "output_type": "execute_result"
    }
   ],
   "source": [
    "ages"
   ]
  },
  {
   "cell_type": "code",
   "execution_count": 28,
   "metadata": {},
   "outputs": [
    {
     "data": {
      "text/html": [
       "<table border=\"1\" class=\"dataframe\">\n",
       "    <thead>\n",
       "        <tr>\n",
       "            <th>Age</th> <th>Smoker</th>\n",
       "        </tr>\n",
       "    </thead>\n",
       "    <tbody>\n",
       "        <tr>\n",
       "            <td>24  </td> <td>False </td>\n",
       "        </tr>\n",
       "        <tr>\n",
       "            <td>25  </td> <td>False </td>\n",
       "        </tr>\n",
       "        <tr>\n",
       "            <td>34  </td> <td>True  </td>\n",
       "        </tr>\n",
       "        <tr>\n",
       "            <td>21  </td> <td>False </td>\n",
       "        </tr>\n",
       "        <tr>\n",
       "            <td>27  </td> <td>True  </td>\n",
       "        </tr>\n",
       "        <tr>\n",
       "            <td>38  </td> <td>False </td>\n",
       "        </tr>\n",
       "        <tr>\n",
       "            <td>19  </td> <td>False </td>\n",
       "        </tr>\n",
       "        <tr>\n",
       "            <td>23  </td> <td>True  </td>\n",
       "        </tr>\n",
       "        <tr>\n",
       "            <td>27  </td> <td>True  </td>\n",
       "        </tr>\n",
       "        <tr>\n",
       "            <td>27  </td> <td>False </td>\n",
       "        </tr>\n",
       "    </tbody>\n",
       "</table>\n",
       "<p>... (1164 rows omitted)</p>"
      ],
      "text/plain": [
       "Age  | Smoker\n",
       "24   | False\n",
       "25   | False\n",
       "34   | True\n",
       "21   | False\n",
       "27   | True\n",
       "38   | False\n",
       "19   | False\n",
       "23   | True\n",
       "27   | True\n",
       "27   | False\n",
       "... (1164 rows omitted)"
      ]
     },
     "execution_count": 28,
     "metadata": {},
     "output_type": "execute_result"
    }
   ],
   "source": [
    "# This permutes (shuffles) all the rows\n",
    "\n",
    "ages.sample(with_replacement=False)"
   ]
  },
  {
   "cell_type": "code",
   "execution_count": 29,
   "metadata": {},
   "outputs": [
    {
     "data": {
      "text/plain": [
       "array([ True,  True, False, ..., False, False, False])"
      ]
     },
     "execution_count": 29,
     "metadata": {},
     "output_type": "execute_result"
    }
   ],
   "source": [
    "# All we want are the shuffled labels\n",
    "shuffled_labels = ages.sample(with_replacement=False).column(1)\n",
    "shuffled_labels"
   ]
  },
  {
   "cell_type": "code",
   "execution_count": 31,
   "metadata": {},
   "outputs": [
    {
     "data": {
      "text/html": [
       "<table border=\"1\" class=\"dataframe\">\n",
       "    <thead>\n",
       "        <tr>\n",
       "            <th>Age</th> <th>Shuffled Label</th>\n",
       "        </tr>\n",
       "    </thead>\n",
       "    <tbody>\n",
       "        <tr>\n",
       "            <td>27  </td> <td>True          </td>\n",
       "        </tr>\n",
       "        <tr>\n",
       "            <td>33  </td> <td>True          </td>\n",
       "        </tr>\n",
       "        <tr>\n",
       "            <td>28  </td> <td>False         </td>\n",
       "        </tr>\n",
       "        <tr>\n",
       "            <td>23  </td> <td>True          </td>\n",
       "        </tr>\n",
       "        <tr>\n",
       "            <td>25  </td> <td>False         </td>\n",
       "        </tr>\n",
       "        <tr>\n",
       "            <td>33  </td> <td>False         </td>\n",
       "        </tr>\n",
       "        <tr>\n",
       "            <td>23  </td> <td>False         </td>\n",
       "        </tr>\n",
       "        <tr>\n",
       "            <td>25  </td> <td>False         </td>\n",
       "        </tr>\n",
       "        <tr>\n",
       "            <td>30  </td> <td>True          </td>\n",
       "        </tr>\n",
       "        <tr>\n",
       "            <td>27  </td> <td>True          </td>\n",
       "        </tr>\n",
       "    </tbody>\n",
       "</table>\n",
       "<p>... (1164 rows omitted)</p>"
      ],
      "text/plain": [
       "Age  | Shuffled Label\n",
       "27   | True\n",
       "33   | True\n",
       "28   | False\n",
       "23   | True\n",
       "25   | False\n",
       "33   | False\n",
       "23   | False\n",
       "25   | False\n",
       "30   | True\n",
       "27   | True\n",
       "... (1164 rows omitted)"
      ]
     },
     "execution_count": 31,
     "metadata": {},
     "output_type": "execute_result"
    }
   ],
   "source": [
    "# Attach the shuffled labels to the original ages\n",
    "\n",
    "shuffled_table = ages.select('Age').with_column('Shuffled Label', shuffled_labels)\n",
    "shuffled_table"
   ]
  },
  {
   "cell_type": "code",
   "execution_count": 32,
   "metadata": {},
   "outputs": [
    {
     "data": {
      "text/plain": [
       "-0.24246690129043103"
      ]
     },
     "execution_count": 32,
     "metadata": {},
     "output_type": "execute_result"
    }
   ],
   "source": [
    "# Now do exactly what you did to find the observed statistic,\n",
    "# but with this new shuffled_table\n",
    "\n",
    "# The shuffled group means in a table\n",
    "shuffled_means_table = shuffled_table.group('Shuffled Label', np.average)\n",
    "\n",
    "# The difference between the two shuffled group means\n",
    "shuffled_means = shuffled_means_table.column(1)\n",
    "shuffled_difference = shuffled_means.item(1) - shuffled_means.item(0)\n",
    "shuffled_difference"
   ]
  },
  {
   "cell_type": "code",
   "execution_count": 33,
   "metadata": {},
   "outputs": [],
   "source": [
    "# Put it all together in a function.\n",
    "# I just copy-pasted\n",
    "\n",
    "def one_shuffled_difference():\n",
    "    shuffled_labels = ages.sample(with_replacement=False).column(1)\n",
    "    shuffled_table = ages.select('Age').with_column('Shuffled Label', shuffled_labels)\n",
    "    shuffled_means_table = shuffled_table.group('Shuffled Label', np.average)\n",
    "    shuffled_means = shuffled_means_table.column(1)\n",
    "    return shuffled_means.item(1) - shuffled_means.item(0)   "
   ]
  },
  {
   "cell_type": "code",
   "execution_count": 34,
   "metadata": {},
   "outputs": [],
   "source": [
    "# Our old friends the for loop and collection array\n",
    "# This one takes a while to run.\n",
    "\n",
    "differences = make_array()\n",
    "for i in np.arange(5000):\n",
    "    differences = np.append(differences, one_shuffled_difference())"
   ]
  },
  {
   "cell_type": "code",
   "execution_count": 35,
   "metadata": {},
   "outputs": [
    {
     "data": {
      "image/png": "[encoded data removed]",
      "text/plain": [
       "<matplotlib.figure.Figure at 0x111ee32e8>"
      ]
     },
     "metadata": {},
     "output_type": "display_data"
    }
   ],
   "source": [
    "# Our old friend the predicted distribution of the statistic under the null\n",
    "\n",
    "diff_table = Table().with_column('Difference', differences)\n",
    "diff_table.hist(bins=20)"
   ]
  },
  {
   "cell_type": "code",
   "execution_count": 37,
   "metadata": {},
   "outputs": [
    {
     "data": {
      "text/plain": [
       "0.012"
      ]
     },
     "execution_count": 37,
     "metadata": {},
     "output_type": "execute_result"
    }
   ],
   "source": [
    "# Our old friend the P-value\n",
    "\n",
    "np.count_nonzero(differences <= observed_difference)/5000"
   ]
  },
  {
   "cell_type": "markdown",
   "metadata": {},
   "source": [
    "With a 5% cutoff, you would pick the alternative over the null. "
   ]
  },
  {
   "cell_type": "code",
   "execution_count": 38,
   "metadata": {},
   "outputs": [
    {
     "data": {
      "text/html": [
       "<table border=\"1\" class=\"dataframe\">\n",
       "    <thead>\n",
       "        <tr>\n",
       "            <th>Smoker</th> <th>count</th>\n",
       "        </tr>\n",
       "    </thead>\n",
       "    <tbody>\n",
       "        <tr>\n",
       "            <td>False </td> <td>715  </td>\n",
       "        </tr>\n",
       "        <tr>\n",
       "            <td>True  </td> <td>459  </td>\n",
       "        </tr>\n",
       "    </tbody>\n",
       "</table>"
      ],
      "text/plain": [
       "Smoker | count\n",
       "False  | 715\n",
       "True   | 459"
      ]
     },
     "execution_count": 38,
     "metadata": {},
     "output_type": "execute_result"
    }
   ],
   "source": [
    "# In lecture we said that all you have to do is pick the right numbers\n",
    "# of random \"smokers\" and \"nonsmokers\"\n",
    "# to form your two \"shuffled\" groups\n",
    "\n",
    "ages.group('Smoker')"
   ]
  },
  {
   "cell_type": "markdown",
   "metadata": {},
   "source": [
    "Shuffling the labels is one clear way, as it demonstrates the idea behind the simulation and more importantly is certain to preserve the two sample sizes."
   ]
  },
  {
   "cell_type": "code",
   "execution_count": null,
   "metadata": {},
   "outputs": [],
   "source": []
  }
 ],
 "metadata": {
  "kernelspec": {
   "display_name": "Python 3",
   "language": "python",
   "name": "python3"
  },
  "language_info": {
   "codemirror_mode": {
    "name": "ipython",
    "version": 3
   },
   "file_extension": ".py",
   "mimetype": "text/x-python",
   "name": "python",
   "nbconvert_exporter": "python",
   "pygments_lexer": "ipython3",
   "version": "3.6.4"
  }
 },
 "nbformat": 4,
 "nbformat_minor": 2
}
