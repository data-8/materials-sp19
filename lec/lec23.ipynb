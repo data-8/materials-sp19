{
 "cells": [
  {
   "cell_type": "code",
   "execution_count": 1,
   "metadata": {},
   "outputs": [],
   "source": [
    "# HIDDEN\n",
    "from datascience import *\n",
    "%matplotlib inline\n",
    "import matplotlib.pyplot as plots\n",
    "plots.style.use('fivethirtyeight')\n",
    "import numpy as np"
   ]
  },
  {
   "cell_type": "markdown",
   "metadata": {},
   "source": [
    "## Lecture 23 ##"
   ]
  },
  {
   "cell_type": "markdown",
   "metadata": {},
   "source": [
    "### Percentiles"
   ]
  },
  {
   "cell_type": "code",
   "execution_count": 2,
   "metadata": {},
   "outputs": [
    {
     "data": {
      "text/plain": [
       "array([ 7, 20, 28, 34, 43, 51])"
      ]
     },
     "execution_count": 2,
     "metadata": {},
     "output_type": "execute_result"
    }
   ],
   "source": [
    "x = make_array(43, 20, 51, 7, 28, 34)\n",
    "y = np.sort(x)\n",
    "y"
   ]
  },
  {
   "cell_type": "code",
   "execution_count": 4,
   "metadata": {},
   "outputs": [
    {
     "data": {
      "text/plain": [
       "34"
      ]
     },
     "execution_count": 4,
     "metadata": {},
     "output_type": "execute_result"
    }
   ],
   "source": [
    "percentile(55, x)"
   ]
  },
  {
   "cell_type": "code",
   "execution_count": 5,
   "metadata": {},
   "outputs": [
    {
     "data": {
      "text/plain": [
       "34"
      ]
     },
     "execution_count": 5,
     "metadata": {},
     "output_type": "execute_result"
    }
   ],
   "source": [
    "percentile(55, [43, 20, 51, 7, 28, 34])"
   ]
  },
  {
   "cell_type": "code",
   "execution_count": 6,
   "metadata": {},
   "outputs": [
    {
     "data": {
      "text/plain": [
       "3.3000000000000003"
      ]
     },
     "execution_count": 6,
     "metadata": {},
     "output_type": "execute_result"
    }
   ],
   "source": [
    "55 / 100 * 6"
   ]
  },
  {
   "cell_type": "code",
   "execution_count": null,
   "metadata": {
    "collapsed": true
   },
   "outputs": [],
   "source": []
  },
  {
   "cell_type": "markdown",
   "metadata": {},
   "source": [
    "### Sample Median"
   ]
  },
  {
   "cell_type": "code",
   "execution_count": 7,
   "metadata": {},
   "outputs": [
    {
     "data": {
      "text/html": [
       "<table border=\"1\" class=\"dataframe\">\n",
       "    <thead>\n",
       "        <tr>\n",
       "            <th>Year Type</th> <th>Year</th> <th>Organization Group Code</th> <th>Organization Group</th> <th>Department Code</th> <th>Department</th> <th>Union Code</th> <th>Union</th> <th>Job Family Code</th> <th>Job Family</th> <th>Job Code</th> <th>Job</th> <th>Employee Identifier</th> <th>Salaries</th> <th>Overtime</th> <th>Other Salaries</th> <th>Total Salary</th> <th>Retirement</th> <th>Health/Dental</th> <th>Other Benefits</th> <th>Total Benefits</th> <th>Total Compensation</th>\n",
       "        </tr>\n",
       "    </thead>\n",
       "    <tbody>\n",
       "        <tr>\n",
       "            <td>Calendar </td> <td>2015</td> <td>2                      </td> <td>Public Works, Transportation & Commerce </td> <td>WTR            </td> <td>PUC Water Department                  </td> <td>21        </td> <td>Prof & Tech Engineers - Miscellaneous, Local 21   </td> <td>2400           </td> <td>Lab, Pharmacy & Med Techs    </td> <td>2481    </td> <td>Water Qualitytech I/II        </td> <td>21538              </td> <td>82146   </td> <td>0       </td> <td>0             </td> <td>82146       </td> <td>16942.2   </td> <td>12340.9      </td> <td>6337.73       </td> <td>35620.8       </td> <td>117767            </td>\n",
       "        </tr>\n",
       "        <tr>\n",
       "            <td>Calendar </td> <td>2015</td> <td>2                      </td> <td>Public Works, Transportation & Commerce </td> <td>DPW            </td> <td>General Services Agency - Public Works</td> <td>12        </td> <td>Carpet, Linoleum and Soft Tile Workers, Local 12  </td> <td>7300           </td> <td>Journeyman Trade             </td> <td>7393    </td> <td>Soft Floor Coverer            </td> <td>5459               </td> <td>32165.8 </td> <td>973.19  </td> <td>848.96        </td> <td>33987.9     </td> <td>0         </td> <td>4587.51      </td> <td>2634.42       </td> <td>7221.93       </td> <td>41209.8           </td>\n",
       "        </tr>\n",
       "        <tr>\n",
       "            <td>Calendar </td> <td>2015</td> <td>4                      </td> <td>Community Health                        </td> <td>DPH            </td> <td>Public Health                         </td> <td>790       </td> <td>SEIU - Miscellaneous, Local 1021                  </td> <td>1600           </td> <td>Payroll, Billing & Accounting</td> <td>1636    </td> <td>Health Care Billing Clerk 2   </td> <td>41541              </td> <td>71311   </td> <td>5757.98 </td> <td>0             </td> <td>77069       </td> <td>14697.6   </td> <td>12424.5      </td> <td>6370.06       </td> <td>33492.2       </td> <td>110561            </td>\n",
       "        </tr>\n",
       "        <tr>\n",
       "            <td>Calendar </td> <td>2015</td> <td>4                      </td> <td>Community Health                        </td> <td>DPH            </td> <td>Public Health                         </td> <td>351       </td> <td>Municipal Executive Association - Miscellaneous   </td> <td>0900           </td> <td>Management                   </td> <td>2620    </td> <td>Food Service Mgr Administrator</td> <td>26718              </td> <td>28430.2 </td> <td>0       </td> <td>763.07        </td> <td>29193.3     </td> <td>0         </td> <td>4223.14      </td> <td>5208.51       </td> <td>9431.65       </td> <td>38625             </td>\n",
       "        </tr>\n",
       "        <tr>\n",
       "            <td>Calendar </td> <td>2015</td> <td>2                      </td> <td>Public Works, Transportation & Commerce </td> <td>MTA            </td> <td>Municipal Transportation Agency       </td> <td>790       </td> <td>SEIU - Miscellaneous, Local 1021                  </td> <td>8200           </td> <td>Protection & Apprehension    </td> <td>8201    </td> <td>School Crossing Guard         </td> <td>45810              </td> <td>7948.75 </td> <td>0       </td> <td>0             </td> <td>7948.75     </td> <td>0         </td> <td>2873.17      </td> <td>616.24        </td> <td>3489.41       </td> <td>11438.2           </td>\n",
       "        </tr>\n",
       "        <tr>\n",
       "            <td>Calendar </td> <td>2015</td> <td>1                      </td> <td>Public Protection                       </td> <td>POL            </td> <td>Police                                </td> <td>911       </td> <td>Police Officers' Association                      </td> <td>Q000           </td> <td>Police Services              </td> <td>Q002    </td> <td>Police Officer                </td> <td>32906              </td> <td>2235    </td> <td>0       </td> <td>0             </td> <td>2235        </td> <td>490.36    </td> <td>286.72       </td> <td>176.57        </td> <td>953.65        </td> <td>3188.65           </td>\n",
       "        </tr>\n",
       "        <tr>\n",
       "            <td>Calendar </td> <td>2015</td> <td>4                      </td> <td>Community Health                        </td> <td>DPH            </td> <td>Public Health                         </td> <td>791       </td> <td>SEIU - Staff and Per Diem Nurses, Local 1021      </td> <td>2300           </td> <td>Nursing                      </td> <td>2328    </td> <td>Nurse Practitioner            </td> <td>7506               </td> <td>187247  </td> <td>0       </td> <td>11704.1       </td> <td>198951      </td> <td>37683.7   </td> <td>12424.5      </td> <td>11221.7       </td> <td>61329.9       </td> <td>260281            </td>\n",
       "        </tr>\n",
       "        <tr>\n",
       "            <td>Calendar </td> <td>2015</td> <td>2                      </td> <td>Public Works, Transportation & Commerce </td> <td>MTA            </td> <td>Municipal Transportation Agency       </td> <td>253       </td> <td>Transport Workers - Transit Operators, Local 250-A</td> <td>9100           </td> <td>Street Transit               </td> <td>9163    </td> <td>Transit Operator              </td> <td>36773              </td> <td>66988.5 </td> <td>3512.88 </td> <td>2770.39       </td> <td>73271.8     </td> <td>19127.2   </td> <td>13203        </td> <td>5455.1        </td> <td>37785.3       </td> <td>111057            </td>\n",
       "        </tr>\n",
       "        <tr>\n",
       "            <td>Calendar </td> <td>2015</td> <td>6                      </td> <td>General Administration & Finance        </td> <td>CAT            </td> <td>City Attorney                         </td> <td>311       </td> <td>Municipal Attorneys' Association                  </td> <td>8100           </td> <td>Legal & Court                </td> <td>8177    </td> <td>Attorney (Civil/Criminal)     </td> <td>12963              </td> <td>135190  </td> <td>0       </td> <td>1562.5        </td> <td>136752      </td> <td>27501.8   </td> <td>12424.5      </td> <td>10103         </td> <td>50029.3       </td> <td>186781            </td>\n",
       "        </tr>\n",
       "        <tr>\n",
       "            <td>Calendar </td> <td>2015</td> <td>3                      </td> <td>Human Welfare & Neighborhood Development</td> <td>DSS            </td> <td>Human Services                        </td> <td>535       </td> <td>SEIU - Human Services, Local 1021                 </td> <td>9700           </td> <td>Community Development        </td> <td>9703    </td> <td>Emp & Training Spec 2         </td> <td>35179              </td> <td>70474.8 </td> <td>147.28  </td> <td>1647.24       </td> <td>72269.3     </td> <td>14650.3   </td> <td>10696.9      </td> <td>5993.11       </td> <td>31340.3       </td> <td>103610            </td>\n",
       "        </tr>\n",
       "    </tbody>\n",
       "</table>\n",
       "<p>... (42979 rows omitted)</p>"
      ],
      "text/plain": [
       "Year Type | Year | Organization Group Code | Organization Group                       | Department Code | Department                             | Union Code | Union                                              | Job Family Code | Job Family                    | Job Code | Job                            | Employee Identifier | Salaries | Overtime | Other Salaries | Total Salary | Retirement | Health/Dental | Other Benefits | Total Benefits | Total Compensation\n",
       "Calendar  | 2015 | 2                       | Public Works, Transportation & Commerce  | WTR             | PUC Water Department                   | 21         | Prof & Tech Engineers - Miscellaneous, Local 21    | 2400            | Lab, Pharmacy & Med Techs     | 2481     | Water Qualitytech I/II         | 21538               | 82146    | 0        | 0              | 82146        | 16942.2    | 12340.9       | 6337.73        | 35620.8        | 117767\n",
       "Calendar  | 2015 | 2                       | Public Works, Transportation & Commerce  | DPW             | General Services Agency - Public Works | 12         | Carpet, Linoleum and Soft Tile Workers, Local 12   | 7300            | Journeyman Trade              | 7393     | Soft Floor Coverer             | 5459                | 32165.8  | 973.19   | 848.96         | 33987.9      | 0          | 4587.51       | 2634.42        | 7221.93        | 41209.8\n",
       "Calendar  | 2015 | 4                       | Community Health                         | DPH             | Public Health                          | 790        | SEIU - Miscellaneous, Local 1021                   | 1600            | Payroll, Billing & Accounting | 1636     | Health Care Billing Clerk 2    | 41541               | 71311    | 5757.98  | 0              | 77069        | 14697.6    | 12424.5       | 6370.06        | 33492.2        | 110561\n",
       "Calendar  | 2015 | 4                       | Community Health                         | DPH             | Public Health                          | 351        | Municipal Executive Association - Miscellaneous    | 0900            | Management                    | 2620     | Food Service Mgr Administrator | 26718               | 28430.2  | 0        | 763.07         | 29193.3      | 0          | 4223.14       | 5208.51        | 9431.65        | 38625\n",
       "Calendar  | 2015 | 2                       | Public Works, Transportation & Commerce  | MTA             | Municipal Transportation Agency        | 790        | SEIU - Miscellaneous, Local 1021                   | 8200            | Protection & Apprehension     | 8201     | School Crossing Guard          | 45810               | 7948.75  | 0        | 0              | 7948.75      | 0          | 2873.17       | 616.24         | 3489.41        | 11438.2\n",
       "Calendar  | 2015 | 1                       | Public Protection                        | POL             | Police                                 | 911        | Police Officers' Association                       | Q000            | Police Services               | Q002     | Police Officer                 | 32906               | 2235     | 0        | 0              | 2235         | 490.36     | 286.72        | 176.57         | 953.65         | 3188.65\n",
       "Calendar  | 2015 | 4                       | Community Health                         | DPH             | Public Health                          | 791        | SEIU - Staff and Per Diem Nurses, Local 1021       | 2300            | Nursing                       | 2328     | Nurse Practitioner             | 7506                | 187247   | 0        | 11704.1        | 198951       | 37683.7    | 12424.5       | 11221.7        | 61329.9        | 260281\n",
       "Calendar  | 2015 | 2                       | Public Works, Transportation & Commerce  | MTA             | Municipal Transportation Agency        | 253        | Transport Workers - Transit Operators, Local 250-A | 9100            | Street Transit                | 9163     | Transit Operator               | 36773               | 66988.5  | 3512.88  | 2770.39        | 73271.8      | 19127.2    | 13203         | 5455.1         | 37785.3        | 111057\n",
       "Calendar  | 2015 | 6                       | General Administration & Finance         | CAT             | City Attorney                          | 311        | Municipal Attorneys' Association                   | 8100            | Legal & Court                 | 8177     | Attorney (Civil/Criminal)      | 12963               | 135190   | 0        | 1562.5         | 136752       | 27501.8    | 12424.5       | 10103          | 50029.3        | 186781\n",
       "Calendar  | 2015 | 3                       | Human Welfare & Neighborhood Development | DSS             | Human Services                         | 535        | SEIU - Human Services, Local 1021                  | 9700            | Community Development         | 9703     | Emp & Training Spec 2          | 35179               | 70474.8  | 147.28   | 1647.24        | 72269.3      | 14650.3    | 10696.9       | 5993.11        | 31340.3        | 103610\n",
       "... (42979 rows omitted)"
      ]
     },
     "execution_count": 7,
     "metadata": {},
     "output_type": "execute_result"
    }
   ],
   "source": [
    "sf = Table.read_table('san_francisco_2015.csv')\n",
    "sf"
   ]
  },
  {
   "cell_type": "code",
   "execution_count": 8,
   "metadata": {},
   "outputs": [
    {
     "data": {
      "text/html": [
       "<table border=\"1\" class=\"dataframe\">\n",
       "    <thead>\n",
       "        <tr>\n",
       "            <th>Year Type</th> <th>Year</th> <th>Organization Group Code</th> <th>Organization Group</th> <th>Department Code</th> <th>Department</th> <th>Union Code</th> <th>Union</th> <th>Job Family Code</th> <th>Job Family</th> <th>Job Code</th> <th>Job</th> <th>Employee Identifier</th> <th>Salaries</th> <th>Overtime</th> <th>Other Salaries</th> <th>Total Salary</th> <th>Retirement</th> <th>Health/Dental</th> <th>Other Benefits</th> <th>Total Benefits</th> <th>Total Compensation</th>\n",
       "        </tr>\n",
       "    </thead>\n",
       "    <tbody>\n",
       "        <tr>\n",
       "            <td>Calendar </td> <td>2015</td> <td>6                      </td> <td>General Administration & Finance       </td> <td>RET            </td> <td>Retirement System                   </td> <td>351       </td> <td>Municipal Executive Association - Miscellaneous</td> <td>1100           </td> <td>Administrative & Mgmt (Unrep)</td> <td>1119    </td> <td>Chief Investment Officer</td> <td>46881              </td> <td>507832  </td> <td>0       </td> <td>0             </td> <td>507832      </td> <td>105053    </td> <td>12424.5      </td> <td>23566.2       </td> <td>141044        </td> <td>648875            </td>\n",
       "        </tr>\n",
       "        <tr>\n",
       "            <td>Calendar </td> <td>2015</td> <td>6                      </td> <td>General Administration & Finance       </td> <td>ADM            </td> <td>General Services Agency - City Admin</td> <td>164       </td> <td>Physicians and Dentists - Miscellaneous        </td> <td>2500           </td> <td>Med Therapy & Auxiliary      </td> <td>2598    </td> <td>Asst Med Examiner       </td> <td>1016               </td> <td>279311  </td> <td>3829.36 </td> <td>114434        </td> <td>397574      </td> <td>56211.6   </td> <td>12424.5      </td> <td>14299.1       </td> <td>82935.2       </td> <td>480509            </td>\n",
       "        </tr>\n",
       "        <tr>\n",
       "            <td>Calendar </td> <td>2015</td> <td>6                      </td> <td>General Administration & Finance       </td> <td>ADM            </td> <td>General Services Agency - City Admin</td> <td>164       </td> <td>Physicians and Dentists - Miscellaneous        </td> <td>2500           </td> <td>Med Therapy & Auxiliary      </td> <td>2598    </td> <td>Asst Med Examiner       </td> <td>13746              </td> <td>279311  </td> <td>9046.92 </td> <td>56742.6       </td> <td>345101      </td> <td>56211.6   </td> <td>12424.5      </td> <td>13482.7       </td> <td>82118.8       </td> <td>427219            </td>\n",
       "        </tr>\n",
       "        <tr>\n",
       "            <td>Calendar </td> <td>2015</td> <td>2                      </td> <td>Public Works, Transportation & Commerce</td> <td>AIR            </td> <td>Airport Commission                  </td> <td>351       </td> <td>Municipal Executive Association - Miscellaneous</td> <td>0900           </td> <td>Management                   </td> <td>0965    </td> <td>Dept Head V             </td> <td>17356              </td> <td>326764  </td> <td>0       </td> <td>0             </td> <td>326764      </td> <td>65806.3   </td> <td>12424.5      </td> <td>21691.2       </td> <td>99922.1       </td> <td>426686            </td>\n",
       "        </tr>\n",
       "        <tr>\n",
       "            <td>Calendar </td> <td>2015</td> <td>4                      </td> <td>Community Health                       </td> <td>DPH            </td> <td>Public Health                       </td> <td>351       </td> <td>Municipal Executive Association - Miscellaneous</td> <td>0900           </td> <td>Management                   </td> <td>1164    </td> <td>Adm, SFGH Medical Center</td> <td>1523               </td> <td>256098  </td> <td>0       </td> <td>82292.3       </td> <td>338390      </td> <td>51977.5   </td> <td>11468.8      </td> <td>20963.3       </td> <td>84409.6       </td> <td>422800            </td>\n",
       "        </tr>\n",
       "    </tbody>\n",
       "</table>\n",
       "<p>... (42984 rows omitted)</p>"
      ],
      "text/plain": [
       "<IPython.core.display.HTML object>"
      ]
     },
     "metadata": {},
     "output_type": "display_data"
    }
   ],
   "source": [
    "sf.sort('Total Compensation', descending=True).show(5)"
   ]
  },
  {
   "cell_type": "code",
   "execution_count": 9,
   "metadata": {},
   "outputs": [
    {
     "data": {
      "text/html": [
       "<table border=\"1\" class=\"dataframe\">\n",
       "    <thead>\n",
       "        <tr>\n",
       "            <th>Year Type</th> <th>Year</th> <th>Organization Group Code</th> <th>Organization Group</th> <th>Department Code</th> <th>Department</th> <th>Union Code</th> <th>Union</th> <th>Job Family Code</th> <th>Job Family</th> <th>Job Code</th> <th>Job</th> <th>Employee Identifier</th> <th>Salaries</th> <th>Overtime</th> <th>Other Salaries</th> <th>Total Salary</th> <th>Retirement</th> <th>Health/Dental</th> <th>Other Benefits</th> <th>Total Benefits</th> <th>Total Compensation</th>\n",
       "        </tr>\n",
       "    </thead>\n",
       "    <tbody>\n",
       "        <tr>\n",
       "            <td>Calendar </td> <td>2015</td> <td>1                      </td> <td>Public Protection               </td> <td>FIR            </td> <td>Fire Department   </td> <td>798       </td> <td>Firefighters - Miscellaneous, Local 798        </td> <td>H000           </td> <td>Fire Services           </td> <td>H002    </td> <td>Firefighter               </td> <td>43833              </td> <td>0       </td> <td>0       </td> <td>0             </td> <td>0           </td> <td>0         </td> <td>0            </td> <td>-423.76       </td> <td>-423.76       </td> <td>-423.76           </td>\n",
       "        </tr>\n",
       "        <tr>\n",
       "            <td>Calendar </td> <td>2015</td> <td>4                      </td> <td>Community Health                </td> <td>DPH            </td> <td>Public Health     </td> <td>790       </td> <td>SEIU - Miscellaneous, Local 1021               </td> <td>9900           </td> <td>Public Service Aide     </td> <td>9924    </td> <td>PS Aide Health Services   </td> <td>27871              </td> <td>-292.4  </td> <td>0       </td> <td>0             </td> <td>-292.4      </td> <td>0         </td> <td>-95.58       </td> <td>-22.63        </td> <td>-118.21       </td> <td>-410.61           </td>\n",
       "        </tr>\n",
       "        <tr>\n",
       "            <td>Calendar </td> <td>2015</td> <td>1                      </td> <td>Public Protection               </td> <td>JUV            </td> <td>Juvenile Probation</td> <td>790       </td> <td>SEIU - Miscellaneous, Local 1021               </td> <td>8300           </td> <td>Correction & Detention  </td> <td>8320    </td> <td>Counselor, Juvenile Hall  </td> <td>10517              </td> <td>0       </td> <td>0       </td> <td>0             </td> <td>0           </td> <td>0         </td> <td>0            </td> <td>-159.12       </td> <td>-159.12       </td> <td>-159.12           </td>\n",
       "        </tr>\n",
       "        <tr>\n",
       "            <td>Calendar </td> <td>2015</td> <td>6                      </td> <td>General Administration & Finance</td> <td>CPC            </td> <td>City Planning     </td> <td>21        </td> <td>Prof & Tech Engineers - Miscellaneous, Local 21</td> <td>1000           </td> <td>Information Systems     </td> <td>1053    </td> <td>IS Business Analyst-Senior</td> <td>18961              </td> <td>0       </td> <td>0       </td> <td>0             </td> <td>0           </td> <td>0         </td> <td>0            </td> <td>-26.53        </td> <td>-26.53        </td> <td>-26.53            </td>\n",
       "        </tr>\n",
       "        <tr>\n",
       "            <td>Calendar </td> <td>2015</td> <td>6                      </td> <td>General Administration & Finance</td> <td>CPC            </td> <td>City Planning     </td> <td>21        </td> <td>Prof & Tech Engineers - Miscellaneous, Local 21</td> <td>5200           </td> <td>Professional Engineering</td> <td>5277    </td> <td>Planner 1                 </td> <td>19387              </td> <td>0       </td> <td>0       </td> <td>0             </td> <td>0           </td> <td>0         </td> <td>0            </td> <td>-9.51         </td> <td>-9.51         </td> <td>-9.51             </td>\n",
       "        </tr>\n",
       "    </tbody>\n",
       "</table>\n",
       "<p>... (42984 rows omitted)</p>"
      ],
      "text/plain": [
       "<IPython.core.display.HTML object>"
      ]
     },
     "metadata": {},
     "output_type": "display_data"
    }
   ],
   "source": [
    "sf.sort('Total Compensation', descending=False).show(5)"
   ]
  },
  {
   "cell_type": "code",
   "execution_count": 11,
   "metadata": {},
   "outputs": [
    {
     "data": {
      "text/plain": [
       "10400"
      ]
     },
     "execution_count": 11,
     "metadata": {},
     "output_type": "execute_result"
    }
   ],
   "source": [
    "10 * 20 * 52"
   ]
  },
  {
   "cell_type": "code",
   "execution_count": null,
   "metadata": {},
   "outputs": [],
   "source": []
  },
  {
   "cell_type": "code",
   "execution_count": 13,
   "metadata": {},
   "outputs": [],
   "source": [
    "sf = sf.where('Total Compensation', are.above(10000))"
   ]
  },
  {
   "cell_type": "code",
   "execution_count": 18,
   "metadata": {},
   "outputs": [
    {
     "data": {
      "text/plain": [
       "107219.48"
      ]
     },
     "execution_count": 18,
     "metadata": {},
     "output_type": "execute_result"
    }
   ],
   "source": [
    "pop_median = percentile(50, sf.column('Total Compensation'))\n",
    "pop_median"
   ]
  },
  {
   "cell_type": "code",
   "execution_count": 21,
   "metadata": {},
   "outputs": [
    {
     "data": {
      "text/html": [
       "<table border=\"1\" class=\"dataframe\">\n",
       "    <thead>\n",
       "        <tr>\n",
       "            <th>Year Type</th> <th>Year</th> <th>Organization Group Code</th> <th>Organization Group</th> <th>Department Code</th> <th>Department</th> <th>Union Code</th> <th>Union</th> <th>Job Family Code</th> <th>Job Family</th> <th>Job Code</th> <th>Job</th> <th>Employee Identifier</th> <th>Salaries</th> <th>Overtime</th> <th>Other Salaries</th> <th>Total Salary</th> <th>Retirement</th> <th>Health/Dental</th> <th>Other Benefits</th> <th>Total Benefits</th> <th>Total Compensation</th>\n",
       "        </tr>\n",
       "    </thead>\n",
       "    <tbody>\n",
       "        <tr>\n",
       "            <td>Calendar </td> <td>2015</td> <td>2                      </td> <td>Public Works, Transportation & Commerce </td> <td>WTR            </td> <td>PUC Water Department                </td> <td>790       </td> <td>SEIU - Miscellaneous, Local 1021               </td> <td>7200           </td> <td>Supervisory-Labor & Trade    </td> <td>7270    </td> <td>Watershed Keeper Supervisor   </td> <td>36136              </td> <td>78610   </td> <td>4587.67 </td> <td>4099.95       </td> <td>87297.6     </td> <td>16213.4   </td> <td>12424.5      </td> <td>6956.34       </td> <td>35594.3       </td> <td>122892            </td>\n",
       "        </tr>\n",
       "        <tr>\n",
       "            <td>Calendar </td> <td>2015</td> <td>4                      </td> <td>Community Health                        </td> <td>DPH            </td> <td>Public Health                       </td> <td>250       </td> <td>SEIU - Health Workers, Local 1021              </td> <td>2300           </td> <td>Nursing                      </td> <td>2302    </td> <td>Nursing Assistant             </td> <td>26920              </td> <td>70186.3 </td> <td>414.94  </td> <td>9597.35       </td> <td>80198.6     </td> <td>15582.4   </td> <td>12414        </td> <td>6593.88       </td> <td>34590.3       </td> <td>114789            </td>\n",
       "        </tr>\n",
       "        <tr>\n",
       "            <td>Calendar </td> <td>2015</td> <td>2                      </td> <td>Public Works, Transportation & Commerce </td> <td>PUC            </td> <td>PUC Public Utilities Commission     </td> <td>21        </td> <td>Prof & Tech Engineers - Miscellaneous, Local 21</td> <td>5200           </td> <td>Professional Engineering     </td> <td>5260    </td> <td>Architectural Assistant 1     </td> <td>31857              </td> <td>79551   </td> <td>1686.29 </td> <td>0             </td> <td>81237.3     </td> <td>16396     </td> <td>12424.5      </td> <td>6455.13       </td> <td>35275.6       </td> <td>116513            </td>\n",
       "        </tr>\n",
       "        <tr>\n",
       "            <td>Calendar </td> <td>2015</td> <td>2                      </td> <td>Public Works, Transportation & Commerce </td> <td>WTR            </td> <td>PUC Water Department                </td> <td>38        </td> <td>Plumbers and Pipefitters, Local 38             </td> <td>7200           </td> <td>Supervisory-Labor & Trade    </td> <td>7250    </td> <td>Utility Plumber Supervisor 1  </td> <td>36261              </td> <td>113369  </td> <td>54393.3 </td> <td>7421.73       </td> <td>175184      </td> <td>24060.8   </td> <td>12424.5      </td> <td>10678         </td> <td>47163.3       </td> <td>222347            </td>\n",
       "        </tr>\n",
       "        <tr>\n",
       "            <td>Calendar </td> <td>2015</td> <td>2                      </td> <td>Public Works, Transportation & Commerce </td> <td>PUC            </td> <td>PUC Public Utilities Commission     </td> <td>21        </td> <td>Prof & Tech Engineers - Miscellaneous, Local 21</td> <td>1800           </td> <td>Budget, Admn & Stats Analysis</td> <td>1823    </td> <td>Senior Administrative Analyst </td> <td>41810              </td> <td>89935   </td> <td>0       </td> <td>0             </td> <td>89935       </td> <td>18777.4   </td> <td>10990.9      </td> <td>6548.05       </td> <td>36316.4       </td> <td>126251            </td>\n",
       "        </tr>\n",
       "        <tr>\n",
       "            <td>Calendar </td> <td>2015</td> <td>3                      </td> <td>Human Welfare & Neighborhood Development</td> <td>DSS            </td> <td>Human Services                      </td> <td>21        </td> <td>Prof & Tech Engineers - Miscellaneous, Local 21</td> <td>4200           </td> <td>Appraisal & Taxation         </td> <td>4231    </td> <td>Senior Estate Investigator    </td> <td>30142              </td> <td>91191.1 </td> <td>0       </td> <td>0             </td> <td>91191.1     </td> <td>9004.19   </td> <td>12424.5      </td> <td>7488.09       </td> <td>28916.8       </td> <td>120108            </td>\n",
       "        </tr>\n",
       "        <tr>\n",
       "            <td>Calendar </td> <td>2015</td> <td>4                      </td> <td>Community Health                        </td> <td>DPH            </td> <td>Public Health                       </td> <td>790       </td> <td>SEIU - Miscellaneous, Local 1021               </td> <td>2400           </td> <td>Lab, Pharmacy & Med Techs    </td> <td>2468    </td> <td>Diagnostic Imaging Tech II    </td> <td>7932               </td> <td>117508  </td> <td>133.54  </td> <td>1793.96       </td> <td>119435      </td> <td>23959.5   </td> <td>12423.5      </td> <td>9762.25       </td> <td>46145.3       </td> <td>165581            </td>\n",
       "        </tr>\n",
       "        <tr>\n",
       "            <td>Calendar </td> <td>2015</td> <td>2                      </td> <td>Public Works, Transportation & Commerce </td> <td>CWP            </td> <td>PUC Wastewater Enterprise           </td> <td>21        </td> <td>Prof & Tech Engineers - Miscellaneous, Local 21</td> <td>7300           </td> <td>Journeyman Trade             </td> <td>7336    </td> <td>Electr Instrmntn Tech Wtr Poll</td> <td>41815              </td> <td>105505  </td> <td>0       </td> <td>333.14        </td> <td>105838      </td> <td>21158.8   </td> <td>11934.7      </td> <td>8502.07       </td> <td>41595.6       </td> <td>147434            </td>\n",
       "        </tr>\n",
       "        <tr>\n",
       "            <td>Calendar </td> <td>2015</td> <td>6                      </td> <td>General Administration & Finance        </td> <td>ADM            </td> <td>General Services Agency - City Admin</td> <td>930       </td> <td>Building Inspectors' Association - Inspectors  </td> <td>6300           </td> <td>Construction Inspection      </td> <td>6333    </td> <td>Senior Building Inspector     </td> <td>19809              </td> <td>124338  </td> <td>4774.56 </td> <td>6216.91       </td> <td>135330      </td> <td>26274.6   </td> <td>12424.5      </td> <td>9963          </td> <td>48662.1       </td> <td>183992            </td>\n",
       "        </tr>\n",
       "        <tr>\n",
       "            <td>Calendar </td> <td>2015</td> <td>1                      </td> <td>Public Protection                       </td> <td>SHF            </td> <td>Sheriff                             </td> <td>498       </td> <td>Deputy Sheriffs' Association                   </td> <td>8300           </td> <td>Correction & Detention       </td> <td>8304    </td> <td>Deputy Sheriff                </td> <td>2661               </td> <td>97762   </td> <td>10559.2 </td> <td>12373.2       </td> <td>120694      </td> <td>26479.1   </td> <td>12424.5      </td> <td>2009.15       </td> <td>40912.8       </td> <td>161607            </td>\n",
       "        </tr>\n",
       "    </tbody>\n",
       "</table>\n",
       "<p>... (290 rows omitted)</p>"
      ],
      "text/plain": [
       "Year Type | Year | Organization Group Code | Organization Group                       | Department Code | Department                           | Union Code | Union                                           | Job Family Code | Job Family                    | Job Code | Job                            | Employee Identifier | Salaries | Overtime | Other Salaries | Total Salary | Retirement | Health/Dental | Other Benefits | Total Benefits | Total Compensation\n",
       "Calendar  | 2015 | 2                       | Public Works, Transportation & Commerce  | WTR             | PUC Water Department                 | 790        | SEIU - Miscellaneous, Local 1021                | 7200            | Supervisory-Labor & Trade     | 7270     | Watershed Keeper Supervisor    | 36136               | 78610    | 4587.67  | 4099.95        | 87297.6      | 16213.4    | 12424.5       | 6956.34        | 35594.3        | 122892\n",
       "Calendar  | 2015 | 4                       | Community Health                         | DPH             | Public Health                        | 250        | SEIU - Health Workers, Local 1021               | 2300            | Nursing                       | 2302     | Nursing Assistant              | 26920               | 70186.3  | 414.94   | 9597.35        | 80198.6      | 15582.4    | 12414         | 6593.88        | 34590.3        | 114789\n",
       "Calendar  | 2015 | 2                       | Public Works, Transportation & Commerce  | PUC             | PUC Public Utilities Commission      | 21         | Prof & Tech Engineers - Miscellaneous, Local 21 | 5200            | Professional Engineering      | 5260     | Architectural Assistant 1      | 31857               | 79551    | 1686.29  | 0              | 81237.3      | 16396      | 12424.5       | 6455.13        | 35275.6        | 116513\n",
       "Calendar  | 2015 | 2                       | Public Works, Transportation & Commerce  | WTR             | PUC Water Department                 | 38         | Plumbers and Pipefitters, Local 38              | 7200            | Supervisory-Labor & Trade     | 7250     | Utility Plumber Supervisor 1   | 36261               | 113369   | 54393.3  | 7421.73        | 175184       | 24060.8    | 12424.5       | 10678          | 47163.3        | 222347\n",
       "Calendar  | 2015 | 2                       | Public Works, Transportation & Commerce  | PUC             | PUC Public Utilities Commission      | 21         | Prof & Tech Engineers - Miscellaneous, Local 21 | 1800            | Budget, Admn & Stats Analysis | 1823     | Senior Administrative Analyst  | 41810               | 89935    | 0        | 0              | 89935        | 18777.4    | 10990.9       | 6548.05        | 36316.4        | 126251\n",
       "Calendar  | 2015 | 3                       | Human Welfare & Neighborhood Development | DSS             | Human Services                       | 21         | Prof & Tech Engineers - Miscellaneous, Local 21 | 4200            | Appraisal & Taxation          | 4231     | Senior Estate Investigator     | 30142               | 91191.1  | 0        | 0              | 91191.1      | 9004.19    | 12424.5       | 7488.09        | 28916.8        | 120108\n",
       "Calendar  | 2015 | 4                       | Community Health                         | DPH             | Public Health                        | 790        | SEIU - Miscellaneous, Local 1021                | 2400            | Lab, Pharmacy & Med Techs     | 2468     | Diagnostic Imaging Tech II     | 7932                | 117508   | 133.54   | 1793.96        | 119435       | 23959.5    | 12423.5       | 9762.25        | 46145.3        | 165581\n",
       "Calendar  | 2015 | 2                       | Public Works, Transportation & Commerce  | CWP             | PUC Wastewater Enterprise            | 21         | Prof & Tech Engineers - Miscellaneous, Local 21 | 7300            | Journeyman Trade              | 7336     | Electr Instrmntn Tech Wtr Poll | 41815               | 105505   | 0        | 333.14         | 105838       | 21158.8    | 11934.7       | 8502.07        | 41595.6        | 147434\n",
       "Calendar  | 2015 | 6                       | General Administration & Finance         | ADM             | General Services Agency - City Admin | 930        | Building Inspectors' Association - Inspectors   | 6300            | Construction Inspection       | 6333     | Senior Building Inspector      | 19809               | 124338   | 4774.56  | 6216.91        | 135330       | 26274.6    | 12424.5       | 9963           | 48662.1        | 183992\n",
       "Calendar  | 2015 | 1                       | Public Protection                        | SHF             | Sheriff                              | 498        | Deputy Sheriffs' Association                    | 8300            | Correction & Detention        | 8304     | Deputy Sheriff                 | 2661                | 97762    | 10559.2  | 12373.2        | 120694       | 26479.1    | 12424.5       | 2009.15        | 40912.8        | 161607\n",
       "... (290 rows omitted)"
      ]
     },
     "execution_count": 21,
     "metadata": {},
     "output_type": "execute_result"
    }
   ],
   "source": [
    "our_sample = sf.sample(300, with_replacement=False)\n",
    "our_sample"
   ]
  },
  {
   "cell_type": "code",
   "execution_count": 22,
   "metadata": {},
   "outputs": [
    {
     "data": {
      "text/plain": [
       "109211.58"
      ]
     },
     "execution_count": 22,
     "metadata": {},
     "output_type": "execute_result"
    }
   ],
   "source": [
    "percentile(50, our_sample.column('Total Compensation'))"
   ]
  },
  {
   "cell_type": "code",
   "execution_count": null,
   "metadata": {},
   "outputs": [],
   "source": []
  },
  {
   "cell_type": "code",
   "execution_count": null,
   "metadata": {},
   "outputs": [],
   "source": []
  },
  {
   "cell_type": "code",
   "execution_count": null,
   "metadata": {},
   "outputs": [],
   "source": []
  },
  {
   "cell_type": "code",
   "execution_count": 23,
   "metadata": {},
   "outputs": [
    {
     "data": {
      "image/png": "[encoded data removed]",
      "text/plain": [
       "<Figure size 432x288 with 1 Axes>"
      ]
     },
     "metadata": {},
     "output_type": "display_data"
    }
   ],
   "source": [
    "sf_bins = np.arange(0, 700000, 25000)\n",
    "sf.hist('Total Compensation', bins=sf_bins)"
   ]
  },
  {
   "cell_type": "code",
   "execution_count": 24,
   "metadata": {},
   "outputs": [
    {
     "data": {
      "image/png": "[encoded data removed]",
      "text/plain": [
       "<Figure size 432x288 with 1 Axes>"
      ]
     },
     "metadata": {},
     "output_type": "display_data"
    }
   ],
   "source": [
    "our_sample.hist('Total Compensation', bins=sf_bins)"
   ]
  },
  {
   "cell_type": "code",
   "execution_count": 40,
   "metadata": {},
   "outputs": [
    {
     "data": {
      "text/plain": [
       "102224.29"
      ]
     },
     "execution_count": 40,
     "metadata": {},
     "output_type": "execute_result"
    }
   ],
   "source": [
    "percentile(50, sf.sample(300, with_replacement=False).column('Total Compensation'))"
   ]
  },
  {
   "cell_type": "code",
   "execution_count": 41,
   "metadata": {},
   "outputs": [],
   "source": [
    "sample_medians = make_array()\n",
    "\n",
    "for i in np.arange(1000):\n",
    "    new_median = percentile(50, sf.sample(300, with_replacement=False).column('Total Compensation'))\n",
    "    sample_medians = np.append(sample_medians, new_median)"
   ]
  },
  {
   "cell_type": "code",
   "execution_count": 43,
   "metadata": {},
   "outputs": [
    {
     "data": {
      "image/png": "[encoded data removed]",
      "text/plain": [
       "<Figure size 432x288 with 1 Axes>"
      ]
     },
     "metadata": {},
     "output_type": "display_data"
    }
   ],
   "source": [
    "Table().with_column('Sample Medians', sample_medians).hist()"
   ]
  },
  {
   "cell_type": "code",
   "execution_count": null,
   "metadata": {},
   "outputs": [],
   "source": []
  },
  {
   "cell_type": "code",
   "execution_count": null,
   "metadata": {},
   "outputs": [],
   "source": []
  }
 ],
 "metadata": {
  "anaconda-cloud": {},
  "kernelspec": {
   "display_name": "Python 3",
   "language": "python",
   "name": "python3"
  },
  "language_info": {
   "codemirror_mode": {
    "name": "ipython",
    "version": 3
   },
   "file_extension": ".py",
   "mimetype": "text/x-python",
   "name": "python",
   "nbconvert_exporter": "python",
   "pygments_lexer": "ipython3",
   "version": "3.6.7"
  }
 },
 "nbformat": 4,
 "nbformat_minor": 1
}
