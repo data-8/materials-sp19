{
 "cells": [
  {
   "cell_type": "code",
   "execution_count": null,
   "metadata": {},
   "outputs": [],
   "source": [
    "from datascience import *\n",
    "import numpy as np\n",
    "import matplotlib\n",
    "from mpl_toolkits.mplot3d import Axes3D\n",
    "%matplotlib inline\n",
    "import matplotlib.pyplot as plots\n",
    "plots.style.use('fivethirtyeight')"
   ]
  },
  {
   "cell_type": "code",
   "execution_count": null,
   "metadata": {},
   "outputs": [],
   "source": [
    "def standard_units(any_numbers):\n",
    "    \"Convert any array of numbers to standard units.\"\n",
    "    return (any_numbers - np.mean(any_numbers))/np.std(any_numbers)  \n",
    "\n",
    "def correlation(t, x, y):\n",
    "    return np.mean(standard_units(t.column(x))*standard_units(t.column(y)))\n",
    "\n",
    "def slope(table, x, y):\n",
    "    r = correlation(table, x, y)\n",
    "    return r * np.std(table.column(y))/np.std(table.column(x))\n",
    "\n",
    "def intercept(table, x, y):\n",
    "    a = slope(table, x, y)\n",
    "    return np.mean(table.column(y)) - a * np.mean(table.column(x))\n",
    "\n",
    "def fitted_values(table, x, y):\n",
    "    a = slope(table, x, y)\n",
    "    b = intercept(table, x, y)\n",
    "    return a * table.column(x) + b\n",
    "\n",
    "def scatter_fit(table, x, y):\n",
    "    plots.scatter(table.column(x), table.column(y), s=20)\n",
    "    plots.plot(table.column(x), fitted_values(table, x, y), lw=2, color='gold')\n",
    "    plots.xlabel(x)\n",
    "    plots.ylabel(y)"
   ]
  },
  {
   "cell_type": "code",
   "execution_count": null,
   "metadata": {},
   "outputs": [],
   "source": [
    "def draw_and_compare(true_slope, true_int, sample_size):\n",
    "    x = np.random.normal(50, 5, sample_size)\n",
    "    xlims = np.array([np.min(x), np.max(x)])\n",
    "    eps = np.random.normal(0, 6, sample_size)\n",
    "    y = (true_slope*x + true_int) + eps\n",
    "    tyche = Table().with_columns(\n",
    "        'x', x,\n",
    "        'y', y\n",
    "    )\n",
    "\n",
    "    plots.figure(figsize=(6, 16))\n",
    "    plots.subplot(4, 1, 1)\n",
    "    plots.scatter(tyche['x'], tyche['y'], s=20)\n",
    "    plots.plot(xlims, true_slope*xlims + true_int, lw=2, color='green')\n",
    "    plots.title('True Line, and Points Created')\n",
    "\n",
    "    plots.subplot(4, 1, 2)\n",
    "    plots.scatter(tyche['x'],tyche['y'], s=20)\n",
    "    plots.title('What We Get to See')\n",
    "\n",
    "    plots.subplot(4, 1, 3)\n",
    "    scatter_fit(tyche, 'x', 'y')\n",
    "    plots.xlabel(\"\")\n",
    "    plots.ylabel(\"\")\n",
    "    plots.title('Regression Line: Estimate of True Line')\n",
    "\n",
    "    plots.subplot(4, 1, 4)\n",
    "    scatter_fit(tyche, 'x', 'y')\n",
    "    plots.ylabel(\"\")\n",
    "    xlims = np.array([np.min(tyche['x']), np.max(tyche['x'])])\n",
    "    plots.plot(xlims, true_slope*xlims + true_int, lw=2, color='green')\n",
    "    plots.title(\"Regression Line and True Line\")"
   ]
  },
  {
   "cell_type": "markdown",
   "metadata": {},
   "source": [
    "## Regression Recap ##"
   ]
  },
  {
   "cell_type": "markdown",
   "metadata": {},
   "source": [
    "### The Model and Our Estimate ###"
   ]
  },
  {
   "cell_type": "code",
   "execution_count": null,
   "metadata": {},
   "outputs": [],
   "source": [
    "# The true line,\n",
    "# the points created,\n",
    "# and our estimate of the true line.\n",
    "# Arguments: true slope, true intercept, number of points\n",
    "\n",
    "draw_and_compare(4, -5, 50)"
   ]
  },
  {
   "cell_type": "code",
   "execution_count": null,
   "metadata": {},
   "outputs": [],
   "source": [
    "heights = Table.read_table('galton.csv')"
   ]
  },
  {
   "cell_type": "code",
   "execution_count": null,
   "metadata": {},
   "outputs": [],
   "source": [
    "heights = heights.where('gender', 'female').select('mother', 'childHeight')\n",
    "heights = heights.relabeled('childHeight', 'daughter')"
   ]
  },
  {
   "cell_type": "code",
   "execution_count": null,
   "metadata": {},
   "outputs": [],
   "source": [
    "heights"
   ]
  },
  {
   "cell_type": "code",
   "execution_count": null,
   "metadata": {},
   "outputs": [],
   "source": [
    "r = correlation(heights, 'mother', 'daughter')\n",
    "r"
   ]
  },
  {
   "cell_type": "code",
   "execution_count": null,
   "metadata": {},
   "outputs": [],
   "source": [
    "heights.scatter('mother', 'daughter', fit_line=True)"
   ]
  },
  {
   "cell_type": "code",
   "execution_count": null,
   "metadata": {},
   "outputs": [],
   "source": [
    "heights.scatter('mother', 'daughter', fit_line=True)\n",
    "average_daughter = np.average(heights.column('daughter'))\n",
    "plots.plot([58, 72], [average_daughter, average_daughter])\n",
    "plots.plot([60, 70], [58, 70]);"
   ]
  },
  {
   "cell_type": "code",
   "execution_count": null,
   "metadata": {},
   "outputs": [],
   "source": [
    "heights.scatter('mother', 'daughter', fit_line=True)"
   ]
  },
  {
   "cell_type": "markdown",
   "metadata": {},
   "source": [
    "### Code to Compute Regression Estimates and Residuals ###"
   ]
  },
  {
   "cell_type": "code",
   "execution_count": null,
   "metadata": {},
   "outputs": [],
   "source": [
    "def standard_units(x):\n",
    "    return (x - np.average(x)) / np.std(x)\n",
    "\n",
    "def correlation(table, x, y):\n",
    "    x_su = standard_units(table.column(x))\n",
    "    y_su = standard_units(table.column(y))\n",
    "    return np.average(x_su * y_su)\n",
    "\n",
    "def slope(table, x, y):\n",
    "    r = correlation(table, x, y)\n",
    "    return r * np.std(table.column(y)) / np.std(table.column(x))\n",
    "\n",
    "def intercept(table, x, y):\n",
    "    a = slope(table, x, y)\n",
    "    return np.average(table.column(y)) - a*np.average(table.column(x))\n",
    "\n",
    "def prediction_at(table, x, y, given_x):\n",
    "    return slope(table, x, y)*given_x + intercept(table, x, y)\n",
    "\n",
    "def fitted_values(table, x, y):\n",
    "    return slope(table, x, y)*table.column(x) + intercept(table, x, y)\n",
    "\n",
    "def residuals(table, x, y):\n",
    "    return table.column(y) - fitted_values(table, x, y)"
   ]
  },
  {
   "cell_type": "markdown",
   "metadata": {},
   "source": [
    "### Equation of the Regression Line ###"
   ]
  },
  {
   "cell_type": "code",
   "execution_count": null,
   "metadata": {},
   "outputs": [],
   "source": [
    "best_slope = slope(heights, 'mother', 'daughter')\n",
    "best_slope"
   ]
  },
  {
   "cell_type": "code",
   "execution_count": null,
   "metadata": {},
   "outputs": [],
   "source": [
    "best_intercept = intercept(heights, 'mother', 'daughter')\n",
    "best_intercept"
   ]
  },
  {
   "cell_type": "markdown",
   "metadata": {},
   "source": [
    "### `minimize` ###"
   ]
  },
  {
   "cell_type": "code",
   "execution_count": null,
   "metadata": {},
   "outputs": [],
   "source": [
    "# mean square error of predicting daughter's height (d)\n",
    "# based on mother's height (m)\n",
    "# using any slope (a) and any intercept (b)\n",
    "\n",
    "def mse_d_m(a, b):\n",
    "    x = heights.column('mother')\n",
    "    y = heights.column('daughter')\n",
    "    estimates = a*x + b\n",
    "    return np.mean((y - estimates)**2)"
   ]
  },
  {
   "cell_type": "code",
   "execution_count": null,
   "metadata": {},
   "outputs": [],
   "source": [
    "minimize(mse_d_m)"
   ]
  },
  {
   "cell_type": "code",
   "execution_count": null,
   "metadata": {},
   "outputs": [],
   "source": [
    "best_slope, best_intercept"
   ]
  },
  {
   "cell_type": "code",
   "execution_count": null,
   "metadata": {},
   "outputs": [],
   "source": [
    "mse_d_m(best_slope, best_intercept)"
   ]
  },
  {
   "cell_type": "code",
   "execution_count": null,
   "metadata": {},
   "outputs": [],
   "source": [
    "mse_d_m(0.3, 44)"
   ]
  },
  {
   "cell_type": "markdown",
   "metadata": {},
   "source": [
    "### Fitting a Non-Linear Function ###"
   ]
  },
  {
   "cell_type": "code",
   "execution_count": null,
   "metadata": {},
   "outputs": [],
   "source": [
    "shotput = Table.read_table('shotput.csv')"
   ]
  },
  {
   "cell_type": "code",
   "execution_count": null,
   "metadata": {},
   "outputs": [],
   "source": [
    "shotput"
   ]
  },
  {
   "cell_type": "code",
   "execution_count": null,
   "metadata": {},
   "outputs": [],
   "source": [
    "shotput.scatter(0, 1)"
   ]
  },
  {
   "cell_type": "code",
   "execution_count": null,
   "metadata": {},
   "outputs": [],
   "source": [
    "# mean square error of predicting distance\n",
    "# based on a quadratic function of weight\n",
    "x = shotput.column('Weight Lifted')\n",
    "y = shotput.column('Shot Put Distance')\n",
    "def mse_quad(a, b, c):\n",
    "    estimates = a*(x**2) + b*x + c\n",
    "    return np.mean((y - estimates)**2)"
   ]
  },
  {
   "cell_type": "code",
   "execution_count": null,
   "metadata": {},
   "outputs": [],
   "source": [
    "best = minimize(mse_quad)\n",
    "best"
   ]
  },
  {
   "cell_type": "code",
   "execution_count": null,
   "metadata": {},
   "outputs": [],
   "source": [
    "quadratic_fit = best.item(0)*(x**2) + best.item(1)*x + best.item(2)"
   ]
  },
  {
   "cell_type": "code",
   "execution_count": null,
   "metadata": {},
   "outputs": [],
   "source": [
    "shotput.with_column('Fitted Values', quadratic_fit).scatter(0)"
   ]
  },
  {
   "cell_type": "markdown",
   "metadata": {},
   "source": [
    "### The Rough Size of the Residuals ###"
   ]
  },
  {
   "cell_type": "code",
   "execution_count": null,
   "metadata": {},
   "outputs": [],
   "source": [
    "heights.scatter('mother', 'daughter', fit_line=True)\n",
    "average_daughter = np.average(heights.column('daughter'))\n",
    "plots.plot([58, 72], [average_daughter, average_daughter]);"
   ]
  },
  {
   "cell_type": "code",
   "execution_count": null,
   "metadata": {},
   "outputs": [],
   "source": [
    "average_daughter"
   ]
  },
  {
   "cell_type": "code",
   "execution_count": null,
   "metadata": {},
   "outputs": [],
   "source": [
    "# rms error if using the flat line at average_daughter\n",
    "\n",
    "sd_daughters = np.std(heights.column('daughter'))\n",
    "sd_daughters"
   ]
  },
  {
   "cell_type": "code",
   "execution_count": null,
   "metadata": {},
   "outputs": [],
   "source": [
    "# SD of residuals (errors in regression estimates)\n",
    "\n",
    "r = correlation(heights, 'mother', 'daughter')\n",
    "np.sqrt(1 - r**2) * sd_daughters"
   ]
  },
  {
   "cell_type": "code",
   "execution_count": null,
   "metadata": {},
   "outputs": [],
   "source": [
    "np.std(residuals(heights, 'mother', 'daughter'))"
   ]
  },
  {
   "cell_type": "code",
   "execution_count": null,
   "metadata": {},
   "outputs": [],
   "source": [
    "resids = residuals(heights, 'mother', 'daughter')\n",
    "heights.with_column('residual', resids).scatter('mother', 'residual')"
   ]
  },
  {
   "cell_type": "markdown",
   "metadata": {},
   "source": [
    "### Prediction ###"
   ]
  },
  {
   "cell_type": "code",
   "execution_count": null,
   "metadata": {},
   "outputs": [],
   "source": [
    "prediction_at(heights, 'mother', 'daughter', 66)"
   ]
  },
  {
   "cell_type": "code",
   "execution_count": null,
   "metadata": {},
   "outputs": [],
   "source": []
  }
 ],
 "metadata": {
  "kernelspec": {
   "display_name": "Python 3",
   "language": "python",
   "name": "python3"
  },
  "language_info": {
   "codemirror_mode": {
    "name": "ipython",
    "version": 3
   },
   "file_extension": ".py",
   "mimetype": "text/x-python",
   "name": "python",
   "nbconvert_exporter": "python",
   "pygments_lexer": "ipython3",
   "version": "3.6.4"
  }
 },
 "nbformat": 4,
 "nbformat_minor": 2
}
