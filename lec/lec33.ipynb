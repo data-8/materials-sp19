{
 "cells": [
  {
   "cell_type": "code",
   "execution_count": null,
   "metadata": {
    "collapsed": true
   },
   "outputs": [],
   "source": [
    "# HIDDEN\n",
    "\n",
    "from datascience import *\n",
    "import numpy as np\n",
    "import matplotlib\n",
    "%matplotlib inline\n",
    "import matplotlib.pyplot as plots\n",
    "plots.style.use('fivethirtyeight')"
   ]
  },
  {
   "cell_type": "code",
   "execution_count": null,
   "metadata": {
    "collapsed": true
   },
   "outputs": [],
   "source": [
    "# HIDDEN\n",
    "\n",
    "def draw_and_compare(true_slope, true_int, sample_size):\n",
    "    x = np.random.normal(50, 5, sample_size)\n",
    "    xlims = np.array([np.min(x), np.max(x)])\n",
    "    errors = np.random.normal(0, 6, sample_size)\n",
    "    y = (true_slope * x + true_int) + errors\n",
    "    sample = Table().with_columns('x', x, 'y', y)\n",
    "\n",
    "    sample.scatter('x', 'y')\n",
    "    plots.plot(xlims, true_slope*xlims + true_int, lw=2, color='green')\n",
    "    plots.title('True Line, and Points Created')\n",
    "\n",
    "    sample.scatter('x', 'y')\n",
    "    plots.title('What We Get to See')\n",
    "\n",
    "    sample.scatter('x', 'y', fit_line=True)\n",
    "    plots.title('Regression Line: Estimate of True Line')\n",
    "\n",
    "    sample.scatter('x', 'y', fit_line=True)\n",
    "    plots.plot(xlims, true_slope*xlims + true_int, lw=2, color='green')\n",
    "    plots.title(\"Regression Line and True Line\")"
   ]
  },
  {
   "cell_type": "code",
   "execution_count": null,
   "metadata": {
    "collapsed": true
   },
   "outputs": [],
   "source": [
    "def standard_units(arr):\n",
    "    return (arr - np.average(arr))/np.std(arr)\n",
    "\n",
    "def correlation(t, x, y):\n",
    "    x_standard = standard_units(t.column(x))\n",
    "    y_standard = standard_units(t.column(y))\n",
    "    return np.average(x_standard * y_standard)\n",
    "\n",
    "def slope(t, x, y):\n",
    "    r = correlation(t, x, y)\n",
    "    y_sd = np.std(t.column(y))\n",
    "    x_sd = np.std(t.column(x))\n",
    "    return r * y_sd / x_sd\n",
    "\n",
    "def intercept(t, x, y):\n",
    "    x_mean = np.mean(t.column(x))\n",
    "    y_mean = np.mean(t.column(y))\n",
    "    return y_mean - slope(t, x, y)*x_mean\n",
    "\n",
    "def fitted_values(t, x, y):\n",
    "    \"\"\"Return an array of the regression estimates at all the x values\"\"\"\n",
    "    a = slope(t, x, y)\n",
    "    b = intercept(t, x, y)\n",
    "    return a*t.column(x) + b\n",
    "\n",
    "def residuals(t, x, y):\n",
    "    predictions = fitted_values(t, x, y)\n",
    "    return t.column(y) - predictions"
   ]
  },
  {
   "cell_type": "markdown",
   "metadata": {},
   "source": [
    "## Variance decomposition"
   ]
  },
  {
   "cell_type": "code",
   "execution_count": null,
   "metadata": {
    "collapsed": true
   },
   "outputs": [],
   "source": [
    "galton = Table.read_table('galton.csv')\n",
    "\n",
    "heights = Table().with_columns(\n",
    "    'MidParent', galton.column('midparentHeight'),\n",
    "    'Child', galton.column('childHeight')\n",
    "    )"
   ]
  },
  {
   "cell_type": "code",
   "execution_count": null,
   "metadata": {},
   "outputs": [],
   "source": [
    "def plot_fitted(t, x, y):\n",
    "    tbl = t.select(x, y)\n",
    "    tbl.with_columns('Fitted Value', fitted_values(t, x, y)).scatter(0)\n",
    "    \n",
    "plot_fitted(heights, 'MidParent', 'Child')"
   ]
  },
  {
   "cell_type": "markdown",
   "metadata": {},
   "source": [
    "## Regression Model ##"
   ]
  },
  {
   "cell_type": "code",
   "execution_count": null,
   "metadata": {},
   "outputs": [],
   "source": [
    "draw_and_compare(2, -5, 10)"
   ]
  },
  {
   "cell_type": "code",
   "execution_count": null,
   "metadata": {},
   "outputs": [],
   "source": [
    "draw_and_compare(2, -5, 100)"
   ]
  },
  {
   "cell_type": "code",
   "execution_count": null,
   "metadata": {
    "collapsed": true
   },
   "outputs": [],
   "source": []
  },
  {
   "cell_type": "markdown",
   "metadata": {},
   "source": [
    "## Prediction ##"
   ]
  },
  {
   "cell_type": "code",
   "execution_count": null,
   "metadata": {},
   "outputs": [],
   "source": [
    "births = Table.read_table('baby.csv')\n",
    "births.show(3)"
   ]
  },
  {
   "cell_type": "code",
   "execution_count": null,
   "metadata": {},
   "outputs": [],
   "source": [
    "births.scatter('Gestational Days', 'Birth Weight')"
   ]
  },
  {
   "cell_type": "code",
   "execution_count": null,
   "metadata": {
    "collapsed": true
   },
   "outputs": [],
   "source": [
    "births = births.where('Gestational Days', are.between(200, 340))"
   ]
  },
  {
   "cell_type": "code",
   "execution_count": null,
   "metadata": {},
   "outputs": [],
   "source": [
    "births.scatter('Gestational Days', 'Birth Weight', fit_line=True)"
   ]
  },
  {
   "cell_type": "code",
   "execution_count": null,
   "metadata": {
    "collapsed": true
   },
   "outputs": [],
   "source": [
    "def prediction_at(t, x, y, x_value):\n",
    "    return slope(t, x, y) * x_value + intercept(t, x, y)"
   ]
  },
  {
   "cell_type": "code",
   "execution_count": null,
   "metadata": {},
   "outputs": [],
   "source": [
    "prediction_at_300 = prediction_at(births, 'Gestational Days', 'Birth Weight', 300)\n",
    "prediction_at_300"
   ]
  },
  {
   "cell_type": "code",
   "execution_count": null,
   "metadata": {},
   "outputs": [],
   "source": [
    "x = 300\n",
    "births.scatter('Gestational Days', 'Birth Weight', fit_line=True)\n",
    "plots.plot([x, x], [40, prediction_at_300], color='gold', lw=2);"
   ]
  },
  {
   "cell_type": "code",
   "execution_count": null,
   "metadata": {},
   "outputs": [],
   "source": [
    "plots.figure(figsize=(6, 20))\n",
    "plots.subplot(5, 1, 1)\n",
    "plots.scatter(births[1], births[0], s=10)\n",
    "plots.xlim([200, 340])\n",
    "plots.title('Original sample')\n",
    "\n",
    "for i in np.arange(1, 5, 1):\n",
    "    plots.subplot(5,1,i+1)\n",
    "    rep = births.sample()\n",
    "    plots.scatter(rep[1], rep[0], s=10)\n",
    "    plots.xlim([200, 340])\n",
    "    plots.title('Bootstrap sample '+str(i))"
   ]
  },
  {
   "cell_type": "code",
   "execution_count": null,
   "metadata": {},
   "outputs": [],
   "source": [
    "for i in np.arange(4):\n",
    "    resample = births.sample()\n",
    "    predicted_y = prediction_at(resample, 'Gestational Days', 'Birth Weight', 300)\n",
    "    resample.scatter('Gestational Days', 'Birth Weight', fit_line=True)\n",
    "    plots.scatter(300, predicted_y, color='gold', s=50, zorder=3);"
   ]
  },
  {
   "cell_type": "code",
   "execution_count": null,
   "metadata": {},
   "outputs": [],
   "source": [
    "lines = Table(['slope','intercept', 'at 210', 'at 300', 'at 320'])\n",
    "\n",
    "for i in range(10):\n",
    "    resample = births.sample()\n",
    "    a = slope(resample, 'Gestational Days', 'Birth Weight')\n",
    "    b = intercept(resample, 'Gestational Days', 'Birth Weight')\n",
    "    lines.append([a, b, a * 210 + b, a * 300 + b, a * 320 + b])\n",
    "\n",
    "for i in np.arange(lines.num_rows):\n",
    "    line = lines.row(i)\n",
    "    plots.plot([210, 320], [line.item('at 210'), line.item('at 320')], lw=1)\n",
    "    plots.scatter(300, line.item('at 300'), s=30, zorder=3)"
   ]
  },
  {
   "cell_type": "code",
   "execution_count": null,
   "metadata": {},
   "outputs": [],
   "source": [
    "lines = Table(['slope','intercept', 'at 291', 'at 300', 'at 309'])\n",
    "\n",
    "for i in range(10):\n",
    "    resample = births.sample()\n",
    "    a = slope(resample, 'Gestational Days', 'Birth Weight')\n",
    "    b = intercept(resample, 'Gestational Days', 'Birth Weight')\n",
    "    lines.append([a, b, a * 291 + b, a * 300 + b, a * 309 + b])\n",
    "\n",
    "for i in np.arange(lines.num_rows):\n",
    "    line = lines.row(i)\n",
    "    plots.plot([291, 309], [line.item('at 291'), line.item('at 309')], lw=1)\n",
    "    plots.scatter(300, line.item('at 300'), s=30, zorder=3)"
   ]
  },
  {
   "cell_type": "code",
   "execution_count": null,
   "metadata": {
    "collapsed": true
   },
   "outputs": [],
   "source": [
    "def bootstrap_prediction(t, x, y, new_x, repetitions=1000):\n",
    "\n",
    "    # Bootstrap the scatter, predict, collect\n",
    "    predictions = make_array()\n",
    "    for i in np.arange(repetitions):\n",
    "        resample = t.sample()\n",
    "        predicted_y = prediction_at(resample, x, y, new_x)\n",
    "        predictions = np.append(predictions, predicted_y)\n",
    "\n",
    "    # Find the ends of the approximate 95% prediction interval\n",
    "    left = percentile(2.5, predictions)\n",
    "    right = percentile(97.5, predictions)\n",
    "\n",
    "    # Display results\n",
    "    Table().with_column('Prediction', predictions).hist(bins=20)\n",
    "    plots.xlabel('predictions at x='+str(new_x))\n",
    "    plots.plot([left, right], [0, 0], color='yellow', lw=8);\n",
    "    print('Approximate 95%-confidence interval for height of true line:')\n",
    "    print(left, right, '(width =', right - left, ')') "
   ]
  },
  {
   "cell_type": "code",
   "execution_count": null,
   "metadata": {},
   "outputs": [],
   "source": [
    "bootstrap_prediction(births, 'Gestational Days', 'Birth Weight', 300)"
   ]
  },
  {
   "cell_type": "code",
   "execution_count": null,
   "metadata": {},
   "outputs": [],
   "source": [
    "bootstrap_prediction(births, 'Gestational Days', 'Birth Weight', 210)"
   ]
  },
  {
   "cell_type": "code",
   "execution_count": null,
   "metadata": {},
   "outputs": [],
   "source": [
    "bootstrap_prediction(births, 'Gestational Days', 'Birth Weight', 280)"
   ]
  },
  {
   "cell_type": "code",
   "execution_count": null,
   "metadata": {},
   "outputs": [],
   "source": [
    "np.mean(births.column('Gestational Days'))"
   ]
  },
  {
   "cell_type": "markdown",
   "metadata": {},
   "source": [
    "## Inference for the Slope ##"
   ]
  },
  {
   "cell_type": "code",
   "execution_count": null,
   "metadata": {},
   "outputs": [],
   "source": [
    "births.scatter('Gestational Days', 'Birth Weight', fit_line=True)"
   ]
  },
  {
   "cell_type": "code",
   "execution_count": null,
   "metadata": {},
   "outputs": [],
   "source": [
    "slope(births, 'Gestational Days', 'Birth Weight')"
   ]
  },
  {
   "cell_type": "code",
   "execution_count": null,
   "metadata": {
    "collapsed": true
   },
   "outputs": [],
   "source": [
    "slopes = make_array()\n",
    "for i in np.arange(1000):\n",
    "    bootstrap_sample = births.sample()\n",
    "    bootstrap_slope = slope(bootstrap_sample, 'Gestational Days', 'Birth Weight')\n",
    "    slopes = np.append(slopes, bootstrap_slope)"
   ]
  },
  {
   "cell_type": "code",
   "execution_count": null,
   "metadata": {},
   "outputs": [],
   "source": [
    "Table().with_column('Bootstrap Slopes', slopes).hist(bins=20)"
   ]
  },
  {
   "cell_type": "code",
   "execution_count": null,
   "metadata": {},
   "outputs": [],
   "source": [
    "left = percentile(2.5, slopes)\n",
    "right = percentile(97.5, slopes)\n",
    "left, right"
   ]
  },
  {
   "cell_type": "code",
   "execution_count": null,
   "metadata": {
    "collapsed": true
   },
   "outputs": [],
   "source": [
    "def bootstrap_slope(t, x, y, repetitions=5000):\n",
    "    \n",
    "    # Bootstrap the scatter, find the slope, collect\n",
    "    slopes = make_array()\n",
    "    for i in np.arange(repetitions):\n",
    "        bootstrap_sample = t.sample()\n",
    "        bootstrap_slope = slope(bootstrap_sample, x, y)\n",
    "        slopes = np.append(slopes, bootstrap_slope)\n",
    "    \n",
    "    # Find the endpoints of the 95% confidence interval for the true slope\n",
    "    left = percentile(2.5, slopes)\n",
    "    right = percentile(97.5, slopes)\n",
    "    \n",
    "    # Slope of the regression line from the original sample\n",
    "    observed_slope = slope(t, x, y)\n",
    "    \n",
    "    # Display results\n",
    "    Table().with_column('Bootstrap Slopes', slopes).hist(bins=20)\n",
    "    plots.plot(make_array(left, right), make_array(0, 0), color='yellow', lw=8);\n",
    "    print('Slope of regression line:', observed_slope)\n",
    "    print('Approximate 95%-confidence interval for the slope of the true line:')\n",
    "    print(left, 'to', right)"
   ]
  },
  {
   "cell_type": "code",
   "execution_count": null,
   "metadata": {},
   "outputs": [],
   "source": [
    "bootstrap_slope(births, 'Gestational Days', 'Birth Weight', 2500)"
   ]
  },
  {
   "cell_type": "code",
   "execution_count": null,
   "metadata": {},
   "outputs": [],
   "source": [
    "draw_and_compare(0, 10, 25)"
   ]
  },
  {
   "cell_type": "markdown",
   "metadata": {},
   "source": [
    "**Null Hypothesis.** Slope of true line = 0.\n",
    "\n",
    "**Alternative Hypothesis.** Slope of true line is not 0."
   ]
  },
  {
   "cell_type": "code",
   "execution_count": null,
   "metadata": {},
   "outputs": [],
   "source": [
    "slope(births, 'Maternal Age', 'Birth Weight')"
   ]
  },
  {
   "cell_type": "code",
   "execution_count": null,
   "metadata": {},
   "outputs": [],
   "source": [
    "births.scatter('Maternal Age', 'Birth Weight', fit_line=True)"
   ]
  },
  {
   "cell_type": "code",
   "execution_count": null,
   "metadata": {},
   "outputs": [],
   "source": [
    "bootstrap_slope(births, 'Maternal Age', 'Birth Weight', 2500)"
   ]
  }
 ],
 "metadata": {
  "anaconda-cloud": {},
  "kernelspec": {
   "display_name": "Python 3",
   "language": "python",
   "name": "python3"
  },
  "language_info": {
   "codemirror_mode": {
    "name": "ipython",
    "version": 3
   },
   "file_extension": ".py",
   "mimetype": "text/x-python",
   "name": "python",
   "nbconvert_exporter": "python",
   "pygments_lexer": "ipython3",
   "version": "3.6.3"
  }
 },
 "nbformat": 4,
 "nbformat_minor": 1
}
