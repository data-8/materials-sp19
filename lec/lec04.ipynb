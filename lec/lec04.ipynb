{
 "cells": [
  {
   "cell_type": "code",
   "execution_count": 1,
   "metadata": {
    "collapsed": true
   },
   "outputs": [],
   "source": [
    "from datascience import *\n",
    "import numpy as np\n",
    "\n",
    "nba = Table.read_table('nba_salaries.csv').relabeled(3, 'SALARY')"
   ]
  },
  {
   "cell_type": "markdown",
   "metadata": {},
   "source": [
    "## Review ##"
   ]
  },
  {
   "cell_type": "code",
   "execution_count": 2,
   "metadata": {},
   "outputs": [
    {
     "data": {
      "text/html": [
       "<table border=\"1\" class=\"dataframe\">\n",
       "    <thead>\n",
       "        <tr>\n",
       "            <th>PLAYER</th> <th>POSITION</th> <th>TEAM</th> <th>SALARY</th>\n",
       "        </tr>\n",
       "    </thead>\n",
       "    <tbody>\n",
       "        <tr>\n",
       "            <td>Paul Millsap    </td> <td>PF      </td> <td>Atlanta Hawks</td> <td>18.6717</td>\n",
       "        </tr>\n",
       "        <tr>\n",
       "            <td>Al Horford      </td> <td>C       </td> <td>Atlanta Hawks</td> <td>12     </td>\n",
       "        </tr>\n",
       "        <tr>\n",
       "            <td>Tiago Splitter  </td> <td>C       </td> <td>Atlanta Hawks</td> <td>9.75625</td>\n",
       "        </tr>\n",
       "        <tr>\n",
       "            <td>Jeff Teague     </td> <td>PG      </td> <td>Atlanta Hawks</td> <td>8      </td>\n",
       "        </tr>\n",
       "        <tr>\n",
       "            <td>Kyle Korver     </td> <td>SG      </td> <td>Atlanta Hawks</td> <td>5.74648</td>\n",
       "        </tr>\n",
       "        <tr>\n",
       "            <td>Thabo Sefolosha </td> <td>SF      </td> <td>Atlanta Hawks</td> <td>4      </td>\n",
       "        </tr>\n",
       "        <tr>\n",
       "            <td>Mike Scott      </td> <td>PF      </td> <td>Atlanta Hawks</td> <td>3.33333</td>\n",
       "        </tr>\n",
       "        <tr>\n",
       "            <td>Kent Bazemore   </td> <td>SF      </td> <td>Atlanta Hawks</td> <td>2      </td>\n",
       "        </tr>\n",
       "        <tr>\n",
       "            <td>Dennis Schroder </td> <td>PG      </td> <td>Atlanta Hawks</td> <td>1.7634 </td>\n",
       "        </tr>\n",
       "        <tr>\n",
       "            <td>Tim Hardaway Jr.</td> <td>SG      </td> <td>Atlanta Hawks</td> <td>1.30452</td>\n",
       "        </tr>\n",
       "    </tbody>\n",
       "</table>\n",
       "<p>... (407 rows omitted)</p>"
      ],
      "text/plain": [
       "PLAYER           | POSITION | TEAM          | SALARY\n",
       "Paul Millsap     | PF       | Atlanta Hawks | 18.6717\n",
       "Al Horford       | C        | Atlanta Hawks | 12\n",
       "Tiago Splitter   | C        | Atlanta Hawks | 9.75625\n",
       "Jeff Teague      | PG       | Atlanta Hawks | 8\n",
       "Kyle Korver      | SG       | Atlanta Hawks | 5.74648\n",
       "Thabo Sefolosha  | SF       | Atlanta Hawks | 4\n",
       "Mike Scott       | PF       | Atlanta Hawks | 3.33333\n",
       "Kent Bazemore    | SF       | Atlanta Hawks | 2\n",
       "Dennis Schroder  | PG       | Atlanta Hawks | 1.7634\n",
       "Tim Hardaway Jr. | SG       | Atlanta Hawks | 1.30452\n",
       "... (407 rows omitted)"
      ]
     },
     "execution_count": 2,
     "metadata": {},
     "output_type": "execute_result"
    }
   ],
   "source": [
    "nba"
   ]
  },
  {
   "cell_type": "code",
   "execution_count": 4,
   "metadata": {
    "collapsed": true
   },
   "outputs": [],
   "source": [
    "point_guards = nba.where('POSITION', 'PG')"
   ]
  },
  {
   "cell_type": "code",
   "execution_count": 5,
   "metadata": {},
   "outputs": [
    {
     "data": {
      "text/html": [
       "<table border=\"1\" class=\"dataframe\">\n",
       "    <thead>\n",
       "        <tr>\n",
       "            <th>PLAYER</th> <th>POSITION</th> <th>TEAM</th> <th>SALARY</th>\n",
       "        </tr>\n",
       "    </thead>\n",
       "    <tbody>\n",
       "        <tr>\n",
       "            <td>Jeff Teague    </td> <td>PG      </td> <td>Atlanta Hawks    </td> <td>8      </td>\n",
       "        </tr>\n",
       "        <tr>\n",
       "            <td>Dennis Schroder</td> <td>PG      </td> <td>Atlanta Hawks    </td> <td>1.7634 </td>\n",
       "        </tr>\n",
       "        <tr>\n",
       "            <td>Avery Bradley  </td> <td>PG      </td> <td>Boston Celtics   </td> <td>7.73034</td>\n",
       "        </tr>\n",
       "        <tr>\n",
       "            <td>Isaiah Thomas  </td> <td>PG      </td> <td>Boston Celtics   </td> <td>6.91287</td>\n",
       "        </tr>\n",
       "        <tr>\n",
       "            <td>Marcus Smart   </td> <td>PG      </td> <td>Boston Celtics   </td> <td>3.43104</td>\n",
       "        </tr>\n",
       "        <tr>\n",
       "            <td>Terry Rozier   </td> <td>PG      </td> <td>Boston Celtics   </td> <td>1.82436</td>\n",
       "        </tr>\n",
       "        <tr>\n",
       "            <td>Jarrett Jack   </td> <td>PG      </td> <td>Brooklyn Nets    </td> <td>6.3    </td>\n",
       "        </tr>\n",
       "        <tr>\n",
       "            <td>Shane Larkin   </td> <td>PG      </td> <td>Brooklyn Nets    </td> <td>1.5    </td>\n",
       "        </tr>\n",
       "        <tr>\n",
       "            <td>Kemba Walker   </td> <td>PG      </td> <td>Charlotte Hornets</td> <td>12     </td>\n",
       "        </tr>\n",
       "        <tr>\n",
       "            <td>Brian Roberts  </td> <td>PG      </td> <td>Charlotte Hornets</td> <td>2.85494</td>\n",
       "        </tr>\n",
       "    </tbody>\n",
       "</table>\n",
       "<p>... (75 rows omitted)</p>"
      ],
      "text/plain": [
       "PLAYER          | POSITION | TEAM              | SALARY\n",
       "Jeff Teague     | PG       | Atlanta Hawks     | 8\n",
       "Dennis Schroder | PG       | Atlanta Hawks     | 1.7634\n",
       "Avery Bradley   | PG       | Boston Celtics    | 7.73034\n",
       "Isaiah Thomas   | PG       | Boston Celtics    | 6.91287\n",
       "Marcus Smart    | PG       | Boston Celtics    | 3.43104\n",
       "Terry Rozier    | PG       | Boston Celtics    | 1.82436\n",
       "Jarrett Jack    | PG       | Brooklyn Nets     | 6.3\n",
       "Shane Larkin    | PG       | Brooklyn Nets     | 1.5\n",
       "Kemba Walker    | PG       | Charlotte Hornets | 12\n",
       "Brian Roberts   | PG       | Charlotte Hornets | 2.85494\n",
       "... (75 rows omitted)"
      ]
     },
     "execution_count": 5,
     "metadata": {},
     "output_type": "execute_result"
    }
   ],
   "source": [
    "point_guards"
   ]
  },
  {
   "cell_type": "code",
   "execution_count": 6,
   "metadata": {},
   "outputs": [
    {
     "data": {
      "text/html": [
       "<table border=\"1\" class=\"dataframe\">\n",
       "    <thead>\n",
       "        <tr>\n",
       "            <th>PLAYER</th> <th>TEAM</th> <th>SALARY</th>\n",
       "        </tr>\n",
       "    </thead>\n",
       "    <tbody>\n",
       "        <tr>\n",
       "            <td>Jeff Teague    </td> <td>Atlanta Hawks    </td> <td>8      </td>\n",
       "        </tr>\n",
       "        <tr>\n",
       "            <td>Dennis Schroder</td> <td>Atlanta Hawks    </td> <td>1.7634 </td>\n",
       "        </tr>\n",
       "        <tr>\n",
       "            <td>Avery Bradley  </td> <td>Boston Celtics   </td> <td>7.73034</td>\n",
       "        </tr>\n",
       "        <tr>\n",
       "            <td>Isaiah Thomas  </td> <td>Boston Celtics   </td> <td>6.91287</td>\n",
       "        </tr>\n",
       "        <tr>\n",
       "            <td>Marcus Smart   </td> <td>Boston Celtics   </td> <td>3.43104</td>\n",
       "        </tr>\n",
       "        <tr>\n",
       "            <td>Terry Rozier   </td> <td>Boston Celtics   </td> <td>1.82436</td>\n",
       "        </tr>\n",
       "        <tr>\n",
       "            <td>Jarrett Jack   </td> <td>Brooklyn Nets    </td> <td>6.3    </td>\n",
       "        </tr>\n",
       "        <tr>\n",
       "            <td>Shane Larkin   </td> <td>Brooklyn Nets    </td> <td>1.5    </td>\n",
       "        </tr>\n",
       "        <tr>\n",
       "            <td>Kemba Walker   </td> <td>Charlotte Hornets</td> <td>12     </td>\n",
       "        </tr>\n",
       "        <tr>\n",
       "            <td>Brian Roberts  </td> <td>Charlotte Hornets</td> <td>2.85494</td>\n",
       "        </tr>\n",
       "    </tbody>\n",
       "</table>\n",
       "<p>... (75 rows omitted)</p>"
      ],
      "text/plain": [
       "PLAYER          | TEAM              | SALARY\n",
       "Jeff Teague     | Atlanta Hawks     | 8\n",
       "Dennis Schroder | Atlanta Hawks     | 1.7634\n",
       "Avery Bradley   | Boston Celtics    | 7.73034\n",
       "Isaiah Thomas   | Boston Celtics    | 6.91287\n",
       "Marcus Smart    | Boston Celtics    | 3.43104\n",
       "Terry Rozier    | Boston Celtics    | 1.82436\n",
       "Jarrett Jack    | Brooklyn Nets     | 6.3\n",
       "Shane Larkin    | Brooklyn Nets     | 1.5\n",
       "Kemba Walker    | Charlotte Hornets | 12\n",
       "Brian Roberts   | Charlotte Hornets | 2.85494\n",
       "... (75 rows omitted)"
      ]
     },
     "execution_count": 6,
     "metadata": {},
     "output_type": "execute_result"
    }
   ],
   "source": [
    "point_guards.drop('POSITION')"
   ]
  },
  {
   "cell_type": "code",
   "execution_count": 7,
   "metadata": {},
   "outputs": [
    {
     "data": {
      "text/html": [
       "<table border=\"1\" class=\"dataframe\">\n",
       "    <thead>\n",
       "        <tr>\n",
       "            <th>PLAYER</th> <th>POSITION</th> <th>TEAM</th> <th>SALARY</th>\n",
       "        </tr>\n",
       "    </thead>\n",
       "    <tbody>\n",
       "        <tr>\n",
       "            <td>Jeff Teague    </td> <td>PG      </td> <td>Atlanta Hawks    </td> <td>8      </td>\n",
       "        </tr>\n",
       "        <tr>\n",
       "            <td>Dennis Schroder</td> <td>PG      </td> <td>Atlanta Hawks    </td> <td>1.7634 </td>\n",
       "        </tr>\n",
       "        <tr>\n",
       "            <td>Avery Bradley  </td> <td>PG      </td> <td>Boston Celtics   </td> <td>7.73034</td>\n",
       "        </tr>\n",
       "        <tr>\n",
       "            <td>Isaiah Thomas  </td> <td>PG      </td> <td>Boston Celtics   </td> <td>6.91287</td>\n",
       "        </tr>\n",
       "        <tr>\n",
       "            <td>Marcus Smart   </td> <td>PG      </td> <td>Boston Celtics   </td> <td>3.43104</td>\n",
       "        </tr>\n",
       "        <tr>\n",
       "            <td>Terry Rozier   </td> <td>PG      </td> <td>Boston Celtics   </td> <td>1.82436</td>\n",
       "        </tr>\n",
       "        <tr>\n",
       "            <td>Jarrett Jack   </td> <td>PG      </td> <td>Brooklyn Nets    </td> <td>6.3    </td>\n",
       "        </tr>\n",
       "        <tr>\n",
       "            <td>Shane Larkin   </td> <td>PG      </td> <td>Brooklyn Nets    </td> <td>1.5    </td>\n",
       "        </tr>\n",
       "        <tr>\n",
       "            <td>Kemba Walker   </td> <td>PG      </td> <td>Charlotte Hornets</td> <td>12     </td>\n",
       "        </tr>\n",
       "        <tr>\n",
       "            <td>Brian Roberts  </td> <td>PG      </td> <td>Charlotte Hornets</td> <td>2.85494</td>\n",
       "        </tr>\n",
       "    </tbody>\n",
       "</table>\n",
       "<p>... (75 rows omitted)</p>"
      ],
      "text/plain": [
       "PLAYER          | POSITION | TEAM              | SALARY\n",
       "Jeff Teague     | PG       | Atlanta Hawks     | 8\n",
       "Dennis Schroder | PG       | Atlanta Hawks     | 1.7634\n",
       "Avery Bradley   | PG       | Boston Celtics    | 7.73034\n",
       "Isaiah Thomas   | PG       | Boston Celtics    | 6.91287\n",
       "Marcus Smart    | PG       | Boston Celtics    | 3.43104\n",
       "Terry Rozier    | PG       | Boston Celtics    | 1.82436\n",
       "Jarrett Jack    | PG       | Brooklyn Nets     | 6.3\n",
       "Shane Larkin    | PG       | Brooklyn Nets     | 1.5\n",
       "Kemba Walker    | PG       | Charlotte Hornets | 12\n",
       "Brian Roberts   | PG       | Charlotte Hornets | 2.85494\n",
       "... (75 rows omitted)"
      ]
     },
     "execution_count": 7,
     "metadata": {},
     "output_type": "execute_result"
    }
   ],
   "source": [
    "point_guards"
   ]
  },
  {
   "cell_type": "code",
   "execution_count": 8,
   "metadata": {
    "collapsed": true
   },
   "outputs": [],
   "source": [
    "point_guards = point_guards.drop('POSITION')"
   ]
  },
  {
   "cell_type": "code",
   "execution_count": 11,
   "metadata": {},
   "outputs": [
    {
     "data": {
      "text/html": [
       "<table border=\"1\" class=\"dataframe\">\n",
       "    <thead>\n",
       "        <tr>\n",
       "            <th>PLAYER</th> <th>TEAM</th> <th>SALARY</th>\n",
       "        </tr>\n",
       "    </thead>\n",
       "    <tbody>\n",
       "        <tr>\n",
       "            <td>Chris Paul             </td> <td>Los Angeles Clippers  </td> <td>21.4687 </td>\n",
       "        </tr>\n",
       "        <tr>\n",
       "            <td>Derrick Rose           </td> <td>Chicago Bulls         </td> <td>20.0931 </td>\n",
       "        </tr>\n",
       "        <tr>\n",
       "            <td>Russell Westbrook      </td> <td>Oklahoma City Thunder </td> <td>16.7442 </td>\n",
       "        </tr>\n",
       "        <tr>\n",
       "            <td>Kyrie Irving           </td> <td>Cleveland Cavaliers   </td> <td>16.4075 </td>\n",
       "        </tr>\n",
       "        <tr>\n",
       "            <td>John Wall              </td> <td>Washington Wizards    </td> <td>15.852  </td>\n",
       "        </tr>\n",
       "        <tr>\n",
       "            <td>Goran Dragic           </td> <td>Miami Heat            </td> <td>14.783  </td>\n",
       "        </tr>\n",
       "        <tr>\n",
       "            <td>Reggie Jackson         </td> <td>Detroit Pistons       </td> <td>13.913  </td>\n",
       "        </tr>\n",
       "        <tr>\n",
       "            <td>Eric Bledsoe           </td> <td>Phoenix Suns          </td> <td>13.5    </td>\n",
       "        </tr>\n",
       "        <tr>\n",
       "            <td>Tony Parker            </td> <td>San Antonio Spurs     </td> <td>13.4375 </td>\n",
       "        </tr>\n",
       "        <tr>\n",
       "            <td>Ricky Rubio            </td> <td>Minnesota Timberwolves</td> <td>12.7    </td>\n",
       "        </tr>\n",
       "        <tr>\n",
       "            <td>Ty Lawson              </td> <td>Houston Rockets       </td> <td>12.4045 </td>\n",
       "        </tr>\n",
       "        <tr>\n",
       "            <td>Kyle Lowry             </td> <td>Toronto Raptors       </td> <td>12      </td>\n",
       "        </tr>\n",
       "        <tr>\n",
       "            <td>Kemba Walker           </td> <td>Charlotte Hornets     </td> <td>12      </td>\n",
       "        </tr>\n",
       "        <tr>\n",
       "            <td>Stephen Curry          </td> <td>Golden State Warriors </td> <td>11.3708 </td>\n",
       "        </tr>\n",
       "        <tr>\n",
       "            <td>Jrue Holiday           </td> <td>New Orleans Pelicans  </td> <td>10.5955 </td>\n",
       "        </tr>\n",
       "        <tr>\n",
       "            <td>Mike Conley            </td> <td>Memphis Grizzlies     </td> <td>9.58843 </td>\n",
       "        </tr>\n",
       "        <tr>\n",
       "            <td>Rajon Rondo            </td> <td>Sacramento Kings      </td> <td>9.5     </td>\n",
       "        </tr>\n",
       "        <tr>\n",
       "            <td>Brandon Jennings       </td> <td>Orlando Magic         </td> <td>8.3445  </td>\n",
       "        </tr>\n",
       "        <tr>\n",
       "            <td>Jeff Teague            </td> <td>Atlanta Hawks         </td> <td>8       </td>\n",
       "        </tr>\n",
       "        <tr>\n",
       "            <td>Avery Bradley          </td> <td>Boston Celtics        </td> <td>7.73034 </td>\n",
       "        </tr>\n",
       "        <tr>\n",
       "            <td>Jose Calderon          </td> <td>New York Knicks       </td> <td>7.40281 </td>\n",
       "        </tr>\n",
       "        <tr>\n",
       "            <td>Cory Joseph            </td> <td>Toronto Raptors       </td> <td>7       </td>\n",
       "        </tr>\n",
       "        <tr>\n",
       "            <td>Rodney Stuckey         </td> <td>Indiana Pacers        </td> <td>7       </td>\n",
       "        </tr>\n",
       "        <tr>\n",
       "            <td>Isaiah Thomas          </td> <td>Boston Celtics        </td> <td>6.91287 </td>\n",
       "        </tr>\n",
       "        <tr>\n",
       "            <td>Greivis Vasquez        </td> <td>Milwaukee Bucks       </td> <td>6.6     </td>\n",
       "        </tr>\n",
       "        <tr>\n",
       "            <td>Patrick Beverley       </td> <td>Houston Rockets       </td> <td>6.48649 </td>\n",
       "        </tr>\n",
       "        <tr>\n",
       "            <td>Jarrett Jack           </td> <td>Brooklyn Nets         </td> <td>6.3     </td>\n",
       "        </tr>\n",
       "        <tr>\n",
       "            <td>Shaun Livingston       </td> <td>Golden State Warriors </td> <td>5.54373 </td>\n",
       "        </tr>\n",
       "        <tr>\n",
       "            <td>Deron Williams         </td> <td>Dallas Mavericks      </td> <td>5.37897 </td>\n",
       "        </tr>\n",
       "        <tr>\n",
       "            <td>D'Angelo Russell       </td> <td>Los Angeles Lakers    </td> <td>5.10312 </td>\n",
       "        </tr>\n",
       "        <tr>\n",
       "            <td>Darren Collison        </td> <td>Sacramento Kings      </td> <td>5.01356 </td>\n",
       "        </tr>\n",
       "        <tr>\n",
       "            <td>Jameer Nelson          </td> <td>Denver Nuggets        </td> <td>4.345   </td>\n",
       "        </tr>\n",
       "        <tr>\n",
       "            <td>Mario Chalmers         </td> <td>Memphis Grizzlies     </td> <td>4.3     </td>\n",
       "        </tr>\n",
       "        <tr>\n",
       "            <td>J.J. Barea             </td> <td>Dallas Mavericks      </td> <td>4.29    </td>\n",
       "        </tr>\n",
       "        <tr>\n",
       "            <td>Damian Lillard         </td> <td>Portland Trail Blazers</td> <td>4.23629 </td>\n",
       "        </tr>\n",
       "        <tr>\n",
       "            <td>Devin Harris           </td> <td>Dallas Mavericks      </td> <td>4.05345 </td>\n",
       "        </tr>\n",
       "        <tr>\n",
       "            <td>Raymond Felton         </td> <td>Dallas Mavericks      </td> <td>3.95031 </td>\n",
       "        </tr>\n",
       "        <tr>\n",
       "            <td>Dante Exum             </td> <td>Utah Jazz             </td> <td>3.77772 </td>\n",
       "        </tr>\n",
       "        <tr>\n",
       "            <td>Patty Mills            </td> <td>San Antonio Spurs     </td> <td>3.57895 </td>\n",
       "        </tr>\n",
       "        <tr>\n",
       "            <td>Marcus Smart           </td> <td>Boston Celtics        </td> <td>3.43104 </td>\n",
       "        </tr>\n",
       "        <tr>\n",
       "            <td>Austin Rivers          </td> <td>Los Angeles Clippers  </td> <td>3.1108  </td>\n",
       "        </tr>\n",
       "        <tr>\n",
       "            <td>Emmanuel Mudiay        </td> <td>Denver Nuggets        </td> <td>3.10224 </td>\n",
       "        </tr>\n",
       "        <tr>\n",
       "            <td>Norris Cole            </td> <td>New Orleans Pelicans  </td> <td>3.03693 </td>\n",
       "        </tr>\n",
       "        <tr>\n",
       "            <td>D.J. Augustin          </td> <td>Oklahoma City Thunder </td> <td>3       </td>\n",
       "        </tr>\n",
       "        <tr>\n",
       "            <td>Jerryd Bayless         </td> <td>Milwaukee Bucks       </td> <td>3       </td>\n",
       "        </tr>\n",
       "        <tr>\n",
       "            <td>Brian Roberts          </td> <td>Charlotte Hornets     </td> <td>2.85494 </td>\n",
       "        </tr>\n",
       "        <tr>\n",
       "            <td>Luke Ridnour           </td> <td>Toronto Raptors       </td> <td>2.75    </td>\n",
       "        </tr>\n",
       "        <tr>\n",
       "            <td>Trey Burke             </td> <td>Utah Jazz             </td> <td>2.65824 </td>\n",
       "        </tr>\n",
       "        <tr>\n",
       "            <td>Elfrid Payton          </td> <td>Orlando Magic         </td> <td>2.50572 </td>\n",
       "        </tr>\n",
       "        <tr>\n",
       "            <td>Shelvin Mack           </td> <td>Utah Jazz             </td> <td>2.43333 </td>\n",
       "        </tr>\n",
       "        <tr>\n",
       "            <td>Michael Carter-Williams</td> <td>Milwaukee Bucks       </td> <td>2.39904 </td>\n",
       "        </tr>\n",
       "        <tr>\n",
       "            <td>Aaron Brooks           </td> <td>Chicago Bulls         </td> <td>2.25    </td>\n",
       "        </tr>\n",
       "        <tr>\n",
       "            <td>Ramon Sessions         </td> <td>Washington Wizards    </td> <td>2.17047 </td>\n",
       "        </tr>\n",
       "        <tr>\n",
       "            <td>Beno Udrih             </td> <td>Memphis Grizzlies     </td> <td>2.17047 </td>\n",
       "        </tr>\n",
       "        <tr>\n",
       "            <td>Zach LaVine            </td> <td>Minnesota Timberwolves</td> <td>2.14836 </td>\n",
       "        </tr>\n",
       "        <tr>\n",
       "            <td>Kendall Marshall       </td> <td>Philadelphia 76ers    </td> <td>2.14477 </td>\n",
       "        </tr>\n",
       "        <tr>\n",
       "            <td>Gary Neal              </td> <td>Washington Wizards    </td> <td>2.139   </td>\n",
       "        </tr>\n",
       "        <tr>\n",
       "            <td>Jeremy Lin             </td> <td>Charlotte Hornets     </td> <td>2.139   </td>\n",
       "        </tr>\n",
       "        <tr>\n",
       "            <td>Mo Williams            </td> <td>Cleveland Cavaliers   </td> <td>2.1     </td>\n",
       "        </tr>\n",
       "        <tr>\n",
       "            <td>Cameron Payne          </td> <td>Oklahoma City Thunder </td> <td>2.02152 </td>\n",
       "        </tr>\n",
       "        <tr>\n",
       "            <td>Terry Rozier           </td> <td>Boston Celtics        </td> <td>1.82436 </td>\n",
       "        </tr>\n",
       "        <tr>\n",
       "            <td>Dennis Schroder        </td> <td>Atlanta Hawks         </td> <td>1.7634  </td>\n",
       "        </tr>\n",
       "        <tr>\n",
       "            <td>Tyler Ennis            </td> <td>Milwaukee Bucks       </td> <td>1.66236 </td>\n",
       "        </tr>\n",
       "        <tr>\n",
       "            <td>Jerian Grant           </td> <td>New York Knicks       </td> <td>1.57236 </td>\n",
       "        </tr>\n",
       "        <tr>\n",
       "            <td>Delon Wright           </td> <td>Toronto Raptors       </td> <td>1.50936 </td>\n",
       "        </tr>\n",
       "        <tr>\n",
       "            <td>Shane Larkin           </td> <td>Brooklyn Nets         </td> <td>1.5     </td>\n",
       "        </tr>\n",
       "        <tr>\n",
       "            <td>Shabazz Napier         </td> <td>Orlando Magic         </td> <td>1.29444 </td>\n",
       "        </tr>\n",
       "        <tr>\n",
       "            <td>Tyus Jones             </td> <td>Minnesota Timberwolves</td> <td>1.28208 </td>\n",
       "        </tr>\n",
       "        <tr>\n",
       "            <td>Toney Douglas          </td> <td>New Orleans Pelicans  </td> <td>1.16486 </td>\n",
       "        </tr>\n",
       "        <tr>\n",
       "            <td>Matthew Dellavedova    </td> <td>Cleveland Cavaliers   </td> <td>1.14728 </td>\n",
       "        </tr>\n",
       "        <tr>\n",
       "            <td>Joe Young              </td> <td>Indiana Pacers        </td> <td>1.00703 </td>\n",
       "        </tr>\n",
       "        <tr>\n",
       "            <td>Pablo Prigioni         </td> <td>Los Angeles Clippers  </td> <td>0.947726</td>\n",
       "        </tr>\n",
       "        <tr>\n",
       "            <td>Ray McCallum           </td> <td>San Antonio Spurs     </td> <td>0.947276</td>\n",
       "        </tr>\n",
       "        <tr>\n",
       "            <td>Jorge Gutierrez        </td> <td>Charlotte Hornets     </td> <td>0.947276</td>\n",
       "        </tr>\n",
       "        <tr>\n",
       "            <td>Raul Neto              </td> <td>Utah Jazz             </td> <td>0.9     </td>\n",
       "        </tr>\n",
       "        <tr>\n",
       "            <td>Jimmer Fredette        </td> <td>New York Knicks       </td> <td>0.874837</td>\n",
       "        </tr>\n",
       "        <tr>\n",
       "            <td>Russ Smith             </td> <td>Memphis Grizzlies     </td> <td>0.845059</td>\n",
       "        </tr>\n",
       "        <tr>\n",
       "            <td>Bryce Cotton           </td> <td>Phoenix Suns          </td> <td>0.700902</td>\n",
       "        </tr>\n",
       "        <tr>\n",
       "            <td>Shannon Scott          </td> <td>Toronto Raptors       </td> <td>0.525093</td>\n",
       "        </tr>\n",
       "        <tr>\n",
       "            <td>Bo McCalebb            </td> <td>New Orleans Pelicans  </td> <td>0.525093</td>\n",
       "        </tr>\n",
       "        <tr>\n",
       "            <td>Corey Hawkins          </td> <td>Miami Heat            </td> <td>0.525093</td>\n",
       "        </tr>\n",
       "        <tr>\n",
       "            <td>Lorenzo Brown          </td> <td>Phoenix Suns          </td> <td>0.111444</td>\n",
       "        </tr>\n",
       "        <tr>\n",
       "            <td>Erick Green            </td> <td>Utah Jazz             </td> <td>0.099418</td>\n",
       "        </tr>\n",
       "        <tr>\n",
       "            <td>Keith Appling          </td> <td>Orlando Magic         </td> <td>0.061776</td>\n",
       "        </tr>\n",
       "        <tr>\n",
       "            <td>Phil Pressey           </td> <td>Phoenix Suns          </td> <td>0.055722</td>\n",
       "        </tr>\n",
       "    </tbody>\n",
       "</table>"
      ],
      "text/plain": [
       "<IPython.core.display.HTML object>"
      ]
     },
     "metadata": {},
     "output_type": "display_data"
    }
   ],
   "source": [
    "point_guards.sort('SALARY', descending=True).show()"
   ]
  },
  {
   "cell_type": "code",
   "execution_count": 14,
   "metadata": {},
   "outputs": [
    {
     "data": {
      "text/html": [
       "<table border=\"1\" class=\"dataframe\">\n",
       "    <thead>\n",
       "        <tr>\n",
       "            <th>PLAYER</th> <th>TEAM</th> <th>SALARY</th>\n",
       "        </tr>\n",
       "    </thead>\n",
       "    <tbody>\n",
       "        <tr>\n",
       "            <td>Chris Paul       </td> <td>Los Angeles Clippers  </td> <td>21.4687</td>\n",
       "        </tr>\n",
       "        <tr>\n",
       "            <td>Derrick Rose     </td> <td>Chicago Bulls         </td> <td>20.0931</td>\n",
       "        </tr>\n",
       "        <tr>\n",
       "            <td>Russell Westbrook</td> <td>Oklahoma City Thunder </td> <td>16.7442</td>\n",
       "        </tr>\n",
       "        <tr>\n",
       "            <td>Kyrie Irving     </td> <td>Cleveland Cavaliers   </td> <td>16.4075</td>\n",
       "        </tr>\n",
       "        <tr>\n",
       "            <td>John Wall        </td> <td>Washington Wizards    </td> <td>15.852 </td>\n",
       "        </tr>\n",
       "        <tr>\n",
       "            <td>Goran Dragic     </td> <td>Miami Heat            </td> <td>14.783 </td>\n",
       "        </tr>\n",
       "        <tr>\n",
       "            <td>Reggie Jackson   </td> <td>Detroit Pistons       </td> <td>13.913 </td>\n",
       "        </tr>\n",
       "        <tr>\n",
       "            <td>Eric Bledsoe     </td> <td>Phoenix Suns          </td> <td>13.5   </td>\n",
       "        </tr>\n",
       "        <tr>\n",
       "            <td>Tony Parker      </td> <td>San Antonio Spurs     </td> <td>13.4375</td>\n",
       "        </tr>\n",
       "        <tr>\n",
       "            <td>Ricky Rubio      </td> <td>Minnesota Timberwolves</td> <td>12.7   </td>\n",
       "        </tr>\n",
       "        <tr>\n",
       "            <td>Ty Lawson        </td> <td>Houston Rockets       </td> <td>12.4045</td>\n",
       "        </tr>\n",
       "        <tr>\n",
       "            <td>Kyle Lowry       </td> <td>Toronto Raptors       </td> <td>12     </td>\n",
       "        </tr>\n",
       "        <tr>\n",
       "            <td>Kemba Walker     </td> <td>Charlotte Hornets     </td> <td>12     </td>\n",
       "        </tr>\n",
       "        <tr>\n",
       "            <td>Stephen Curry    </td> <td>Golden State Warriors </td> <td>11.3708</td>\n",
       "        </tr>\n",
       "        <tr>\n",
       "            <td>Jrue Holiday     </td> <td>New Orleans Pelicans  </td> <td>10.5955</td>\n",
       "        </tr>\n",
       "    </tbody>\n",
       "</table>\n",
       "<p>... (70 rows omitted)</p>"
      ],
      "text/plain": [
       "<IPython.core.display.HTML object>"
      ]
     },
     "metadata": {},
     "output_type": "display_data"
    }
   ],
   "source": [
    "(((nba.where('POSITION', 'PG')).drop('POSITION')).sort('SALARY', descending=True)).show(15)"
   ]
  },
  {
   "cell_type": "code",
   "execution_count": 15,
   "metadata": {},
   "outputs": [
    {
     "ename": "ValueError",
     "evalue": "label \"position\" not in labels ('PLAYER', 'POSITION', 'TEAM', 'SALARY')",
     "output_type": "error",
     "traceback": [
      "\u001b[0;31m---------------------------------------------------------------------------\u001b[0m",
      "\u001b[0;31mValueError\u001b[0m                                Traceback (most recent call last)",
      "\u001b[0;32m<ipython-input-15-ca8922903068>\u001b[0m in \u001b[0;36m<module>\u001b[0;34m()\u001b[0m\n\u001b[0;32m----> 1\u001b[0;31m \u001b[0;34m(\u001b[0m\u001b[0;34m(\u001b[0m\u001b[0;34m(\u001b[0m\u001b[0mnba\u001b[0m\u001b[0;34m.\u001b[0m\u001b[0mwhere\u001b[0m\u001b[0;34m(\u001b[0m\u001b[0;34m'position'\u001b[0m\u001b[0;34m,\u001b[0m \u001b[0;34m'PG'\u001b[0m\u001b[0;34m)\u001b[0m\u001b[0;34m)\u001b[0m\u001b[0;34m.\u001b[0m\u001b[0mdrop\u001b[0m\u001b[0;34m(\u001b[0m\u001b[0;34m'POSITION'\u001b[0m\u001b[0;34m)\u001b[0m\u001b[0;34m)\u001b[0m\u001b[0;34m.\u001b[0m\u001b[0msort\u001b[0m\u001b[0;34m(\u001b[0m\u001b[0;34m'SALARY'\u001b[0m\u001b[0;34m,\u001b[0m \u001b[0mdescending\u001b[0m\u001b[0;34m=\u001b[0m\u001b[0;32mTrue\u001b[0m\u001b[0;34m)\u001b[0m\u001b[0;34m)\u001b[0m\u001b[0;34m.\u001b[0m\u001b[0mshow\u001b[0m\u001b[0;34m(\u001b[0m\u001b[0;36m15\u001b[0m\u001b[0;34m)\u001b[0m\u001b[0;34m\u001b[0m\u001b[0m\n\u001b[0m",
      "\u001b[0;32m~/anaconda3/lib/python3.6/site-packages/datascience/tables.py\u001b[0m in \u001b[0;36mwhere\u001b[0;34m(self, column_or_label, value_or_predicate, other)\u001b[0m\n\u001b[1;32m    781\u001b[0m         \u001b[0mColor\u001b[0m \u001b[0;34m|\u001b[0m \u001b[0mShape\u001b[0m \u001b[0;34m|\u001b[0m \u001b[0mAmount\u001b[0m \u001b[0;34m|\u001b[0m \u001b[0mPrice\u001b[0m\u001b[0;34m\u001b[0m\u001b[0m\n\u001b[1;32m    782\u001b[0m         \"\"\"\n\u001b[0;32m--> 783\u001b[0;31m         \u001b[0mcolumn\u001b[0m \u001b[0;34m=\u001b[0m \u001b[0mself\u001b[0m\u001b[0;34m.\u001b[0m\u001b[0m_get_column\u001b[0m\u001b[0;34m(\u001b[0m\u001b[0mcolumn_or_label\u001b[0m\u001b[0;34m)\u001b[0m\u001b[0;34m\u001b[0m\u001b[0m\n\u001b[0m\u001b[1;32m    784\u001b[0m         \u001b[0;32mif\u001b[0m \u001b[0mother\u001b[0m \u001b[0;32mis\u001b[0m \u001b[0;32mnot\u001b[0m \u001b[0;32mNone\u001b[0m\u001b[0;34m:\u001b[0m\u001b[0;34m\u001b[0m\u001b[0m\n\u001b[1;32m    785\u001b[0m             \u001b[0;32massert\u001b[0m \u001b[0mcallable\u001b[0m\u001b[0;34m(\u001b[0m\u001b[0mvalue_or_predicate\u001b[0m\u001b[0;34m)\u001b[0m\u001b[0;34m,\u001b[0m \u001b[0;34m\"Predicate required for 3-arg where\"\u001b[0m\u001b[0;34m\u001b[0m\u001b[0m\n",
      "\u001b[0;32m~/anaconda3/lib/python3.6/site-packages/datascience/tables.py\u001b[0m in \u001b[0;36m_get_column\u001b[0;34m(self, column_or_label)\u001b[0m\n\u001b[1;32m   1322\u001b[0m             \u001b[0;32mreturn\u001b[0m \u001b[0mself\u001b[0m\u001b[0;34m[\u001b[0m\u001b[0mc\u001b[0m\u001b[0;34m]\u001b[0m\u001b[0;34m\u001b[0m\u001b[0m\n\u001b[1;32m   1323\u001b[0m         \u001b[0;32melif\u001b[0m \u001b[0misinstance\u001b[0m\u001b[0;34m(\u001b[0m\u001b[0mc\u001b[0m\u001b[0;34m,\u001b[0m \u001b[0mstr\u001b[0m\u001b[0;34m)\u001b[0m\u001b[0;34m:\u001b[0m\u001b[0;34m\u001b[0m\u001b[0m\n\u001b[0;32m-> 1324\u001b[0;31m             \u001b[0;32mraise\u001b[0m \u001b[0mValueError\u001b[0m\u001b[0;34m(\u001b[0m\u001b[0;34m'label \"{}\" not in labels {}'\u001b[0m\u001b[0;34m.\u001b[0m\u001b[0mformat\u001b[0m\u001b[0;34m(\u001b[0m\u001b[0mc\u001b[0m\u001b[0;34m,\u001b[0m \u001b[0mself\u001b[0m\u001b[0;34m.\u001b[0m\u001b[0mlabels\u001b[0m\u001b[0;34m)\u001b[0m\u001b[0;34m)\u001b[0m\u001b[0;34m\u001b[0m\u001b[0m\n\u001b[0m\u001b[1;32m   1325\u001b[0m         \u001b[0;32melse\u001b[0m\u001b[0;34m:\u001b[0m\u001b[0;34m\u001b[0m\u001b[0m\n\u001b[1;32m   1326\u001b[0m             \u001b[0;32massert\u001b[0m \u001b[0mlen\u001b[0m\u001b[0;34m(\u001b[0m\u001b[0mc\u001b[0m\u001b[0;34m)\u001b[0m \u001b[0;34m==\u001b[0m \u001b[0mself\u001b[0m\u001b[0;34m.\u001b[0m\u001b[0mnum_rows\u001b[0m\u001b[0;34m,\u001b[0m \u001b[0;34m'column length mismatch'\u001b[0m\u001b[0;34m\u001b[0m\u001b[0m\n",
      "\u001b[0;31mValueError\u001b[0m: label \"position\" not in labels ('PLAYER', 'POSITION', 'TEAM', 'SALARY')"
     ]
    }
   ],
   "source": [
    "(((nba.where('position', 'PG')).drop('POSITION')).sort('SALARY', descending=True)).show(15)"
   ]
  },
  {
   "cell_type": "code",
   "execution_count": 16,
   "metadata": {},
   "outputs": [
    {
     "ename": "ValueError",
     "evalue": "label \"POSITION\" not in labels ('PLAYER', 'TEAM', 'SALARY')",
     "output_type": "error",
     "traceback": [
      "\u001b[0;31m---------------------------------------------------------------------------\u001b[0m",
      "\u001b[0;31mValueError\u001b[0m                                Traceback (most recent call last)",
      "\u001b[0;32m<ipython-input-16-b1128db7cc71>\u001b[0m in \u001b[0;36m<module>\u001b[0;34m()\u001b[0m\n\u001b[0;32m----> 1\u001b[0;31m \u001b[0mnba\u001b[0m\u001b[0;34m.\u001b[0m\u001b[0mdrop\u001b[0m\u001b[0;34m(\u001b[0m\u001b[0;34m'POSITION'\u001b[0m\u001b[0;34m)\u001b[0m\u001b[0;34m.\u001b[0m\u001b[0mwhere\u001b[0m\u001b[0;34m(\u001b[0m\u001b[0;34m'POSITION'\u001b[0m\u001b[0;34m,\u001b[0m \u001b[0;34m'PG'\u001b[0m\u001b[0;34m)\u001b[0m\u001b[0;34m\u001b[0m\u001b[0m\n\u001b[0m",
      "\u001b[0;32m~/anaconda3/lib/python3.6/site-packages/datascience/tables.py\u001b[0m in \u001b[0;36mwhere\u001b[0;34m(self, column_or_label, value_or_predicate, other)\u001b[0m\n\u001b[1;32m    781\u001b[0m         \u001b[0mColor\u001b[0m \u001b[0;34m|\u001b[0m \u001b[0mShape\u001b[0m \u001b[0;34m|\u001b[0m \u001b[0mAmount\u001b[0m \u001b[0;34m|\u001b[0m \u001b[0mPrice\u001b[0m\u001b[0;34m\u001b[0m\u001b[0m\n\u001b[1;32m    782\u001b[0m         \"\"\"\n\u001b[0;32m--> 783\u001b[0;31m         \u001b[0mcolumn\u001b[0m \u001b[0;34m=\u001b[0m \u001b[0mself\u001b[0m\u001b[0;34m.\u001b[0m\u001b[0m_get_column\u001b[0m\u001b[0;34m(\u001b[0m\u001b[0mcolumn_or_label\u001b[0m\u001b[0;34m)\u001b[0m\u001b[0;34m\u001b[0m\u001b[0m\n\u001b[0m\u001b[1;32m    784\u001b[0m         \u001b[0;32mif\u001b[0m \u001b[0mother\u001b[0m \u001b[0;32mis\u001b[0m \u001b[0;32mnot\u001b[0m \u001b[0;32mNone\u001b[0m\u001b[0;34m:\u001b[0m\u001b[0;34m\u001b[0m\u001b[0m\n\u001b[1;32m    785\u001b[0m             \u001b[0;32massert\u001b[0m \u001b[0mcallable\u001b[0m\u001b[0;34m(\u001b[0m\u001b[0mvalue_or_predicate\u001b[0m\u001b[0;34m)\u001b[0m\u001b[0;34m,\u001b[0m \u001b[0;34m\"Predicate required for 3-arg where\"\u001b[0m\u001b[0;34m\u001b[0m\u001b[0m\n",
      "\u001b[0;32m~/anaconda3/lib/python3.6/site-packages/datascience/tables.py\u001b[0m in \u001b[0;36m_get_column\u001b[0;34m(self, column_or_label)\u001b[0m\n\u001b[1;32m   1322\u001b[0m             \u001b[0;32mreturn\u001b[0m \u001b[0mself\u001b[0m\u001b[0;34m[\u001b[0m\u001b[0mc\u001b[0m\u001b[0;34m]\u001b[0m\u001b[0;34m\u001b[0m\u001b[0m\n\u001b[1;32m   1323\u001b[0m         \u001b[0;32melif\u001b[0m \u001b[0misinstance\u001b[0m\u001b[0;34m(\u001b[0m\u001b[0mc\u001b[0m\u001b[0;34m,\u001b[0m \u001b[0mstr\u001b[0m\u001b[0;34m)\u001b[0m\u001b[0;34m:\u001b[0m\u001b[0;34m\u001b[0m\u001b[0m\n\u001b[0;32m-> 1324\u001b[0;31m             \u001b[0;32mraise\u001b[0m \u001b[0mValueError\u001b[0m\u001b[0;34m(\u001b[0m\u001b[0;34m'label \"{}\" not in labels {}'\u001b[0m\u001b[0;34m.\u001b[0m\u001b[0mformat\u001b[0m\u001b[0;34m(\u001b[0m\u001b[0mc\u001b[0m\u001b[0;34m,\u001b[0m \u001b[0mself\u001b[0m\u001b[0;34m.\u001b[0m\u001b[0mlabels\u001b[0m\u001b[0;34m)\u001b[0m\u001b[0;34m)\u001b[0m\u001b[0;34m\u001b[0m\u001b[0m\n\u001b[0m\u001b[1;32m   1325\u001b[0m         \u001b[0;32melse\u001b[0m\u001b[0;34m:\u001b[0m\u001b[0;34m\u001b[0m\u001b[0m\n\u001b[1;32m   1326\u001b[0m             \u001b[0;32massert\u001b[0m \u001b[0mlen\u001b[0m\u001b[0;34m(\u001b[0m\u001b[0mc\u001b[0m\u001b[0;34m)\u001b[0m \u001b[0;34m==\u001b[0m \u001b[0mself\u001b[0m\u001b[0;34m.\u001b[0m\u001b[0mnum_rows\u001b[0m\u001b[0;34m,\u001b[0m \u001b[0;34m'column length mismatch'\u001b[0m\u001b[0;34m\u001b[0m\u001b[0m\n",
      "\u001b[0;31mValueError\u001b[0m: label \"POSITION\" not in labels ('PLAYER', 'TEAM', 'SALARY')"
     ]
    }
   ],
   "source": [
    "nba.drop('POSITION').where('POSITION', 'PG')"
   ]
  },
  {
   "cell_type": "markdown",
   "metadata": {},
   "source": [
    "## Numbers ##"
   ]
  },
  {
   "cell_type": "code",
   "execution_count": 17,
   "metadata": {},
   "outputs": [
    {
     "data": {
      "text/plain": [
       "30"
      ]
     },
     "execution_count": 17,
     "metadata": {},
     "output_type": "execute_result"
    }
   ],
   "source": [
    "30"
   ]
  },
  {
   "cell_type": "code",
   "execution_count": 18,
   "metadata": {},
   "outputs": [
    {
     "data": {
      "text/plain": [
       "30"
      ]
     },
     "execution_count": 18,
     "metadata": {},
     "output_type": "execute_result"
    }
   ],
   "source": [
    "10 * 3    # int"
   ]
  },
  {
   "cell_type": "code",
   "execution_count": 20,
   "metadata": {},
   "outputs": [
    {
     "data": {
      "text/plain": [
       "3.3333333333333335"
      ]
     },
     "execution_count": 20,
     "metadata": {},
     "output_type": "execute_result"
    }
   ],
   "source": [
    "10 / 3    # float"
   ]
  },
  {
   "cell_type": "code",
   "execution_count": 21,
   "metadata": {},
   "outputs": [
    {
     "data": {
      "text/plain": [
       "5.0"
      ]
     },
     "execution_count": 21,
     "metadata": {},
     "output_type": "execute_result"
    }
   ],
   "source": [
    "10 / 2"
   ]
  },
  {
   "cell_type": "code",
   "execution_count": 22,
   "metadata": {},
   "outputs": [
    {
     "data": {
      "text/plain": [
       "1000"
      ]
     },
     "execution_count": 22,
     "metadata": {},
     "output_type": "execute_result"
    }
   ],
   "source": [
    "10 ** 3"
   ]
  },
  {
   "cell_type": "code",
   "execution_count": 23,
   "metadata": {},
   "outputs": [
    {
     "data": {
      "text/plain": [
       "3.1622776601683795"
      ]
     },
     "execution_count": 23,
     "metadata": {},
     "output_type": "execute_result"
    }
   ],
   "source": [
    "10 ** 0.5"
   ]
  },
  {
   "cell_type": "code",
   "execution_count": 25,
   "metadata": {},
   "outputs": [
    {
     "data": {
      "text/plain": [
       "2805763342107369230793809808310885724030151698643898788380662816980113897853769505682553341995361840866283163839674938063847465098181599413516030923830315020297429114484842472806037601633183177392342419552281446098882333113360498936060689417981060580169581781517081000887466986920196787365735472976637384790660527656183529108057677628812897898917415727467403873251697100284318113613171090832770107627373429297578100452541331137972394395518879748252497629953169189742546688743838014842998797222488578482742255590278830326264415887042424349338336685586108014796843647297854686632059611017792593114133643766176826645471505135284339608286440790108605114687261446214106703238304626747430320283170505623593598192482183253323227473361217459497593514576103139354263910235117552944853835259328240635891089203247501395301794244132584186874755797831852390704417457044048557568618633160284149583340352686512009611975784239859264336878392387482791049156912854159715516214706166214466230037339823780492774337274675800289580696315819494418004733412855205155027918058344891850668473780787520539851110601937177777258527635476258052342827179765186381834973522303136829852834242679559888371990546547773735142872611383102742753311234958929602179017609453450788021576889968090558526946002867067155433937025164603278496325064732080655085967120552122358643425906339419468088785812576641170399781555198518542228755764090812514788163758877228031474626249982320173230513790766211051807071509018394299594496298553425032888639575233308427922962072691110016410832613254845558533479779137394546533348267260208654147664661662489837722166465535984470300130195361526724657999247737664119545166367970118960539653700728246780841243422865927822029745430687779341494835511048331091708435435810632677284968867671217350609932555531424276428454845446681148799804144451127195396670373733155503688440766376117308145231339204514518114182442669726926958460263504747823171357759585770665369994677944653246927717262087721616975390825217507408220510861018634338133464060418295047933927635868626199925788463191380080935701443847346532746838349449833204183719520425273508461427363268810901816439207520602455792069406367821658839121277649227555623273564677301331404339603368354187279170542954088017099056552277230318062383216542056927422226999811205450549485589246237819874869638917303541644714356081602468616512144027808621669917967523298847733280998188849126660410144516840751121177122218727312917235905337333060556516611924333661893530040067042505379294125436401184352256775565463142705637306783871882313794728831427529583150846149427004802322087788357968992264438692993009809883875465518646172470495839410492599060455716367637440364630131471750106709132465895371670412945256073822697903510522211765697295922053593229276419226531331408317896936830655815873666355197305378708964668209899291344705444276333578719323904170952074328643811404544256843025709425474387814973960542018630128201161272329024792011740745530212579878161378961127918038096648026162029808878747866210894432543002029434565613132355043777385763831238060952363449797871761622541777453653784081456719940419766751192867804269268505636574832199689538986715250742630200523490339094085425178568698903268320220973567490288420919261018482168538171910000711992076873681129307598675285503345960161016391830728260326693428202177160119543736800344297771481079627076988031975978575895647654221558620092991884687091862613605722144271490738163190650508558761186844994717152403269557878581184075275936408939256017646715559306260196259010170427037361073267573147026510628695621128132172515464076418742940103113964611681699407950967774413428184355249041334714765827480675899800235537773385443229622067233523354213261412403375030932576886654499317808172035910623439488923497729990034132955991616175315301110003136655552464696428279778365477406164307525011119783055047664864798818426307604172381073695798688377889193415423645042188927398145864445871680431617772823584658707705057426132797633601281478887542871708884776132993498113629791075212269131263135104211901928478309667400642477145201362433365658578707267018122388906853103264797837550314906826327964589811537800151348078278689526492266541600168152334174087551992509222975658050902151573849522445074588731109036554789680280345720046009120507928152632018078697710120218368147570599141031673300682348326156497244011574817802187099834880327346210624556369660018678859929271654108596951193479453034452114779847850504280525490303492730731848704497321639579545359051407002629069912400518470707512308477494989006390249351273561453957767103749105099486859441823499120103359974562095361878219993785312682108204349115081403854873968693651144816992008787094413654541840750267945428940655147102103776877924495354589674471203663800973702240269677784610346010441824261817763592599870546594987128802020889878623694800247575251661439276157008847529529237192162577463356503617323132760079688627706444510425779441871297035026396768851129501722454220316418777074912838238391162658683371634959415544181384058154251960767217101632139258312150904777623156788937309713540569306765232165671618935868039816292110221657560493742908804867952618200515005539316960724088551539133626302522557345413249384658492371698805093289004717340532810196692880918816862832405941920828302568461913904088702147654713878056218117011839094769918168741678648022940613796829566893389100562532347981860917540264049"
      ]
     },
     "execution_count": 25,
     "metadata": {},
     "output_type": "execute_result"
    }
   ],
   "source": [
    "1234567 ** 890"
   ]
  },
  {
   "cell_type": "code",
   "execution_count": 26,
   "metadata": {},
   "outputs": [
    {
     "data": {
      "text/plain": [
       "3.3333333333333335"
      ]
     },
     "execution_count": 26,
     "metadata": {},
     "output_type": "execute_result"
    }
   ],
   "source": [
    "10 / 3"
   ]
  },
  {
   "cell_type": "code",
   "execution_count": 27,
   "metadata": {},
   "outputs": [
    {
     "data": {
      "text/plain": [
       "75892745.21548925"
      ]
     },
     "execution_count": 27,
     "metadata": {},
     "output_type": "execute_result"
    }
   ],
   "source": [
    "75892745.215489247589274985712"
   ]
  },
  {
   "cell_type": "code",
   "execution_count": 28,
   "metadata": {},
   "outputs": [
    {
     "data": {
      "text/plain": [
       "0.0"
      ]
     },
     "execution_count": 28,
     "metadata": {},
     "output_type": "execute_result"
    }
   ],
   "source": [
    "75892745.215489247589274985712 - 75892745.21548925"
   ]
  },
  {
   "cell_type": "code",
   "execution_count": 30,
   "metadata": {},
   "outputs": [
    {
     "data": {
      "text/plain": [
       "12.999999999999998"
      ]
     },
     "execution_count": 30,
     "metadata": {},
     "output_type": "execute_result"
    }
   ],
   "source": [
    "(13 ** 0.5) ** 2"
   ]
  },
  {
   "cell_type": "code",
   "execution_count": 33,
   "metadata": {},
   "outputs": [
    {
     "data": {
      "text/plain": [
       "2"
      ]
     },
     "execution_count": 33,
     "metadata": {},
     "output_type": "execute_result"
    }
   ],
   "source": [
    "int(10 / 5)"
   ]
  },
  {
   "cell_type": "code",
   "execution_count": 34,
   "metadata": {},
   "outputs": [
    {
     "data": {
      "text/plain": [
       "2"
      ]
     },
     "execution_count": 34,
     "metadata": {},
     "output_type": "execute_result"
    }
   ],
   "source": [
    "int(10 / 4)"
   ]
  },
  {
   "cell_type": "code",
   "execution_count": 35,
   "metadata": {},
   "outputs": [
    {
     "data": {
      "text/plain": [
       "3.0"
      ]
     },
     "execution_count": 35,
     "metadata": {},
     "output_type": "execute_result"
    }
   ],
   "source": [
    "float(3)"
   ]
  },
  {
   "cell_type": "code",
   "execution_count": 36,
   "metadata": {},
   "outputs": [
    {
     "data": {
      "text/plain": [
       "1.5"
      ]
     },
     "execution_count": 36,
     "metadata": {},
     "output_type": "execute_result"
    }
   ],
   "source": [
    "6 / 4"
   ]
  },
  {
   "cell_type": "code",
   "execution_count": 38,
   "metadata": {},
   "outputs": [
    {
     "data": {
      "text/plain": [
       "0.0015"
      ]
     },
     "execution_count": 38,
     "metadata": {},
     "output_type": "execute_result"
    }
   ],
   "source": [
    "6 / 4000"
   ]
  },
  {
   "cell_type": "code",
   "execution_count": 39,
   "metadata": {},
   "outputs": [
    {
     "data": {
      "text/plain": [
       "1.5e-56"
      ]
     },
     "execution_count": 39,
     "metadata": {},
     "output_type": "execute_result"
    }
   ],
   "source": [
    "6 / 400000000000000000000000000000000000000000000000000000000"
   ]
  },
  {
   "cell_type": "code",
   "execution_count": 40,
   "metadata": {},
   "outputs": [
    {
     "data": {
      "text/plain": [
       "6.0"
      ]
     },
     "execution_count": 40,
     "metadata": {},
     "output_type": "execute_result"
    }
   ],
   "source": [
    "400000000000000000000000000000000000000000000000000000000 * 1.5e-56 "
   ]
  },
  {
   "cell_type": "code",
   "execution_count": 41,
   "metadata": {},
   "outputs": [
    {
     "data": {
      "text/plain": [
       "1.5e-56"
      ]
     },
     "execution_count": 41,
     "metadata": {},
     "output_type": "execute_result"
    }
   ],
   "source": [
    "1.5e-56 "
   ]
  },
  {
   "cell_type": "code",
   "execution_count": 42,
   "metadata": {
    "collapsed": true
   },
   "outputs": [],
   "source": [
    "x = 5"
   ]
  },
  {
   "cell_type": "code",
   "execution_count": 43,
   "metadata": {},
   "outputs": [
    {
     "ename": "SyntaxError",
     "evalue": "invalid syntax (<ipython-input-43-2e585cac9259>, line 1)",
     "output_type": "error",
     "traceback": [
      "\u001b[0;36m  File \u001b[0;32m\"<ipython-input-43-2e585cac9259>\"\u001b[0;36m, line \u001b[0;32m1\u001b[0m\n\u001b[0;31m    2x\u001b[0m\n\u001b[0m     ^\u001b[0m\n\u001b[0;31mSyntaxError\u001b[0m\u001b[0;31m:\u001b[0m invalid syntax\n"
     ]
    }
   ],
   "source": [
    "2x"
   ]
  },
  {
   "cell_type": "code",
   "execution_count": 44,
   "metadata": {},
   "outputs": [
    {
     "data": {
      "text/plain": [
       "10"
      ]
     },
     "execution_count": 44,
     "metadata": {},
     "output_type": "execute_result"
    }
   ],
   "source": [
    "2 * x"
   ]
  },
  {
   "cell_type": "code",
   "execution_count": 47,
   "metadata": {},
   "outputs": [
    {
     "data": {
      "text/plain": [
       "4"
      ]
     },
     "execution_count": 47,
     "metadata": {},
     "output_type": "execute_result"
    }
   ],
   "source": [
    "round(3.7)"
   ]
  },
  {
   "cell_type": "code",
   "execution_count": 49,
   "metadata": {},
   "outputs": [
    {
     "data": {
      "text/plain": [
       "2.0"
      ]
     },
     "execution_count": 49,
     "metadata": {},
     "output_type": "execute_result"
    }
   ],
   "source": [
    "round(2.00000052345324, 2)"
   ]
  },
  {
   "cell_type": "code",
   "execution_count": 50,
   "metadata": {},
   "outputs": [
    {
     "data": {
      "text/plain": [
       "30.0"
      ]
     },
     "execution_count": 50,
     "metadata": {},
     "output_type": "execute_result"
    }
   ],
   "source": [
    "10 * 3.0"
   ]
  },
  {
   "cell_type": "code",
   "execution_count": null,
   "metadata": {
    "collapsed": true
   },
   "outputs": [],
   "source": []
  },
  {
   "cell_type": "code",
   "execution_count": null,
   "metadata": {
    "collapsed": true
   },
   "outputs": [],
   "source": []
  },
  {
   "cell_type": "code",
   "execution_count": null,
   "metadata": {
    "collapsed": true
   },
   "outputs": [],
   "source": []
  },
  {
   "cell_type": "code",
   "execution_count": null,
   "metadata": {
    "collapsed": true
   },
   "outputs": [],
   "source": []
  },
  {
   "cell_type": "markdown",
   "metadata": {},
   "source": [
    "## Strings ##"
   ]
  },
  {
   "cell_type": "code",
   "execution_count": 51,
   "metadata": {},
   "outputs": [
    {
     "data": {
      "text/plain": [
       "'Flavor'"
      ]
     },
     "execution_count": 51,
     "metadata": {},
     "output_type": "execute_result"
    }
   ],
   "source": [
    "'Flavor'"
   ]
  },
  {
   "cell_type": "code",
   "execution_count": 52,
   "metadata": {
    "scrolled": true
   },
   "outputs": [
    {
     "ename": "NameError",
     "evalue": "name 'Flavor' is not defined",
     "output_type": "error",
     "traceback": [
      "\u001b[0;31m---------------------------------------------------------------------------\u001b[0m",
      "\u001b[0;31mNameError\u001b[0m                                 Traceback (most recent call last)",
      "\u001b[0;32m<ipython-input-52-5cee367b622b>\u001b[0m in \u001b[0;36m<module>\u001b[0;34m()\u001b[0m\n\u001b[0;32m----> 1\u001b[0;31m \u001b[0mFlavor\u001b[0m\u001b[0;34m\u001b[0m\u001b[0m\n\u001b[0m",
      "\u001b[0;31mNameError\u001b[0m: name 'Flavor' is not defined"
     ]
    }
   ],
   "source": [
    "Flavor"
   ]
  },
  {
   "cell_type": "code",
   "execution_count": 53,
   "metadata": {},
   "outputs": [
    {
     "data": {
      "text/plain": [
       "'Flavor'"
      ]
     },
     "execution_count": 53,
     "metadata": {},
     "output_type": "execute_result"
    }
   ],
   "source": [
    "\"Flavor\""
   ]
  },
  {
   "cell_type": "code",
   "execution_count": 54,
   "metadata": {},
   "outputs": [
    {
     "data": {
      "text/plain": [
       "\"hey y'all\""
      ]
     },
     "execution_count": 54,
     "metadata": {},
     "output_type": "execute_result"
    }
   ],
   "source": [
    "\"hey y'all\""
   ]
  },
  {
   "cell_type": "code",
   "execution_count": 55,
   "metadata": {},
   "outputs": [
    {
     "ename": "SyntaxError",
     "evalue": "invalid syntax (<ipython-input-55-62f736c5d047>, line 1)",
     "output_type": "error",
     "traceback": [
      "\u001b[0;36m  File \u001b[0;32m\"<ipython-input-55-62f736c5d047>\"\u001b[0;36m, line \u001b[0;32m1\u001b[0m\n\u001b[0;31m    'hey y'all'\u001b[0m\n\u001b[0m             ^\u001b[0m\n\u001b[0;31mSyntaxError\u001b[0m\u001b[0;31m:\u001b[0m invalid syntax\n"
     ]
    }
   ],
   "source": [
    "'hey y'all'"
   ]
  },
  {
   "cell_type": "code",
   "execution_count": 56,
   "metadata": {},
   "outputs": [
    {
     "data": {
      "text/plain": [
       "'strawberry'"
      ]
     },
     "execution_count": 56,
     "metadata": {},
     "output_type": "execute_result"
    }
   ],
   "source": [
    "'straw' + 'berry' # concatenation"
   ]
  },
  {
   "cell_type": "code",
   "execution_count": 57,
   "metadata": {},
   "outputs": [
    {
     "data": {
      "text/plain": [
       "'hahahahahahahahahahahahahahahahahahahahahahahahahahahahahahahahahahahahahahahahahahahahahahahahahahahahahahahahahahahahahahahahahahahahahahahahahahahahahahahahahahahahahahahahahahahahahahahahahahahaha'"
      ]
     },
     "execution_count": 57,
     "metadata": {},
     "output_type": "execute_result"
    }
   ],
   "source": [
    "'ha' * 100"
   ]
  },
  {
   "cell_type": "code",
   "execution_count": 59,
   "metadata": {},
   "outputs": [
    {
     "ename": "TypeError",
     "evalue": "can't multiply sequence by non-int of type 'float'",
     "output_type": "error",
     "traceback": [
      "\u001b[0;31m---------------------------------------------------------------------------\u001b[0m",
      "\u001b[0;31mTypeError\u001b[0m                                 Traceback (most recent call last)",
      "\u001b[0;32m<ipython-input-59-2d05398671ee>\u001b[0m in \u001b[0;36m<module>\u001b[0;34m()\u001b[0m\n\u001b[0;32m----> 1\u001b[0;31m \u001b[0;34m'lo'\u001b[0m \u001b[0;34m*\u001b[0m \u001b[0;36m5.5\u001b[0m\u001b[0;34m\u001b[0m\u001b[0m\n\u001b[0m",
      "\u001b[0;31mTypeError\u001b[0m: can't multiply sequence by non-int of type 'float'"
     ]
    }
   ],
   "source": [
    "'lo' * 5.5"
   ]
  },
  {
   "cell_type": "code",
   "execution_count": 60,
   "metadata": {},
   "outputs": [
    {
     "ename": "TypeError",
     "evalue": "must be str, not int",
     "output_type": "error",
     "traceback": [
      "\u001b[0;31m---------------------------------------------------------------------------\u001b[0m",
      "\u001b[0;31mTypeError\u001b[0m                                 Traceback (most recent call last)",
      "\u001b[0;32m<ipython-input-60-03c3f7356cd2>\u001b[0m in \u001b[0;36m<module>\u001b[0;34m()\u001b[0m\n\u001b[0;32m----> 1\u001b[0;31m \u001b[0;34m'ha'\u001b[0m \u001b[0;34m+\u001b[0m \u001b[0;36m10\u001b[0m\u001b[0;34m\u001b[0m\u001b[0m\n\u001b[0m",
      "\u001b[0;31mTypeError\u001b[0m: must be str, not int"
     ]
    }
   ],
   "source": [
    "'ha' + 10"
   ]
  },
  {
   "cell_type": "code",
   "execution_count": 61,
   "metadata": {},
   "outputs": [
    {
     "data": {
      "text/plain": [
       "3"
      ]
     },
     "execution_count": 61,
     "metadata": {},
     "output_type": "execute_result"
    }
   ],
   "source": [
    "int('3')"
   ]
  },
  {
   "cell_type": "code",
   "execution_count": 62,
   "metadata": {},
   "outputs": [
    {
     "ename": "ValueError",
     "evalue": "invalid literal for int() with base 10: '3.0'",
     "output_type": "error",
     "traceback": [
      "\u001b[0;31m---------------------------------------------------------------------------\u001b[0m",
      "\u001b[0;31mValueError\u001b[0m                                Traceback (most recent call last)",
      "\u001b[0;32m<ipython-input-62-307cf0bd408b>\u001b[0m in \u001b[0;36m<module>\u001b[0;34m()\u001b[0m\n\u001b[0;32m----> 1\u001b[0;31m \u001b[0mint\u001b[0m\u001b[0;34m(\u001b[0m\u001b[0;34m'3.0'\u001b[0m\u001b[0;34m)\u001b[0m\u001b[0;34m\u001b[0m\u001b[0m\n\u001b[0m",
      "\u001b[0;31mValueError\u001b[0m: invalid literal for int() with base 10: '3.0'"
     ]
    }
   ],
   "source": [
    "int('3.0')"
   ]
  },
  {
   "cell_type": "code",
   "execution_count": 63,
   "metadata": {},
   "outputs": [
    {
     "data": {
      "text/plain": [
       "3.0"
      ]
     },
     "execution_count": 63,
     "metadata": {},
     "output_type": "execute_result"
    }
   ],
   "source": [
    "float('3.0')"
   ]
  },
  {
   "cell_type": "code",
   "execution_count": 64,
   "metadata": {},
   "outputs": [
    {
     "data": {
      "text/plain": [
       "'3'"
      ]
     },
     "execution_count": 64,
     "metadata": {},
     "output_type": "execute_result"
    }
   ],
   "source": [
    "str(3)"
   ]
  },
  {
   "cell_type": "code",
   "execution_count": 65,
   "metadata": {},
   "outputs": [
    {
     "data": {
      "text/plain": [
       "'4.5'"
      ]
     },
     "execution_count": 65,
     "metadata": {},
     "output_type": "execute_result"
    }
   ],
   "source": [
    "str(4.5)"
   ]
  },
  {
   "cell_type": "code",
   "execution_count": null,
   "metadata": {
    "collapsed": true
   },
   "outputs": [],
   "source": []
  },
  {
   "cell_type": "code",
   "execution_count": null,
   "metadata": {
    "collapsed": true
   },
   "outputs": [],
   "source": []
  },
  {
   "cell_type": "code",
   "execution_count": null,
   "metadata": {
    "collapsed": true
   },
   "outputs": [],
   "source": []
  },
  {
   "cell_type": "code",
   "execution_count": null,
   "metadata": {
    "collapsed": true
   },
   "outputs": [],
   "source": []
  },
  {
   "cell_type": "code",
   "execution_count": null,
   "metadata": {
    "collapsed": true
   },
   "outputs": [],
   "source": []
  },
  {
   "cell_type": "markdown",
   "metadata": {},
   "source": [
    "## Types ##"
   ]
  },
  {
   "cell_type": "code",
   "execution_count": 66,
   "metadata": {},
   "outputs": [
    {
     "data": {
      "text/plain": [
       "int"
      ]
     },
     "execution_count": 66,
     "metadata": {},
     "output_type": "execute_result"
    }
   ],
   "source": [
    "type(10)"
   ]
  },
  {
   "cell_type": "code",
   "execution_count": 67,
   "metadata": {
    "collapsed": true
   },
   "outputs": [],
   "source": [
    "a = 10"
   ]
  },
  {
   "cell_type": "code",
   "execution_count": 68,
   "metadata": {},
   "outputs": [
    {
     "data": {
      "text/plain": [
       "int"
      ]
     },
     "execution_count": 68,
     "metadata": {},
     "output_type": "execute_result"
    }
   ],
   "source": [
    "type(a)"
   ]
  },
  {
   "cell_type": "code",
   "execution_count": 69,
   "metadata": {},
   "outputs": [
    {
     "data": {
      "text/plain": [
       "float"
      ]
     },
     "execution_count": 69,
     "metadata": {},
     "output_type": "execute_result"
    }
   ],
   "source": [
    "type(4.5)"
   ]
  },
  {
   "cell_type": "code",
   "execution_count": 70,
   "metadata": {},
   "outputs": [
    {
     "data": {
      "text/plain": [
       "str"
      ]
     },
     "execution_count": 70,
     "metadata": {},
     "output_type": "execute_result"
    }
   ],
   "source": [
    "type('abc')"
   ]
  },
  {
   "cell_type": "code",
   "execution_count": 71,
   "metadata": {},
   "outputs": [
    {
     "data": {
      "text/plain": [
       "datascience.tables.Table"
      ]
     },
     "execution_count": 71,
     "metadata": {},
     "output_type": "execute_result"
    }
   ],
   "source": [
    "type(nba)"
   ]
  },
  {
   "cell_type": "code",
   "execution_count": 72,
   "metadata": {},
   "outputs": [
    {
     "data": {
      "text/plain": [
       "bool"
      ]
     },
     "execution_count": 72,
     "metadata": {},
     "output_type": "execute_result"
    }
   ],
   "source": [
    "type(True)"
   ]
  },
  {
   "cell_type": "code",
   "execution_count": 73,
   "metadata": {},
   "outputs": [
    {
     "data": {
      "text/plain": [
       "builtin_function_or_method"
      ]
     },
     "execution_count": 73,
     "metadata": {},
     "output_type": "execute_result"
    }
   ],
   "source": [
    "type(abs)"
   ]
  },
  {
   "cell_type": "code",
   "execution_count": null,
   "metadata": {
    "collapsed": true
   },
   "outputs": [],
   "source": []
  },
  {
   "cell_type": "code",
   "execution_count": null,
   "metadata": {
    "collapsed": true
   },
   "outputs": [],
   "source": []
  },
  {
   "cell_type": "markdown",
   "metadata": {},
   "source": [
    "## Arrays ##"
   ]
  },
  {
   "cell_type": "code",
   "execution_count": 75,
   "metadata": {
    "collapsed": true
   },
   "outputs": [],
   "source": [
    "my_array = np.array([1, 2, 3, 4])"
   ]
  },
  {
   "cell_type": "code",
   "execution_count": 76,
   "metadata": {},
   "outputs": [
    {
     "data": {
      "text/plain": [
       "array([1, 2, 3, 4])"
      ]
     },
     "execution_count": 76,
     "metadata": {},
     "output_type": "execute_result"
    }
   ],
   "source": [
    "my_array"
   ]
  },
  {
   "cell_type": "code",
   "execution_count": 77,
   "metadata": {},
   "outputs": [
    {
     "data": {
      "text/plain": [
       "array([2, 4, 6, 8])"
      ]
     },
     "execution_count": 77,
     "metadata": {},
     "output_type": "execute_result"
    }
   ],
   "source": [
    "my_array * 2"
   ]
  },
  {
   "cell_type": "code",
   "execution_count": 78,
   "metadata": {},
   "outputs": [
    {
     "data": {
      "text/plain": [
       "array([ 1,  4,  9, 16])"
      ]
     },
     "execution_count": 78,
     "metadata": {},
     "output_type": "execute_result"
    }
   ],
   "source": [
    "my_array ** 2"
   ]
  },
  {
   "cell_type": "code",
   "execution_count": 79,
   "metadata": {},
   "outputs": [
    {
     "data": {
      "text/plain": [
       "array([2, 3, 4, 5])"
      ]
     },
     "execution_count": 79,
     "metadata": {},
     "output_type": "execute_result"
    }
   ],
   "source": [
    "my_array + 1"
   ]
  },
  {
   "cell_type": "code",
   "execution_count": 80,
   "metadata": {},
   "outputs": [
    {
     "data": {
      "text/plain": [
       "array([1, 2, 3, 4])"
      ]
     },
     "execution_count": 80,
     "metadata": {},
     "output_type": "execute_result"
    }
   ],
   "source": [
    "my_array"
   ]
  },
  {
   "cell_type": "code",
   "execution_count": 81,
   "metadata": {
    "collapsed": true
   },
   "outputs": [],
   "source": [
    "another = np.array([5, 6, 7, 8])"
   ]
  },
  {
   "cell_type": "code",
   "execution_count": 82,
   "metadata": {},
   "outputs": [
    {
     "data": {
      "text/plain": [
       "array([ 6,  8, 10, 12])"
      ]
     },
     "execution_count": 82,
     "metadata": {},
     "output_type": "execute_result"
    }
   ],
   "source": [
    "my_array + another"
   ]
  },
  {
   "cell_type": "code",
   "execution_count": 83,
   "metadata": {
    "collapsed": true
   },
   "outputs": [],
   "source": [
    "yet_another = np.array([5, 6, 7])"
   ]
  },
  {
   "cell_type": "code",
   "execution_count": 84,
   "metadata": {},
   "outputs": [
    {
     "ename": "ValueError",
     "evalue": "operands could not be broadcast together with shapes (4,) (3,) ",
     "output_type": "error",
     "traceback": [
      "\u001b[0;31m---------------------------------------------------------------------------\u001b[0m",
      "\u001b[0;31mValueError\u001b[0m                                Traceback (most recent call last)",
      "\u001b[0;32m<ipython-input-84-7636878375be>\u001b[0m in \u001b[0;36m<module>\u001b[0;34m()\u001b[0m\n\u001b[0;32m----> 1\u001b[0;31m \u001b[0mmy_array\u001b[0m \u001b[0;34m+\u001b[0m \u001b[0myet_another\u001b[0m\u001b[0;34m\u001b[0m\u001b[0m\n\u001b[0m",
      "\u001b[0;31mValueError\u001b[0m: operands could not be broadcast together with shapes (4,) (3,) "
     ]
    }
   ],
   "source": [
    "my_array + yet_another"
   ]
  },
  {
   "cell_type": "code",
   "execution_count": 85,
   "metadata": {
    "collapsed": true
   },
   "outputs": [],
   "source": [
    "str_array = np.array(['ha', 'he', 'ho'])"
   ]
  },
  {
   "cell_type": "code",
   "execution_count": 86,
   "metadata": {},
   "outputs": [
    {
     "ename": "TypeError",
     "evalue": "ufunc 'multiply' did not contain a loop with signature matching types dtype('<U3') dtype('<U3') dtype('<U3')",
     "output_type": "error",
     "traceback": [
      "\u001b[0;31m---------------------------------------------------------------------------\u001b[0m",
      "\u001b[0;31mTypeError\u001b[0m                                 Traceback (most recent call last)",
      "\u001b[0;32m<ipython-input-86-c31824d70d9e>\u001b[0m in \u001b[0;36m<module>\u001b[0;34m()\u001b[0m\n\u001b[0;32m----> 1\u001b[0;31m \u001b[0mstr_array\u001b[0m \u001b[0;34m*\u001b[0m \u001b[0;36m4\u001b[0m\u001b[0;34m\u001b[0m\u001b[0m\n\u001b[0m",
      "\u001b[0;31mTypeError\u001b[0m: ufunc 'multiply' did not contain a loop with signature matching types dtype('<U3') dtype('<U3') dtype('<U3')"
     ]
    }
   ],
   "source": [
    "str_array * 4"
   ]
  },
  {
   "cell_type": "code",
   "execution_count": 88,
   "metadata": {},
   "outputs": [
    {
     "data": {
      "text/plain": [
       "10"
      ]
     },
     "execution_count": 88,
     "metadata": {},
     "output_type": "execute_result"
    }
   ],
   "source": [
    "sum(my_array)"
   ]
  },
  {
   "cell_type": "code",
   "execution_count": 89,
   "metadata": {},
   "outputs": [
    {
     "data": {
      "text/plain": [
       "2.5"
      ]
     },
     "execution_count": 89,
     "metadata": {},
     "output_type": "execute_result"
    }
   ],
   "source": [
    "np.average(my_array)"
   ]
  },
  {
   "cell_type": "code",
   "execution_count": null,
   "metadata": {
    "collapsed": true
   },
   "outputs": [],
   "source": []
  },
  {
   "cell_type": "code",
   "execution_count": null,
   "metadata": {
    "collapsed": true
   },
   "outputs": [],
   "source": []
  },
  {
   "cell_type": "code",
   "execution_count": 87,
   "metadata": {},
   "outputs": [
    {
     "data": {
      "text/plain": [
       "4"
      ]
     },
     "execution_count": 87,
     "metadata": {},
     "output_type": "execute_result"
    }
   ],
   "source": [
    "len(my_array)"
   ]
  },
  {
   "cell_type": "code",
   "execution_count": null,
   "metadata": {
    "collapsed": true
   },
   "outputs": [],
   "source": []
  },
  {
   "cell_type": "markdown",
   "metadata": {},
   "source": [
    "## Columns of Tables are Arrays ##"
   ]
  },
  {
   "cell_type": "code",
   "execution_count": 90,
   "metadata": {
    "collapsed": true
   },
   "outputs": [],
   "source": [
    "warriors = nba.where('TEAM', 'Golden State Warriors')"
   ]
  },
  {
   "cell_type": "code",
   "execution_count": 91,
   "metadata": {},
   "outputs": [
    {
     "data": {
      "text/html": [
       "<table border=\"1\" class=\"dataframe\">\n",
       "    <thead>\n",
       "        <tr>\n",
       "            <th>PLAYER</th> <th>POSITION</th> <th>TEAM</th> <th>SALARY</th>\n",
       "        </tr>\n",
       "    </thead>\n",
       "    <tbody>\n",
       "        <tr>\n",
       "            <td>Klay Thompson    </td> <td>SG      </td> <td>Golden State Warriors</td> <td>15.501 </td>\n",
       "        </tr>\n",
       "        <tr>\n",
       "            <td>Draymond Green   </td> <td>PF      </td> <td>Golden State Warriors</td> <td>14.2609</td>\n",
       "        </tr>\n",
       "        <tr>\n",
       "            <td>Andrew Bogut     </td> <td>C       </td> <td>Golden State Warriors</td> <td>13.8   </td>\n",
       "        </tr>\n",
       "        <tr>\n",
       "            <td>Andre Iguodala   </td> <td>SF      </td> <td>Golden State Warriors</td> <td>11.7105</td>\n",
       "        </tr>\n",
       "        <tr>\n",
       "            <td>Stephen Curry    </td> <td>PG      </td> <td>Golden State Warriors</td> <td>11.3708</td>\n",
       "        </tr>\n",
       "        <tr>\n",
       "            <td>Jason Thompson   </td> <td>PF      </td> <td>Golden State Warriors</td> <td>7.00847</td>\n",
       "        </tr>\n",
       "        <tr>\n",
       "            <td>Shaun Livingston </td> <td>PG      </td> <td>Golden State Warriors</td> <td>5.54373</td>\n",
       "        </tr>\n",
       "        <tr>\n",
       "            <td>Harrison Barnes  </td> <td>SF      </td> <td>Golden State Warriors</td> <td>3.8734 </td>\n",
       "        </tr>\n",
       "        <tr>\n",
       "            <td>Marreese Speights</td> <td>C       </td> <td>Golden State Warriors</td> <td>3.815  </td>\n",
       "        </tr>\n",
       "        <tr>\n",
       "            <td>Leandro Barbosa  </td> <td>SG      </td> <td>Golden State Warriors</td> <td>2.5    </td>\n",
       "        </tr>\n",
       "    </tbody>\n",
       "</table>\n",
       "<p>... (4 rows omitted)</p>"
      ],
      "text/plain": [
       "PLAYER            | POSITION | TEAM                  | SALARY\n",
       "Klay Thompson     | SG       | Golden State Warriors | 15.501\n",
       "Draymond Green    | PF       | Golden State Warriors | 14.2609\n",
       "Andrew Bogut      | C        | Golden State Warriors | 13.8\n",
       "Andre Iguodala    | SF       | Golden State Warriors | 11.7105\n",
       "Stephen Curry     | PG       | Golden State Warriors | 11.3708\n",
       "Jason Thompson    | PF       | Golden State Warriors | 7.00847\n",
       "Shaun Livingston  | PG       | Golden State Warriors | 5.54373\n",
       "Harrison Barnes   | SF       | Golden State Warriors | 3.8734\n",
       "Marreese Speights | C        | Golden State Warriors | 3.815\n",
       "Leandro Barbosa   | SG       | Golden State Warriors | 2.5\n",
       "... (4 rows omitted)"
      ]
     },
     "execution_count": 91,
     "metadata": {},
     "output_type": "execute_result"
    }
   ],
   "source": [
    "warriors"
   ]
  },
  {
   "cell_type": "code",
   "execution_count": 92,
   "metadata": {},
   "outputs": [
    {
     "data": {
      "text/html": [
       "<table border=\"1\" class=\"dataframe\">\n",
       "    <thead>\n",
       "        <tr>\n",
       "            <th>SALARY</th>\n",
       "        </tr>\n",
       "    </thead>\n",
       "    <tbody>\n",
       "        <tr>\n",
       "            <td>15.501 </td>\n",
       "        </tr>\n",
       "        <tr>\n",
       "            <td>14.2609</td>\n",
       "        </tr>\n",
       "        <tr>\n",
       "            <td>13.8   </td>\n",
       "        </tr>\n",
       "        <tr>\n",
       "            <td>11.7105</td>\n",
       "        </tr>\n",
       "        <tr>\n",
       "            <td>11.3708</td>\n",
       "        </tr>\n",
       "        <tr>\n",
       "            <td>7.00847</td>\n",
       "        </tr>\n",
       "        <tr>\n",
       "            <td>5.54373</td>\n",
       "        </tr>\n",
       "        <tr>\n",
       "            <td>3.8734 </td>\n",
       "        </tr>\n",
       "        <tr>\n",
       "            <td>3.815  </td>\n",
       "        </tr>\n",
       "        <tr>\n",
       "            <td>2.5    </td>\n",
       "        </tr>\n",
       "    </tbody>\n",
       "</table>\n",
       "<p>... (4 rows omitted)</p>"
      ],
      "text/plain": [
       "SALARY\n",
       "15.501\n",
       "14.2609\n",
       "13.8\n",
       "11.7105\n",
       "11.3708\n",
       "7.00847\n",
       "5.54373\n",
       "3.8734\n",
       "3.815\n",
       "2.5\n",
       "... (4 rows omitted)"
      ]
     },
     "execution_count": 92,
     "metadata": {},
     "output_type": "execute_result"
    }
   ],
   "source": [
    "warriors.select('SALARY')"
   ]
  },
  {
   "cell_type": "code",
   "execution_count": 93,
   "metadata": {},
   "outputs": [
    {
     "data": {
      "text/plain": [
       "array([ 15.501   ,  14.26087 ,  13.8     ,  11.710456,  11.370786,\n",
       "         7.008475,   5.543725,   3.873398,   3.815   ,   2.5     ,\n",
       "         2.008748,   1.270964,   1.13196 ,   0.289755])"
      ]
     },
     "execution_count": 93,
     "metadata": {},
     "output_type": "execute_result"
    }
   ],
   "source": [
    "warriors.column('SALARY')"
   ]
  },
  {
   "cell_type": "code",
   "execution_count": 95,
   "metadata": {},
   "outputs": [
    {
     "data": {
      "text/plain": [
       "6.7203669285714298"
      ]
     },
     "execution_count": 95,
     "metadata": {},
     "output_type": "execute_result"
    }
   ],
   "source": [
    "np.average(warriors.column('SALARY'))"
   ]
  }
 ],
 "metadata": {
  "anaconda-cloud": {},
  "kernelspec": {
   "display_name": "Python 3",
   "language": "python",
   "name": "python3"
  },
  "language_info": {
   "codemirror_mode": {
    "name": "ipython",
    "version": 3
   },
   "file_extension": ".py",
   "mimetype": "text/x-python",
   "name": "python",
   "nbconvert_exporter": "python",
   "pygments_lexer": "ipython3",
   "version": "3.6.3"
  }
 },
 "nbformat": 4,
 "nbformat_minor": 1
}
